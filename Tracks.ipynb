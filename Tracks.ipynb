{
 "cells": [
  {
   "cell_type": "code",
   "execution_count": 1,
   "metadata": {},
   "outputs": [],
   "source": [
    "import openmc\n",
    "import numpy as np\n",
    "import os\n",
    "import math\n",
    "import matplotlib.pyplot as plt\n",
    "import pandas as pd\n",
    "import kdsource as kds\n",
    "from mpl_toolkits.mplot3d import Axes3D as ax"
   ]
  },
  {
   "cell_type": "code",
   "execution_count": 2,
   "metadata": {},
   "outputs": [],
   "source": [
    "openmc_data = \"/home/agusgimenez/KD_OPMC/Secciones/endfb-vii.1-hdf5/cross_sections.xml\"\n",
    "os.environ[\"OPENMC_CROSS_SECTIONS\"] = openmc_data\n",
    "openmc.config['cross_sections'] = openmc_data"
   ]
  },
  {
   "cell_type": "code",
   "execution_count": 3,
   "metadata": {},
   "outputs": [],
   "source": [
    "#MATERIALES\n",
    "\n",
    "\n",
    "\n",
    "\n",
    "\n",
    "mat01 = openmc.Material(material_id=0) #agua\n",
    "mat01.add_nuclide('H1',2.000,'ao')\n",
    "mat01.add_nuclide('O16',0.9976,'ao')\n",
    "mat01.add_nuclide('O17',0.00035,'ao')\n",
    "mat01.add_s_alpha_beta('c_H_in_H2O')\n",
    "mat01.set_density('g/cm3',1.00)\n",
    "\n",
    "\n",
    "mat02 = openmc.Material(material_id=1)\n",
    "mat02.add_nuclide('Cd106',1.22,'ao')\n",
    "mat02.add_nuclide('Cd108',0.88,'ao')\n",
    "mat02.add_nuclide('Cd110',12.39,'ao')\n",
    "mat02.add_nuclide('Cd111',12.75,'ao')\n",
    "mat02.add_nuclide('Cd112',24.07,'ao')\n",
    "mat02.add_nuclide('Cd113',12.26,'ao')\n",
    "mat02.add_nuclide('Cd114',28.86,'ao')\n",
    "mat02.add_nuclide('Cd116',7.58,'ao')\n",
    "\n",
    "mat02.set_density('g/cm3',8.65)\n"
   ]
  },
  {
   "cell_type": "code",
   "execution_count": 4,
   "metadata": {},
   "outputs": [],
   "source": [
    "#PARAMETROS DE GEOMETRIAS\n",
    "\n",
    "#bloque mat01\n",
    "W =5.0 #semi-ancho\n",
    "H =5.0 #semi-alto\n",
    "L =1.0 #largo \n",
    "\n",
    "#bloque donde quiero ver la lista de particulas\n",
    "angle = math.radians(30)\n",
    "\n",
    "# #bloque mat02\n",
    "# e_cd =1.0 #espesor\n",
    "# w_cd =0.1 #ancho de cada bloque\n",
    "# if w_cd>W/2:\n",
    "#     exit\n",
    "\n",
    "\n",
    "#FUENTE\n",
    "R = 1.0"
   ]
  },
  {
   "cell_type": "code",
   "execution_count": 5,
   "metadata": {},
   "outputs": [
    {
     "data": {
      "text/plain": [
       "<matplotlib.image.AxesImage at 0x7f698a9606d0>"
      ]
     },
     "execution_count": 5,
     "metadata": {},
     "output_type": "execute_result"
    },
    {
     "data": {
      "image/png": "[encoded data removed]",
      "text/plain": [
       "<Figure size 258.065x259.74 with 1 Axes>"
      ]
     },
     "metadata": {},
     "output_type": "display_data"
    },
    {
     "data": {
      "image/png": "[encoded data removed]",
      "text/plain": [
       "<Figure size 258.065x259.74 with 1 Axes>"
      ]
     },
     "metadata": {},
     "output_type": "display_data"
    },
    {
     "data": {
      "image/png": "[encoded data removed]",
      "text/plain": [
       "<Figure size 258.065x259.74 with 1 Axes>"
      ]
     },
     "metadata": {},
     "output_type": "display_data"
    }
   ],
   "source": [
    "#GEOMETRIAS\n",
    "\n",
    "#bloque mat01\n",
    "surf1 = openmc.XPlane(-W)\n",
    "surf1.boundary_type = 'vacuum'\n",
    "\n",
    "surf6 = openmc.XPlane(W)\n",
    "surf6.boundary_type = 'vacuum'\n",
    "\n",
    "surf2 = openmc.YPlane(-H)\n",
    "surf2.boundary_type = 'vacuum'\n",
    "\n",
    "surf5 = openmc.YPlane(H)\n",
    "surf5.boundary_type = 'vacuum'\n",
    "\n",
    "\n",
    "surf3 = openmc.ZPlane(0)\n",
    "surf3.boundary_type = 'vacuum'\n",
    "\n",
    "surf4 = openmc.ZPlane(L)\n",
    "\n",
    "surf7 = openmc.ZPlane(50*L)\n",
    "surf7.boundary_type = 'vacuum'\n",
    "\n",
    "\n",
    "\n",
    "\n",
    "cell01 = openmc.Cell(fill=mat01,cell_id=1)\n",
    "cell01.region = +surf1 & -surf6 & +surf2 & -surf5 & +surf3 & -surf4\n",
    "\n",
    "\n",
    "#source.hs\n",
    "surf_source = openmc.Plane.from_points((-W,-H,L),(-W,H,L),(0.0,0.0,L+W*math.sin(angle)/math.cos(angle)))\n",
    "cell02 = openmc.Cell(fill=None,cell_id=2)\n",
    "cell02.region = +surf4 & +surf_source & +surf1 & -surf6 & +surf2 & -surf5\n",
    "\n",
    "\n",
    "cell00 = openmc.Cell(fill=None,cell_id=0)\n",
    "cell00.region = -surf7 & -surf_source & +surf1 & -surf6 & +surf2 & -surf5\n",
    "\n",
    "univ01 = openmc.Universe(cells=[cell00,cell01, cell02],universe_id=1) \n",
    "univ01.plot(origin=(0.0,0.0,L/2),width=(4*W,4*W))\n",
    "univ01.plot(origin=(0.0,0.0,50*L/2),width=(4*W,55*L),basis='yz')\n",
    "univ01.plot(origin=(0.0,0.0,50*L/2),width=(4*W,55*L),basis='xz')\n"
   ]
  },
  {
   "cell_type": "code",
   "execution_count": 6,
   "metadata": {},
   "outputs": [],
   "source": [
    "#FUENTE\n",
    "S = openmc.Source()\n",
    "S.particle = 'neutron'\n",
    "#dist_espacial'\n",
    "\n",
    "r = openmc.stats.PowerLaw(0.0,R,1.0)\n",
    "phi = openmc.stats.Uniform(0.0 , 2*math.pi)\n",
    "z = openmc.stats.Discrete(0.0 , 1.0)\n",
    "S.space = openmc.stats.CylindricalIndependent(r,phi,z)\n",
    "\n",
    "#dist_Energia\n",
    "S.energy = openmc.stats.Discrete(30.0,1.0)\n",
    "\n",
    "#dist_angular.\n",
    "\n",
    "S.angle = openmc.stats.Monodirectional(reference_uvw=[0.0,0.0,1.0])"
   ]
  },
  {
   "cell_type": "code",
   "execution_count": 7,
   "metadata": {},
   "outputs": [],
   "source": [
    "#Numero de particulas \n",
    "N = int(100)\n",
    "#PARAMETROS DE EJECUCION\n",
    "param = openmc.Settings()\n",
    "param.source = S\n",
    "param.run_mode = \"fixed source\"\n",
    "param.batches = 1\n",
    "param.particles = N\n",
    "\n",
    "superficies = [surf_source.id,surf4.id,surf7.id]\n",
    "\n",
    "param.surf_source_write = {\n",
    "    'surface_ids': superficies,\n",
    "    'max_particles': len(superficies)*N\n",
    "}\n",
    "\n",
    "param.max_tracks = N    \n"
   ]
  },
  {
   "cell_type": "code",
   "execution_count": 8,
   "metadata": {},
   "outputs": [],
   "source": [
    "#GENERACION DE ARCHIVOS XML\n",
    "geom = openmc.Geometry(univ01)\n",
    "geom.export_to_xml()\n",
    "\n",
    "mats = openmc.Materials(univ01.get_all_materials().values())\n",
    "mats.cross_sections = openmc_data\n",
    "mats.export_to_xml()\n",
    "\n",
    "#hola\n",
    "\n",
    "param.export_to_xml()\n",
    "\n"
   ]
  },
  {
   "cell_type": "code",
   "execution_count": 9,
   "metadata": {},
   "outputs": [
    {
     "name": "stdout",
     "output_type": "stream",
     "text": [
      "rm: cannot remove 'statepoint.*.h5': No such file or directory\n",
      "                                %%%%%%%%%%%%%%%\n",
      "                           %%%%%%%%%%%%%%%%%%%%%%%%\n",
      "                        %%%%%%%%%%%%%%%%%%%%%%%%%%%%%%\n",
      "                      %%%%%%%%%%%%%%%%%%%%%%%%%%%%%%%%%%\n",
      "                    %%%%%%%%%%%%%%%%%%%%%%%%%%%%%%%%%%%%%%\n",
      "                   %%%%%%%%%%%%%%%%%%%%%%%%%%%%%%%%%%%%%%%%\n",
      "                                    %%%%%%%%%%%%%%%%%%%%%%%%\n",
      "                                     %%%%%%%%%%%%%%%%%%%%%%%%\n",
      "                 ###############      %%%%%%%%%%%%%%%%%%%%%%%%\n",
      "                ##################     %%%%%%%%%%%%%%%%%%%%%%%\n",
      "                ###################     %%%%%%%%%%%%%%%%%%%%%%%\n",
      "                ####################     %%%%%%%%%%%%%%%%%%%%%%\n",
      "                #####################     %%%%%%%%%%%%%%%%%%%%%\n",
      "                ######################     %%%%%%%%%%%%%%%%%%%%\n",
      "                #######################     %%%%%%%%%%%%%%%%%%\n",
      "                 #######################     %%%%%%%%%%%%%%%%%\n",
      "                 ######################     %%%%%%%%%%%%%%%%%\n",
      "                  ####################     %%%%%%%%%%%%%%%%%\n",
      "                    #################     %%%%%%%%%%%%%%%%%\n",
      "                     ###############     %%%%%%%%%%%%%%%%\n",
      "                       ############     %%%%%%%%%%%%%%%\n",
      "                          ########     %%%%%%%%%%%%%%\n",
      "                                      %%%%%%%%%%%\n",
      "\n",
      "                 | The OpenMC Monte Carlo Code\n",
      "       Copyright | 2011-2023 MIT, UChicago Argonne LLC, and contributors\n",
      "         License | https://docs.openmc.org/en/latest/license.html\n",
      "         Version | 0.13.3\n",
      "        Git SHA1 | 50e39a4e20dc9e0f3d7ccf07333f6a5e6c797c8c\n",
      "       Date/Time | 2023-10-21 17:46:41\n",
      "   MPI Processes | 1\n",
      "  OpenMP Threads | 4\n",
      "\n",
      " Reading settings XML file...\n",
      " Reading cross sections XML file...\n",
      " Reading materials XML file...\n",
      " Reading geometry XML file...\n",
      " Reading H1 from\n",
      " /home/agusgimenez/KD_OPMC/Secciones/endfb-vii.1-hdf5/neutron/H1.h5\n",
      " Reading O16 from\n",
      " /home/agusgimenez/KD_OPMC/Secciones/endfb-vii.1-hdf5/neutron/O16.h5\n",
      " Reading O17 from\n",
      " /home/agusgimenez/KD_OPMC/Secciones/endfb-vii.1-hdf5/neutron/O17.h5\n",
      " Reading c_H_in_H2O from\n",
      " /home/agusgimenez/KD_OPMC/Secciones/endfb-vii.1-hdf5/neutron/c_H_in_H2O.h5\n",
      " Minimum neutron data temperature: 294 K\n",
      " Maximum neutron data temperature: 294 K\n",
      " Preparing distributed cell instances...\n",
      " Reading plot XML file...\n",
      " Writing summary.h5 file...\n",
      " Maximum neutron transport energy: 20000000 eV for H1\n",
      "\n",
      " ===============>     FIXED SOURCE TRANSPORT SIMULATION     <===============\n",
      "\n",
      " Simulating batch 1\n",
      " Creating state point statepoint.1.h5...\n",
      "\n",
      " =======================>     TIMING STATISTICS     <=======================\n",
      "\n",
      " Total time for initialization     = 1.2352e+00 seconds\n",
      "   Reading cross sections          = 1.2074e+00 seconds\n",
      " Total time in simulation          = 9.9368e-02 seconds\n",
      "   Time in transport only          = 5.0736e-02 seconds\n",
      "   Time in active batches          = 9.9368e-02 seconds\n",
      "   Time accumulating tallies       = 3.3700e-07 seconds\n",
      "   Time writing statepoints        = 4.3429e-03 seconds\n",
      " Total time for finalization       = 3.4396e-03 seconds\n",
      " Total time elapsed                = 1.9659e+00 seconds\n",
      " Calculation Rate (active)         = 1006.36 particles/second\n",
      "\n",
      " ============================>     RESULTS     <============================\n",
      "\n",
      " WARNING: Could not compute uncertainties -- only one active batch simulated!\n",
      " Leakage Fraction           = 1.00000\n",
      "\n"
     ]
    }
   ],
   "source": [
    "!rm statepoint.*.h5\n",
    "!rm summary.h5\n",
    "openmc.run(tracks=True)"
   ]
  },
  {
   "cell_type": "code",
   "execution_count": 22,
   "metadata": {},
   "outputs": [
    {
     "data": {
      "text/plain": [
       "[<Track (1, 1, 1): 1 particles>,\n",
       " <Track (1, 1, 2): 1 particles>,\n",
       " <Track (1, 1, 3): 1 particles>,\n",
       " <Track (1, 1, 4): 1 particles>,\n",
       " <Track (1, 1, 5): 1 particles>,\n",
       " <Track (1, 1, 6): 1 particles>,\n",
       " <Track (1, 1, 7): 1 particles>,\n",
       " <Track (1, 1, 8): 1 particles>,\n",
       " <Track (1, 1, 9): 1 particles>,\n",
       " <Track (1, 1, 10): 1 particles>,\n",
       " <Track (1, 1, 11): 1 particles>,\n",
       " <Track (1, 1, 12): 1 particles>,\n",
       " <Track (1, 1, 13): 1 particles>,\n",
       " <Track (1, 1, 14): 1 particles>,\n",
       " <Track (1, 1, 15): 1 particles>,\n",
       " <Track (1, 1, 16): 1 particles>,\n",
       " <Track (1, 1, 17): 1 particles>,\n",
       " <Track (1, 1, 18): 1 particles>,\n",
       " <Track (1, 1, 19): 1 particles>,\n",
       " <Track (1, 1, 20): 1 particles>,\n",
       " <Track (1, 1, 21): 1 particles>,\n",
       " <Track (1, 1, 22): 1 particles>,\n",
       " <Track (1, 1, 23): 1 particles>,\n",
       " <Track (1, 1, 24): 1 particles>,\n",
       " <Track (1, 1, 25): 1 particles>,\n",
       " <Track (1, 1, 26): 1 particles>,\n",
       " <Track (1, 1, 27): 1 particles>,\n",
       " <Track (1, 1, 28): 1 particles>,\n",
       " <Track (1, 1, 29): 1 particles>,\n",
       " <Track (1, 1, 30): 1 particles>,\n",
       " <Track (1, 1, 31): 1 particles>,\n",
       " <Track (1, 1, 32): 1 particles>,\n",
       " <Track (1, 1, 33): 1 particles>,\n",
       " <Track (1, 1, 34): 1 particles>,\n",
       " <Track (1, 1, 35): 1 particles>,\n",
       " <Track (1, 1, 36): 1 particles>,\n",
       " <Track (1, 1, 37): 1 particles>,\n",
       " <Track (1, 1, 38): 1 particles>,\n",
       " <Track (1, 1, 39): 1 particles>,\n",
       " <Track (1, 1, 40): 1 particles>,\n",
       " <Track (1, 1, 41): 1 particles>,\n",
       " <Track (1, 1, 42): 1 particles>,\n",
       " <Track (1, 1, 43): 1 particles>,\n",
       " <Track (1, 1, 44): 1 particles>,\n",
       " <Track (1, 1, 45): 1 particles>,\n",
       " <Track (1, 1, 46): 1 particles>,\n",
       " <Track (1, 1, 47): 1 particles>,\n",
       " <Track (1, 1, 48): 1 particles>,\n",
       " <Track (1, 1, 49): 1 particles>,\n",
       " <Track (1, 1, 50): 1 particles>,\n",
       " <Track (1, 1, 51): 1 particles>,\n",
       " <Track (1, 1, 52): 1 particles>,\n",
       " <Track (1, 1, 53): 1 particles>,\n",
       " <Track (1, 1, 54): 1 particles>,\n",
       " <Track (1, 1, 55): 1 particles>,\n",
       " <Track (1, 1, 56): 1 particles>,\n",
       " <Track (1, 1, 57): 1 particles>,\n",
       " <Track (1, 1, 58): 1 particles>,\n",
       " <Track (1, 1, 59): 1 particles>,\n",
       " <Track (1, 1, 60): 1 particles>,\n",
       " <Track (1, 1, 61): 1 particles>,\n",
       " <Track (1, 1, 62): 1 particles>,\n",
       " <Track (1, 1, 63): 1 particles>,\n",
       " <Track (1, 1, 64): 1 particles>,\n",
       " <Track (1, 1, 65): 1 particles>,\n",
       " <Track (1, 1, 66): 1 particles>,\n",
       " <Track (1, 1, 67): 1 particles>,\n",
       " <Track (1, 1, 68): 1 particles>,\n",
       " <Track (1, 1, 69): 1 particles>,\n",
       " <Track (1, 1, 70): 1 particles>,\n",
       " <Track (1, 1, 71): 1 particles>,\n",
       " <Track (1, 1, 72): 1 particles>,\n",
       " <Track (1, 1, 73): 1 particles>,\n",
       " <Track (1, 1, 74): 1 particles>,\n",
       " <Track (1, 1, 75): 1 particles>,\n",
       " <Track (1, 1, 76): 1 particles>,\n",
       " <Track (1, 1, 77): 1 particles>,\n",
       " <Track (1, 1, 78): 1 particles>,\n",
       " <Track (1, 1, 79): 1 particles>,\n",
       " <Track (1, 1, 80): 1 particles>,\n",
       " <Track (1, 1, 81): 1 particles>,\n",
       " <Track (1, 1, 82): 1 particles>,\n",
       " <Track (1, 1, 83): 1 particles>,\n",
       " <Track (1, 1, 84): 1 particles>,\n",
       " <Track (1, 1, 85): 1 particles>,\n",
       " <Track (1, 1, 86): 1 particles>,\n",
       " <Track (1, 1, 87): 1 particles>,\n",
       " <Track (1, 1, 88): 1 particles>,\n",
       " <Track (1, 1, 89): 1 particles>,\n",
       " <Track (1, 1, 90): 1 particles>,\n",
       " <Track (1, 1, 91): 1 particles>,\n",
       " <Track (1, 1, 92): 1 particles>,\n",
       " <Track (1, 1, 93): 1 particles>,\n",
       " <Track (1, 1, 94): 1 particles>,\n",
       " <Track (1, 1, 95): 1 particles>,\n",
       " <Track (1, 1, 96): 1 particles>,\n",
       " <Track (1, 1, 97): 1 particles>,\n",
       " <Track (1, 1, 98): 1 particles>,\n",
       " <Track (1, 1, 99): 1 particles>,\n",
       " <Track (1, 1, 100): 1 particles>]"
      ]
     },
     "execution_count": 22,
     "metadata": {},
     "output_type": "execute_result"
    }
   ],
   "source": [
    "tracks = openmc.Tracks(\"tracks.h5\").filter(particle='neutron')\n",
    "\n",
    "tracks\n"
   ]
  },
  {
   "cell_type": "code",
   "execution_count": 48,
   "metadata": {},
   "outputs": [
    {
     "data": {
      "text/plain": [
       "array([( 0.06311684,  0.11341072, 0.        ),\n",
       "       ( 0.06311684,  0.11341072, 0.07343395),\n",
       "       (-0.01635864,  0.05884366, 0.16919146),\n",
       "       (-0.21539229, -0.01303757, 0.06432252),\n",
       "       (-0.2906547 , -0.09390077, 0.01302107),\n",
       "       (-0.29135592, -0.09012047, 0.        )],\n",
       "      dtype=[('x', '<f8'), ('y', '<f8'), ('z', '<f8')])"
      ]
     },
     "execution_count": 48,
     "metadata": {},
     "output_type": "execute_result"
    }
   ],
   "source": [
    "first_track = tracks[0]\n",
    "first_track.particle_tracks\n",
    "neutron = first_track[0]\n",
    "neutron.states['r']\n",
    "# first_track.plot()"
   ]
  }
 ],
 "metadata": {
  "kernelspec": {
   "display_name": "base",
   "language": "python",
   "name": "python3"
  },
  "language_info": {
   "codemirror_mode": {
    "name": "ipython",
    "version": 3
   },
   "file_extension": ".py",
   "mimetype": "text/x-python",
   "name": "python",
   "nbconvert_exporter": "python",
   "pygments_lexer": "ipython3",
   "version": "3.9.17"
  },
  "orig_nbformat": 4
 },
 "nbformat": 4,
 "nbformat_minor": 2
}
