{
  "cells": [
    {
      "cell_type": "code",
      "execution_count": 24,
      "metadata": {
        "id": "AoPeObmpPG0t"
      },
      "outputs": [],
      "source": [
        "import openmc\n",
        "import matplotlib.pyplot as plt\n",
        "import numpy as np"
      ]
    },
    {
      "cell_type": "code",
      "execution_count": 25,
      "metadata": {
        "id": "x0pWcw42PG1X"
      },
      "outputs": [],
      "source": [
        "umet = openmc.Material()\n",
        "umet.add_nuclide(\"U235\", 0.9473, 'wo')\n",
        "umet.add_nuclide(\"U238\", 0.0527, 'wo')\n",
        "umet.add_nuclide(\"U234\", 0.0102, 'wo')\n",
        "umet.set_density(\"g/cm3\", 18.74)\n",
        "\n",
        "mats = openmc.Materials([umet])\n",
        "mats.cross_sections = \"/home/agusgimenez/KD_OPMC/Secciones/endfb-vii.1-hdf5/cross_sections.xml\"\n",
        "mats.export_to_xml()\n",
        "\n",
        "esfera = openmc.Sphere(r=8.74, boundary_type=\"vacuum\")\n",
        "godiva = openmc.Cell(region = -esfera, fill=umet)\n",
        "simulacion = openmc.Universe(cells=[godiva])\n",
        "\n",
        "geom = openmc.Geometry(simulacion)\n",
        "geom.export_to_xml()\n"
      ]
    },
    {
      "cell_type": "code",
      "execution_count": 26,
      "metadata": {
        "colab": {
          "base_uri": "https://localhost:8080/",
          "height": 197
        },
        "id": "BTPA0P3lPG1b",
        "outputId": "36a7b887-d62b-4cc2-ac6d-5703f64a5419"
      },
      "outputs": [
        {
          "name": "stdout",
          "output_type": "stream",
          "text": [
            "<?xml version='1.0' encoding='utf-8'?>\n",
            "<materials>\n",
            "  <cross_sections>/home/agusgimenez/KD_OPMC/Secciones/endfb-vii.1-hdf5/cross_sections.xml</cross_sections>\n",
            "  <material depletable=\"true\" id=\"5\">\n",
            "    <density units=\"g/cm3\" value=\"18.74\" />\n",
            "    <nuclide name=\"U235\" wo=\"0.9473\" />\n",
            "    <nuclide name=\"U238\" wo=\"0.0527\" />\n",
            "    <nuclide name=\"U234\" wo=\"0.0102\" />\n",
            "  </material>\n",
            "</materials>\n"
          ]
        }
      ],
      "source": [
        "!cat materials.xml"
      ]
    },
    {
      "cell_type": "code",
      "execution_count": 27,
      "metadata": {
        "colab": {
          "base_uri": "https://localhost:8080/",
          "height": 107
        },
        "id": "_8V3jiQ3PG1e",
        "outputId": "6b8f40b7-8279-4a4c-d04b-2a20c529353f"
      },
      "outputs": [
        {
          "name": "stdout",
          "output_type": "stream",
          "text": [
            "<?xml version='1.0' encoding='utf-8'?>\n",
            "<geometry>\n",
            "  <cell id=\"5\" material=\"5\" region=\"-5\" universe=\"5\" />\n",
            "  <surface boundary=\"vacuum\" coeffs=\"0.0 0.0 0.0 8.74\" id=\"5\" type=\"sphere\" />\n",
            "</geometry>\n"
          ]
        }
      ],
      "source": [
        "!cat geometry.xml"
      ]
    },
    {
      "cell_type": "code",
      "execution_count": 28,
      "metadata": {
        "colab": {
          "base_uri": "https://localhost:8080/",
          "height": 143
        },
        "id": "OzXNT1z8PG1h",
        "outputId": "84077d18-6d35-4fcb-e080-e3cb5f5fce6b"
      },
      "outputs": [
        {
          "name": "stdout",
          "output_type": "stream",
          "text": [
            "<?xml version='1.0' encoding='utf-8'?>\n",
            "<settings>\n",
            "  <run_mode>eigenvalue</run_mode>\n",
            "  <particles>100000</particles>\n",
            "  <batches>110</batches>\n",
            "  <inactive>10</inactive>\n",
            "</settings>\n"
          ]
        }
      ],
      "source": [
        "!cat settings.xml"
      ]
    },
    {
      "cell_type": "code",
      "execution_count": 29,
      "metadata": {
        "id": "FXA_4difPG2H"
      },
      "outputs": [],
      "source": [
        "run = openmc.Settings()\n",
        "run.run_mode = \"eigenvalue\"\n",
        "run.particles = 100000\n",
        "run.batches = 110\n",
        "run.inactive = 10\n",
        "run.export_to_xml()"
      ]
    },
    {
      "cell_type": "markdown",
      "metadata": {},
      "source": [
        "values = np.logspace(np.log10(1e-5))\n",
        "Filtro_Energia = openmc.filter.EnergyFilter(values,id = 0)\n",
        "\n",
        "tally_flujo = openmc.Tally(name = \"PHI\")\n",
        "tally_flujo.score = [\"flux\"]\n",
        "tally_flujo."
      ]
    },
    {
      "cell_type": "code",
      "execution_count": 30,
      "metadata": {
        "colab": {
          "base_uri": "https://localhost:8080/",
          "height": 1000
        },
        "id": "H7oFLoV3PG2K",
        "outputId": "7d9dcb7b-4e29-4857-eb83-fae8814c33aa"
      },
      "outputs": [
        {
          "name": "stdout",
          "output_type": "stream",
          "text": [
            "                                %%%%%%%%%%%%%%%\n",
            "                           %%%%%%%%%%%%%%%%%%%%%%%%\n",
            "                        %%%%%%%%%%%%%%%%%%%%%%%%%%%%%%\n",
            "                      %%%%%%%%%%%%%%%%%%%%%%%%%%%%%%%%%%\n",
            "                    %%%%%%%%%%%%%%%%%%%%%%%%%%%%%%%%%%%%%%\n",
            "                   %%%%%%%%%%%%%%%%%%%%%%%%%%%%%%%%%%%%%%%%\n",
            "                                    %%%%%%%%%%%%%%%%%%%%%%%%\n",
            "                                     %%%%%%%%%%%%%%%%%%%%%%%%\n",
            "                 ###############      %%%%%%%%%%%%%%%%%%%%%%%%\n",
            "                ##################     %%%%%%%%%%%%%%%%%%%%%%%\n",
            "                ###################     %%%%%%%%%%%%%%%%%%%%%%%\n",
            "                ####################     %%%%%%%%%%%%%%%%%%%%%%\n",
            "                #####################     %%%%%%%%%%%%%%%%%%%%%\n",
            "                ######################     %%%%%%%%%%%%%%%%%%%%\n",
            "                #######################     %%%%%%%%%%%%%%%%%%\n",
            "                 #######################     %%%%%%%%%%%%%%%%%\n",
            "                 ######################     %%%%%%%%%%%%%%%%%\n",
            "                  ####################     %%%%%%%%%%%%%%%%%\n",
            "                    #################     %%%%%%%%%%%%%%%%%\n",
            "                     ###############     %%%%%%%%%%%%%%%%\n",
            "                       ############     %%%%%%%%%%%%%%%\n",
            "                          ########     %%%%%%%%%%%%%%\n",
            "                                      %%%%%%%%%%%\n",
            "\n",
            "                 | The OpenMC Monte Carlo Code\n",
            "       Copyright | 2011-2023 MIT, UChicago Argonne LLC, and contributors\n",
            "         License | https://docs.openmc.org/en/latest/license.html\n",
            "         Version | 0.13.3\n",
            "        Git SHA1 | 50e39a4e20dc9e0f3d7ccf07333f6a5e6c797c8c\n",
            "       Date/Time | 2023-09-06 14:32:12\n",
            "   MPI Processes | 1\n",
            "  OpenMP Threads | 4\n",
            "\n",
            " Reading settings XML file...\n",
            " Reading cross sections XML file...\n",
            " Reading materials XML file...\n",
            " Reading geometry XML file...\n",
            " Reading U235 from\n",
            " /home/agusgimenez/KD_OPMC/Secciones/endfb-vii.1-hdf5/neutron/U235.h5\n",
            " Reading U238 from\n",
            " /home/agusgimenez/KD_OPMC/Secciones/endfb-vii.1-hdf5/neutron/U238.h5\n",
            " Reading U234 from\n",
            " /home/agusgimenez/KD_OPMC/Secciones/endfb-vii.1-hdf5/neutron/U234.h5\n",
            " Minimum neutron data temperature: 294 K\n",
            " Maximum neutron data temperature: 294 K\n",
            " Preparing distributed cell instances...\n",
            " Reading plot XML file...\n",
            " Writing summary.h5 file...\n",
            " Maximum neutron transport energy: 20000000 eV for U235\n",
            " Initializing source particles...\n",
            "\n",
            " ====================>     K EIGENVALUE SIMULATION     <====================\n",
            "\n",
            "  Bat./Gen.      k            Average k\n",
            "  =========   ========   ====================\n",
            "        1/1    1.35089\n",
            "        2/1    1.14577\n",
            "        3/1    1.07235\n",
            "        4/1    1.03276\n",
            "        5/1    1.01714\n",
            "        6/1    1.00481\n",
            "        7/1    0.99924\n",
            "        8/1    1.00096\n",
            "        9/1    1.00211\n",
            "       10/1    1.00315\n",
            "       11/1    1.00318\n",
            "       12/1    1.00114    1.00216 +/- 0.00102\n",
            "       13/1    1.00300    1.00244 +/- 0.00065\n",
            "       14/1    0.99780    1.00128 +/- 0.00125\n",
            "       15/1    0.99820    1.00066 +/- 0.00115\n",
            "       16/1    1.00100    1.00072 +/- 0.00094\n",
            "       17/1    1.00460    1.00127 +/- 0.00097\n",
            "       18/1    0.99990    1.00110 +/- 0.00086\n",
            "       19/1    0.99956    1.00093 +/- 0.00077\n",
            "       20/1    1.00289    1.00113 +/- 0.00072\n",
            "       21/1    1.00036    1.00106 +/- 0.00065\n",
            "       22/1    1.00103    1.00105 +/- 0.00060\n",
            "       23/1    0.99819    1.00083 +/- 0.00059\n",
            "       24/1    1.00014    1.00079 +/- 0.00055\n",
            "       25/1    1.00120    1.00081 +/- 0.00051\n",
            "       26/1    0.99795    1.00063 +/- 0.00051\n",
            "       27/1    1.00015    1.00061 +/- 0.00048\n",
            "       28/1    0.99775    1.00045 +/- 0.00048\n",
            "       29/1    0.99774    1.00030 +/- 0.00048\n",
            "       30/1    1.00333    1.00046 +/- 0.00048\n",
            "       31/1    0.99836    1.00036 +/- 0.00046\n",
            "       32/1    1.00420    1.00053 +/- 0.00048\n",
            "       33/1    1.00540    1.00074 +/- 0.00050\n",
            "       34/1    1.00283    1.00083 +/- 0.00049\n",
            "       35/1    0.99965    1.00078 +/- 0.00047\n",
            "       36/1    1.00029    1.00076 +/- 0.00045\n",
            "       37/1    1.00753    1.00101 +/- 0.00050\n",
            "       38/1    0.99683    1.00086 +/- 0.00051\n",
            "       39/1    1.00121    1.00088 +/- 0.00049\n",
            "       40/1    0.99909    1.00082 +/- 0.00048\n",
            "       41/1    1.00324    1.00090 +/- 0.00047\n",
            "       42/1    1.00671    1.00108 +/- 0.00049\n",
            "       43/1    1.00201    1.00111 +/- 0.00047\n",
            "       44/1    0.99691    1.00098 +/- 0.00048\n",
            "       45/1    0.99968    1.00094 +/- 0.00046\n",
            "       46/1    1.00072    1.00094 +/- 0.00045\n",
            "       47/1    1.00121    1.00095 +/- 0.00044\n",
            "       48/1    1.00025    1.00093 +/- 0.00043\n",
            "       49/1    1.00330    1.00099 +/- 0.00042\n",
            "       50/1    1.00186    1.00101 +/- 0.00041\n",
            "       51/1    1.00246    1.00105 +/- 0.00040\n",
            "       52/1    0.99944    1.00101 +/- 0.00039\n",
            "       53/1    0.99350    1.00083 +/- 0.00042\n",
            "       54/1    0.99511    1.00070 +/- 0.00043\n",
            "       55/1    0.99651    1.00061 +/- 0.00043\n",
            "       56/1    1.00061    1.00061 +/- 0.00042\n",
            "       57/1    1.00271    1.00065 +/- 0.00042\n",
            "       58/1    1.00517    1.00075 +/- 0.00042\n",
            "       59/1    1.00065    1.00075 +/- 0.00041\n",
            "       60/1    0.99872    1.00071 +/- 0.00040\n",
            "       61/1    1.00582    1.00081 +/- 0.00041\n",
            "       62/1    1.00140    1.00082 +/- 0.00040\n",
            "       63/1    1.00209    1.00084 +/- 0.00039\n",
            "       64/1    1.00584    1.00093 +/- 0.00040\n",
            "       65/1    0.99986    1.00091 +/- 0.00039\n",
            "       66/1    0.99716    1.00085 +/- 0.00039\n",
            "       67/1    0.99945    1.00082 +/- 0.00038\n",
            "       68/1    1.00882    1.00096 +/- 0.00040\n",
            "       69/1    0.99822    1.00091 +/- 0.00040\n",
            "       70/1    0.99817    1.00087 +/- 0.00039\n",
            "       71/1    0.99562    1.00078 +/- 0.00040\n",
            "       72/1    1.00375    1.00083 +/- 0.00039\n",
            "       73/1    1.00012    1.00082 +/- 0.00039\n",
            "       74/1    1.00131    1.00083 +/- 0.00038\n",
            "       75/1    1.00313    1.00086 +/- 0.00038\n",
            "       76/1    0.99697    1.00080 +/- 0.00037\n",
            "       77/1    1.00197    1.00082 +/- 0.00037\n",
            "       78/1    1.00069    1.00082 +/- 0.00036\n",
            "       79/1    1.00026    1.00081 +/- 0.00036\n",
            "       80/1    0.99751    1.00076 +/- 0.00036\n",
            "       81/1    0.99957    1.00075 +/- 0.00035\n",
            "       82/1    0.99615    1.00068 +/- 0.00035\n",
            "       83/1    1.00223    1.00070 +/- 0.00035\n",
            "       84/1    0.99895    1.00068 +/- 0.00034\n",
            "       85/1    1.00462    1.00073 +/- 0.00034\n",
            "       86/1    0.99883    1.00071 +/- 0.00034\n",
            "       87/1    0.99361    1.00062 +/- 0.00035\n",
            "       88/1    1.00565    1.00068 +/- 0.00035\n",
            "       89/1    0.99848    1.00065 +/- 0.00035\n",
            "       90/1    0.99886    1.00063 +/- 0.00034\n",
            "       91/1    1.00044    1.00063 +/- 0.00034\n",
            "       92/1    0.99944    1.00061 +/- 0.00034\n",
            "       93/1    1.00213    1.00063 +/- 0.00033\n",
            "       94/1    0.99662    1.00058 +/- 0.00033\n",
            "       95/1    0.99978    1.00057 +/- 0.00033\n",
            "       96/1    1.00058    1.00057 +/- 0.00032\n",
            "       97/1    0.99578    1.00052 +/- 0.00032\n",
            "       98/1    1.00328    1.00055 +/- 0.00032\n",
            "       99/1    1.00087    1.00055 +/- 0.00032\n",
            "      100/1    1.00090    1.00056 +/- 0.00032\n",
            "      101/1    0.99640    1.00051 +/- 0.00031\n",
            "      102/1    0.99699    1.00047 +/- 0.00031\n",
            "      103/1    1.00303    1.00050 +/- 0.00031\n",
            "      104/1    0.99619    1.00046 +/- 0.00031\n",
            "      105/1    1.00537    1.00051 +/- 0.00031\n",
            "      106/1    1.00016    1.00050 +/- 0.00031\n",
            "      107/1    1.00299    1.00053 +/- 0.00031\n",
            "      108/1    1.00204    1.00054 +/- 0.00030\n",
            "      109/1    0.99924    1.00053 +/- 0.00030\n",
            "      110/1    1.00075    1.00053 +/- 0.00030\n",
            " Creating state point statepoint.110.h5...\n",
            "\n",
            " =======================>     TIMING STATISTICS     <=======================\n",
            "\n",
            " Total time for initialization     = 2.0559e-01 seconds\n",
            "   Reading cross sections          = 1.9213e-01 seconds\n",
            " Total time in simulation          = 2.1084e+01 seconds\n",
            "   Time in transport only          = 1.9680e+01 seconds\n",
            "   Time in inactive batches        = 2.2056e+00 seconds\n",
            "   Time in active batches          = 1.8878e+01 seconds\n",
            "   Time synchronizing fission bank = 9.7355e-01 seconds\n",
            "     Sampling source sites         = 8.4668e-01 seconds\n",
            "     SEND/RECV source sites        = 1.2624e-01 seconds\n",
            "   Time accumulating tallies       = 8.1173e-05 seconds\n",
            "   Time writing statepoints        = 1.8501e-02 seconds\n",
            " Total time for finalization       = 1.1770e-06 seconds\n",
            " Total time elapsed                = 2.1344e+01 seconds\n",
            " Calculation Rate (inactive)       = 453395 particles/second\n",
            " Calculation Rate (active)         = 529705 particles/second\n",
            "\n",
            " ============================>     RESULTS     <============================\n",
            "\n",
            " k-effective (Collision)     = 1.00049 +/- 0.00032\n",
            " k-effective (Track-length)  = 1.00053 +/- 0.00030\n",
            " k-effective (Absorption)    = 1.00012 +/- 0.00038\n",
            " Combined k-effective        = 1.00037 +/- 0.00022\n",
            " Leakage Fraction            = 0.57276 +/- 0.00016\n",
            "\n"
          ]
        }
      ],
      "source": [
        "!rm statepoint.110.h5\n",
        "!rm summary.h5\n",
        "openmc.run()"
      ]
    },
    {
      "cell_type": "code",
      "execution_count": 31,
      "metadata": {
        "id": "9G_5mkvTPG2N"
      },
      "outputs": [],
      "source": [
        "estado3 = openmc.StatePoint(\"statepoint.110.h5\")\n",
        "keff3 = estado3.k_generation"
      ]
    },
    {
      "cell_type": "code",
      "execution_count": 32,
      "metadata": {
        "colab": {
          "base_uri": "https://localhost:8080/",
          "height": 287
        },
        "id": "mdDAoiVzPG2Q",
        "outputId": "69ff68fc-ad8c-4aa6-d58a-abc5dec6d452"
      },
      "outputs": [
        {
          "data": {
            "text/plain": [
              "[<matplotlib.lines.Line2D at 0x7f99a211aaf0>]"
            ]
          },
          "execution_count": 32,
          "metadata": {},
          "output_type": "execute_result"
        },
        {
          "data": {
            "image/png": "[encoded data removed]",
            "text/plain": [
              "<Figure size 640x480 with 1 Axes>"
            ]
          },
          "metadata": {},
          "output_type": "display_data"
        }
      ],
      "source": [
        "plt.plot(keff3)"
      ]
    },
    {
      "cell_type": "markdown",
      "metadata": {
        "id": "v73e7OzAPG2W"
      },
      "source": [
        "El resultado neto es que la incerteza en el factor de multiplicación se reduce en un factor de $1/\\sqrt{N}$."
      ]
    },
    {
      "cell_type": "markdown",
      "metadata": {
        "id": "fM_uQgcpPG2X"
      },
      "source": [
        "## Simulación de fuente fija"
      ]
    },
    {
      "cell_type": "markdown",
      "metadata": {
        "id": "wFgBcifQPG2Y"
      },
      "source": [
        "Para realizar un cálculo en modo de fuente externa es necesario definir una fuente. La fuente se especifica en el parámetro `.source` del objeto de clase `Settings`. La fuente es un objeto generado con la función `.Source()`, que posee como atributos las distribuciones espaciales, angulares y energéticas de la fuente. Por ejemplo, para definir una fuente isotrópica de $1$ MeV en el origen hacemos:"
      ]
    },
    {
      "cell_type": "code",
      "execution_count": null,
      "metadata": {
        "id": "tj5JoZhPPG2Y"
      },
      "outputs": [],
      "source": [
        "dist_espacial = openmc.stats.Point(xyz=(0.0, 0.0, 0.0))\n",
        "dist_angular = openmc.stats.Isotropic()\n",
        "dist_energetica = openmc.stats.Discrete([1.0e6], [1.0])\n",
        "\n",
        "fuente = openmc.Source()\n",
        "fuente.space = dist_espacial\n",
        "fuente.angle = dist_angular\n",
        "fuente.energy = dist_energetica\n",
        "\n",
        "parametros = openmc.Settings()\n",
        "parametros.source = fuente"
      ]
    },
    {
      "cell_type": "markdown",
      "metadata": {
        "id": "JxStdWIZPG2c"
      },
      "source": [
        "Las distribuciones se generan en base al módulo `openmc.stats`. Este módulo posee distintos tipos de distribuciones para las variables energía, posición y dirección, y distribuciones de probabilidad genéricas:"
      ]
    },
    {
      "cell_type": "markdown",
      "metadata": {
        "id": "pbLscb49PG2c"
      },
      "source": [
        "Distribuciones espaciales:\n",
        "\n",
        "* `openmc.stats.Point()`: distribución delta en un punto del espacio, $\\delta(\\vec{r}-\\vec{r}_0)$.\n",
        "* `openmc.stats.Box()`: distribución uniformemente distribuida entre un punto (esquina inferior izquierda) y otro (esquina superior derecha).\n",
        "* `openmc.stats.CartesianIndependent()`: distribución factorizada en distribuciones univariadas para $x$, $y$, $z$."
      ]
    },
    {
      "cell_type": "markdown",
      "metadata": {
        "id": "JU-JRWuHPG2d"
      },
      "source": [
        "Distribuciones angulares:\n",
        "* `openmc.stats.Isotropic()`: distribución isotrópica en la esfera unitaria.\n",
        "* `openmc.stats.Monodirectional()`: distribución delta en una dirección angular, $\\delta(\\hat{\\Omega}-\\hat{\\Omega}_0)$.\n",
        "* `openmc.stats.PolarAzimuthal()`: distribución factorizada en distribuciones univariadas para $\\mu = \\cos(\\theta)$ y $\\phi$, respecto a una dirección dada (por defecto, $+z$)."
      ]
    },
    {
      "cell_type": "markdown",
      "metadata": {
        "id": "8OIeH5NQPG2e"
      },
      "source": [
        "Distribuciones univariadas (que pueden utilizarse también para energía):\n",
        "* `openmc.stats.Discrete()`: distribución caracterizada por valores discretos con probabilidad asociada.\n",
        "* `openmc.stats.Uniform()`: distribución con probabilidad constante en un intervalo $[a,b]$.\n",
        "* `openmc.stats.Tabular()`: distribución continua por trozos con una ley de interpolación (histograma, lin-lin, lin-log, log-lin o log-log`).\n",
        "* `openmc.stats.Watt()`: distribución de Watt (espectro de fisión: $\\chi(E) = C e^{-E/a} \\sinh{\\sqrt{b E}}$).\n",
        "* `openmc.stats.Maxwell()`: distribución de Maxwell (distribución térmica: $M(E) = C E e^{-E/kT}$)\n",
        "* `openmc.stats.Legendre()`: distribución de probabilidad dada por una expansión en polinomios de Legendre.\n",
        "* `openmc.stats.Mixture()`: distribución discreta en la que los valores son otras distribuciones (similar a `FCEL` en MCNP)."
      ]
    },
    {
      "cell_type": "markdown",
      "metadata": {
        "id": "hBp5FU1tPG2f"
      },
      "source": [
        "Por ejemplo, la fuga de neutrones de una esfera de agua de radio $5$ cm con una fuente monoenergética :"
      ]
    },
    {
      "cell_type": "code",
      "execution_count": null,
      "metadata": {
        "id": "M9LC73QwPG2g"
      },
      "outputs": [],
      "source": [
        "h2o = openmc.Material()\n",
        "h2o.add_nuclide(\"H1\", 2.0, \"ao\")\n",
        "h2o.add_nuclide(\"O16\", 1.0, \"ao\")\n",
        "h2o.set_density(\"g/cm3\", 1)\n",
        "h2o.add_s_alpha_beta(\"c_H_in_H2O\")\n",
        "\n",
        "mats = openmc.Materials([h2o])\n",
        "mats.cross_sections = \"/content/nndc_hdf5/cross_sections.xml\"\n",
        "mats.export_to_xml()\n",
        "\n",
        "esfera = openmc.Sphere(R=5, boundary_type=\"vacuum\")\n",
        "celda = openmc.Cell(region=-esfera, fill=h2o)\n",
        "universo = openmc.Universe(cells=[celda])\n",
        "\n",
        "geom = openmc.Geometry(universo)\n",
        "geom.export_to_xml()\n",
        "\n",
        "dist_espacial = openmc.stats.Point(xyz=(0.0, 0.0, 0.0))\n",
        "dist_angular = openmc.stats.Isotropic()\n",
        "dist_energetica = openmc.stats.Discrete([1.0e6], [1.0])\n",
        "\n",
        "fuente = openmc.Source()\n",
        "fuente.space = dist_espacial\n",
        "fuente.angle = dist_angular\n",
        "fuente.energy = dist_energetica\n",
        "\n",
        "parametros = openmc.Settings()\n",
        "parametros.source = fuente\n",
        "parametros.run_mode = \"fixed source\"\n",
        "parametros.batches = 100\n",
        "parametros.particles = 1000\n",
        "parametros.export_to_xml()"
      ]
    },
    {
      "cell_type": "code",
      "execution_count": null,
      "metadata": {
        "colab": {
          "base_uri": "https://localhost:8080/",
          "height": 1000
        },
        "id": "rIFeSrR_PG2i",
        "outputId": "49e32c6f-21c0-47b0-b7c2-32a7cf35ca06"
      },
      "outputs": [
        {
          "name": "stdout",
          "output_type": "stream",
          "text": [
            "\n",
            "                               %%%%%%%%%%%%%%%\n",
            "                          %%%%%%%%%%%%%%%%%%%%%%%%\n",
            "                       %%%%%%%%%%%%%%%%%%%%%%%%%%%%%%\n",
            "                     %%%%%%%%%%%%%%%%%%%%%%%%%%%%%%%%%%\n",
            "                   %%%%%%%%%%%%%%%%%%%%%%%%%%%%%%%%%%%%%%\n",
            "                  %%%%%%%%%%%%%%%%%%%%%%%%%%%%%%%%%%%%%%%%\n",
            "                                   %%%%%%%%%%%%%%%%%%%%%%%%\n",
            "                                    %%%%%%%%%%%%%%%%%%%%%%%%\n",
            "                ###############      %%%%%%%%%%%%%%%%%%%%%%%%\n",
            "               ##################     %%%%%%%%%%%%%%%%%%%%%%%\n",
            "               ###################     %%%%%%%%%%%%%%%%%%%%%%%\n",
            "               ####################     %%%%%%%%%%%%%%%%%%%%%%\n",
            "               #####################     %%%%%%%%%%%%%%%%%%%%%\n",
            "               ######################     %%%%%%%%%%%%%%%%%%%%\n",
            "               #######################     %%%%%%%%%%%%%%%%%%\n",
            "                #######################     %%%%%%%%%%%%%%%%%\n",
            "                ######################     %%%%%%%%%%%%%%%%%\n",
            "                 ####################     %%%%%%%%%%%%%%%%%\n",
            "                   #################     %%%%%%%%%%%%%%%%%\n",
            "                    ###############     %%%%%%%%%%%%%%%%\n",
            "                      ############     %%%%%%%%%%%%%%%\n",
            "                         ########     %%%%%%%%%%%%%%\n",
            "                                     %%%%%%%%%%%\n",
            "\n",
            "                   | The OpenMC Monte Carlo Code\n",
            "         Copyright | 2011-2018 Massachusetts Institute of Technology\n",
            "           License | http://openmc.readthedocs.io/en/latest/license.html\n",
            "           Version | 0.10.0\n",
            "          Git SHA1 | 455efffdbf6eacbc0b3b93ad61cfeb24490897d8\n",
            "         Date/Time | 2019-07-25 15:13:20\n",
            "    OpenMP Threads | 2\n",
            "\n",
            " Reading settings XML file...\n",
            " Reading cross sections XML file...\n",
            " Reading materials XML file...\n",
            " Reading geometry XML file...\n",
            " Building neighboring cells lists for each surface...\n",
            " Reading H1 from /content/nndc_hdf5/H1.h5\n",
            " Reading O16 from /content/nndc_hdf5/O16.h5\n",
            " Reading c_H_in_H2O from /content/nndc_hdf5/c_H_in_H2O.h5\n",
            " Maximum neutron transport energy: 2.00000E+07 eV for H1\n",
            " Writing summary.h5 file...\n",
            " Initializing source particles...\n",
            "\n",
            " ===============>     FIXED SOURCE TRANSPORT SIMULATION     <===============\n",
            "\n",
            " Simulating batch 1...\n",
            " Simulating batch 2...\n",
            " Simulating batch 3...\n",
            " Simulating batch 4...\n",
            " Simulating batch 5...\n",
            " Simulating batch 6...\n",
            " Simulating batch 7...\n",
            " Simulating batch 8...\n",
            " Simulating batch 9...\n",
            " Simulating batch 10...\n",
            " Simulating batch 11...\n",
            " Simulating batch 12...\n",
            " Simulating batch 13...\n",
            " Simulating batch 14...\n",
            " Simulating batch 15...\n",
            " Simulating batch 16...\n",
            " Simulating batch 17...\n",
            " Simulating batch 18...\n",
            " Simulating batch 19...\n",
            " Simulating batch 20...\n",
            " Simulating batch 21...\n",
            " Simulating batch 22...\n",
            " Simulating batch 23...\n",
            " Simulating batch 24...\n",
            " Simulating batch 25...\n",
            " Simulating batch 26...\n",
            " Simulating batch 27...\n",
            " Simulating batch 28...\n",
            " Simulating batch 29...\n",
            " Simulating batch 30...\n",
            " Simulating batch 31...\n",
            " Simulating batch 32...\n",
            " Simulating batch 33...\n",
            " Simulating batch 34...\n",
            " Simulating batch 35...\n",
            " Simulating batch 36...\n",
            " Simulating batch 37...\n",
            " Simulating batch 38...\n",
            " Simulating batch 39...\n",
            " Simulating batch 40...\n",
            " Simulating batch 41...\n",
            " Simulating batch 42...\n",
            " Simulating batch 43...\n",
            " Simulating batch 44...\n",
            " Simulating batch 45...\n",
            " Simulating batch 46...\n",
            " Simulating batch 47...\n",
            " Simulating batch 48...\n",
            " Simulating batch 49...\n",
            " Simulating batch 50...\n",
            " Simulating batch 51...\n",
            " Simulating batch 52...\n",
            " Simulating batch 53...\n",
            " Simulating batch 54...\n",
            " Simulating batch 55...\n",
            " Simulating batch 56...\n",
            " Simulating batch 57...\n",
            " Simulating batch 58...\n",
            " Simulating batch 59...\n",
            " Simulating batch 60...\n",
            " Simulating batch 61...\n",
            " Simulating batch 62...\n",
            " Simulating batch 63...\n",
            " Simulating batch 64...\n",
            " Simulating batch 65...\n",
            " Simulating batch 66...\n",
            " Simulating batch 67...\n",
            " Simulating batch 68...\n",
            " Simulating batch 69...\n",
            " Simulating batch 70...\n",
            " Simulating batch 71...\n",
            " Simulating batch 72...\n",
            " Simulating batch 73...\n",
            " Simulating batch 74...\n",
            " Simulating batch 75...\n",
            " Simulating batch 76...\n",
            " Simulating batch 77...\n",
            " Simulating batch 78...\n",
            " Simulating batch 79...\n",
            " Simulating batch 80...\n",
            " Simulating batch 81...\n",
            " Simulating batch 82...\n",
            " Simulating batch 83...\n",
            " Simulating batch 84...\n",
            " Simulating batch 85...\n",
            " Simulating batch 86...\n",
            " Simulating batch 87...\n",
            " Simulating batch 88...\n",
            " Simulating batch 89...\n",
            " Simulating batch 90...\n",
            " Simulating batch 91...\n",
            " Simulating batch 92...\n",
            " Simulating batch 93...\n",
            " Simulating batch 94...\n",
            " Simulating batch 95...\n",
            " Simulating batch 96...\n",
            " Simulating batch 97...\n",
            " Simulating batch 98...\n",
            " Simulating batch 99...\n",
            " Simulating batch 100...\n",
            " Creating state point statepoint.100.h5...\n",
            "\n",
            " =======================>     TIMING STATISTICS     <=======================\n",
            "\n",
            " Total time for initialization     =  1.0600E-01 seconds\n",
            "   Reading cross sections          =  7.6089E-02 seconds\n",
            " Total time in simulation          =  1.5989E+00 seconds\n",
            "   Time in transport only          =  1.0732E+00 seconds\n",
            "   Time in active batches          =  1.5989E+00 seconds\n",
            "   Time accumulating tallies       =  1.2835E-04 seconds\n",
            " Total time for finalization       =  1.1392E-05 seconds\n",
            " Total time elapsed                =  1.7105E+00 seconds\n",
            " Calculation Rate (active)         =  62544.5 neutrons/second\n",
            "\n",
            " ============================>     RESULTS     <============================\n",
            "\n",
            " Leakage Fraction            =  0.95943 +/-  0.00066\n",
            "\n"
          ]
        },
        {
          "data": {
            "text/plain": [
              "0"
            ]
          },
          "execution_count": 23,
          "metadata": {
            "tags": []
          },
          "output_type": "execute_result"
        }
      ],
      "source": [
        "!rm statepoint.*.h5\n",
        "!rm summary.h5\n",
        "openmc.run()"
      ]
    },
    {
      "cell_type": "markdown",
      "metadata": {
        "id": "9fmFRYwRa-Hw"
      },
      "source": [
        "## Fuentes distribuidas en cálculos de criticidad"
      ]
    },
    {
      "cell_type": "markdown",
      "metadata": {
        "id": "c_fQUazNPG2m"
      },
      "source": [
        "Ahora que sabemos definir fuentes podemos volver a la simulación de Godiva. Como vimos, el estimador del factor de multiplicación estaba sobreestimado en las primeras generaciones porque la fuente inicial estaba concentrada en la región de máxima importancia (el centro de la esfera). Si, por el contrario, ponemos una fuente inicial distribuida en todo el núcleo la aproximación será por abajo:"
      ]
    },
    {
      "cell_type": "code",
      "execution_count": null,
      "metadata": {
        "id": "oLAjJjIOPG2n"
      },
      "outputs": [],
      "source": [
        "umet = openmc.Material()\n",
        "umet.add_nuclide(\"U235\", 0.9473, 'wo')\n",
        "umet.add_nuclide(\"U238\", 0.0527, 'wo')\n",
        "umet.add_nuclide(\"U234\", 0.0102, 'wo')\n",
        "umet.set_density(\"g/cm3\", 18.74)\n",
        "\n",
        "mats = openmc.Materials([umet])\n",
        "mats.cross_sections = \"/content/nndc_hdf5/cross_sections.xml\"\n",
        "mats.export_to_xml()\n",
        "\n",
        "esfera = openmc.Sphere(R=8.74, boundary_type=\"vacuum\")\n",
        "godiva = openmc.Cell(region = -esfera, fill=umet)\n",
        "simulacion = openmc.Universe(cells=[godiva])\n",
        "\n",
        "geom = openmc.Geometry(simulacion)\n",
        "geom.export_to_xml()\n",
        "\n",
        "run = openmc.Settings()\n",
        "run.run_mode = \"eigenvalue\"\n",
        "run.particles = 1000\n",
        "run.batches = 110\n",
        "run.inactive = 10\n",
        "\n",
        "fuente = openmc.Source()\n",
        "dist_espacial = openmc.stats.Box((-9.0, -9.0, -9.0), (+9.0, +9.0, +9.0), only_fissionable=True)\n",
        "dist_angular = openmc.stats.Isotropic()\n",
        "fuente.space = dist_espacial\n",
        "fuente.angle = dist_angular\n",
        "\n",
        "run.source = fuente\n",
        "\n",
        "run.export_to_xml()"
      ]
    },
    {
      "cell_type": "code",
      "execution_count": null,
      "metadata": {
        "colab": {
          "base_uri": "https://localhost:8080/",
          "height": 1000
        },
        "id": "eh3bJl5CPG2p",
        "outputId": "23d85979-a422-4602-adad-94d8849c45d0"
      },
      "outputs": [
        {
          "name": "stdout",
          "output_type": "stream",
          "text": [
            "rm: cannot remove 'statepoint.110.h5': No such file or directory\n",
            "\n",
            "                               %%%%%%%%%%%%%%%\n",
            "                          %%%%%%%%%%%%%%%%%%%%%%%%\n",
            "                       %%%%%%%%%%%%%%%%%%%%%%%%%%%%%%\n",
            "                     %%%%%%%%%%%%%%%%%%%%%%%%%%%%%%%%%%\n",
            "                   %%%%%%%%%%%%%%%%%%%%%%%%%%%%%%%%%%%%%%\n",
            "                  %%%%%%%%%%%%%%%%%%%%%%%%%%%%%%%%%%%%%%%%\n",
            "                                   %%%%%%%%%%%%%%%%%%%%%%%%\n",
            "                                    %%%%%%%%%%%%%%%%%%%%%%%%\n",
            "                ###############      %%%%%%%%%%%%%%%%%%%%%%%%\n",
            "               ##################     %%%%%%%%%%%%%%%%%%%%%%%\n",
            "               ###################     %%%%%%%%%%%%%%%%%%%%%%%\n",
            "               ####################     %%%%%%%%%%%%%%%%%%%%%%\n",
            "               #####################     %%%%%%%%%%%%%%%%%%%%%\n",
            "               ######################     %%%%%%%%%%%%%%%%%%%%\n",
            "               #######################     %%%%%%%%%%%%%%%%%%\n",
            "                #######################     %%%%%%%%%%%%%%%%%\n",
            "                ######################     %%%%%%%%%%%%%%%%%\n",
            "                 ####################     %%%%%%%%%%%%%%%%%\n",
            "                   #################     %%%%%%%%%%%%%%%%%\n",
            "                    ###############     %%%%%%%%%%%%%%%%\n",
            "                      ############     %%%%%%%%%%%%%%%\n",
            "                         ########     %%%%%%%%%%%%%%\n",
            "                                     %%%%%%%%%%%\n",
            "\n",
            "                   | The OpenMC Monte Carlo Code\n",
            "         Copyright | 2011-2018 Massachusetts Institute of Technology\n",
            "           License | http://openmc.readthedocs.io/en/latest/license.html\n",
            "           Version | 0.10.0\n",
            "          Git SHA1 | 455efffdbf6eacbc0b3b93ad61cfeb24490897d8\n",
            "         Date/Time | 2019-07-25 15:16:41\n",
            "    OpenMP Threads | 2\n",
            "\n",
            " Reading settings XML file...\n",
            " Reading cross sections XML file...\n",
            " Reading materials XML file...\n",
            " Reading geometry XML file...\n",
            " Building neighboring cells lists for each surface...\n",
            " Reading U235 from /content/nndc_hdf5/U235.h5\n",
            " Reading U238 from /content/nndc_hdf5/U238.h5\n",
            " Reading U234 from /content/nndc_hdf5/U234.h5\n",
            " Maximum neutron transport energy: 2.00000E+07 eV for U235\n",
            " Writing summary.h5 file...\n",
            " Initializing source particles...\n",
            "\n",
            " ====================>     K EIGENVALUE SIMULATION     <====================\n",
            "\n",
            "  Bat./Gen.      k            Average k         \n",
            "  =========   ========   ====================   \n",
            "        1/1    0.89483                       \n",
            "        2/1    0.90015                       \n",
            "        3/1    0.93230                       \n",
            "        4/1    0.97088                       \n",
            "        5/1    0.98708                       \n",
            "        6/1    0.95391                       \n",
            "        7/1    0.99556                       \n",
            "        8/1    0.99773                       \n",
            "        9/1    1.03710                       \n",
            "       10/1    1.02869                       \n",
            "       11/1    1.01820                       \n",
            "       12/1    0.99359    1.00589 +/- 0.01230\n",
            "       13/1    1.00653    1.00611 +/- 0.00711\n",
            "       14/1    0.95355    0.99297 +/- 0.01407\n",
            "       15/1    1.01200    0.99677 +/- 0.01154\n",
            "       16/1    0.99833    0.99703 +/- 0.00943\n",
            "       17/1    0.97753    0.99425 +/- 0.00844\n",
            "       18/1    1.00212    0.99523 +/- 0.00738\n",
            "       19/1    1.04390    1.00064 +/- 0.00846\n",
            "       20/1    1.00921    1.00149 +/- 0.00761\n",
            "       21/1    0.97138    0.99876 +/- 0.00741\n",
            "       22/1    0.95283    0.99493 +/- 0.00777\n",
            "       23/1    0.98190    0.99393 +/- 0.00722\n",
            "       24/1    1.01787    0.99564 +/- 0.00690\n",
            "       25/1    0.99471    0.99558 +/- 0.00642\n",
            "       26/1    1.01107    0.99654 +/- 0.00609\n",
            "       27/1    0.94965    0.99379 +/- 0.00635\n",
            "       28/1    1.02599    0.99558 +/- 0.00625\n",
            "       29/1    0.99360    0.99547 +/- 0.00591\n",
            "       30/1    1.00360    0.99588 +/- 0.00562\n",
            "       31/1    1.00611    0.99636 +/- 0.00537\n",
            "       32/1    0.97377    0.99534 +/- 0.00522\n",
            "       33/1    0.95386    0.99353 +/- 0.00530\n",
            "       34/1    0.97744    0.99286 +/- 0.00512\n",
            "       35/1    0.99917    0.99312 +/- 0.00492\n",
            "       36/1    0.97397    0.99238 +/- 0.00478\n",
            "       37/1    0.96899    0.99151 +/- 0.00468\n",
            "       38/1    0.99304    0.99157 +/- 0.00451\n",
            "       39/1    0.96270    0.99057 +/- 0.00447\n",
            "       40/1    0.95664    0.98944 +/- 0.00446\n",
            "       41/1    1.02764    0.99067 +/- 0.00449\n",
            "       42/1    1.05502    0.99268 +/- 0.00479\n",
            "       43/1    0.98219    0.99237 +/- 0.00465\n",
            "       44/1    0.98486    0.99215 +/- 0.00452\n",
            "       45/1    0.99965    0.99236 +/- 0.00439\n",
            "       46/1    0.99853    0.99253 +/- 0.00427\n",
            "       47/1    0.98747    0.99239 +/- 0.00416\n",
            "       48/1    0.99050    0.99234 +/- 0.00405\n",
            "       49/1    1.06420    0.99419 +/- 0.00435\n",
            "       50/1    1.00343    0.99442 +/- 0.00425\n",
            "       51/1    0.97959    0.99406 +/- 0.00416\n",
            "       52/1    0.95533    0.99313 +/- 0.00416\n",
            "       53/1    0.92889    0.99164 +/- 0.00433\n",
            "       54/1    1.03466    0.99262 +/- 0.00434\n",
            "       55/1    1.02646    0.99337 +/- 0.00431\n",
            "       56/1    0.98913    0.99328 +/- 0.00422\n",
            "       57/1    0.99687    0.99335 +/- 0.00413\n",
            "       58/1    0.95058    0.99246 +/- 0.00414\n",
            "       59/1    0.96295    0.99186 +/- 0.00410\n",
            "       60/1    1.03307    0.99269 +/- 0.00410\n",
            "       61/1    1.01966    0.99321 +/- 0.00405\n",
            "       62/1    1.01253    0.99359 +/- 0.00399\n",
            "       63/1    1.01770    0.99404 +/- 0.00394\n",
            "       64/1    1.01815    0.99449 +/- 0.00389\n",
            "       65/1    1.01652    0.99489 +/- 0.00384\n",
            "       66/1    0.98662    0.99474 +/- 0.00377\n",
            "       67/1    1.00309    0.99489 +/- 0.00371\n",
            "       68/1    0.99062    0.99481 +/- 0.00365\n",
            "       69/1    1.01792    0.99520 +/- 0.00361\n",
            "       70/1    0.96417    0.99469 +/- 0.00358\n",
            "       71/1    1.01865    0.99508 +/- 0.00355\n",
            "       72/1    0.97636    0.99478 +/- 0.00350\n",
            "       73/1    1.00387    0.99492 +/- 0.00345\n",
            "       74/1    1.01416    0.99522 +/- 0.00341\n",
            "       75/1    0.97291    0.99488 +/- 0.00337\n",
            "       76/1    0.98582    0.99474 +/- 0.00332\n",
            "       77/1    0.96760    0.99434 +/- 0.00330\n",
            "       78/1    1.04291    0.99505 +/- 0.00333\n",
            "       79/1    1.01285    0.99531 +/- 0.00329\n",
            "       80/1    0.92266    0.99427 +/- 0.00340\n",
            "       81/1    0.97694    0.99403 +/- 0.00336\n",
            "       82/1    1.00502    0.99418 +/- 0.00332\n",
            "       83/1    1.03527    0.99474 +/- 0.00332\n",
            "       84/1    0.93323    0.99391 +/- 0.00338\n",
            "       85/1    0.98542    0.99380 +/- 0.00334\n",
            "       86/1    0.98125    0.99363 +/- 0.00330\n",
            "       87/1    0.99313    0.99363 +/- 0.00325\n",
            "       88/1    1.01854    0.99395 +/- 0.00323\n",
            "       89/1    0.92409    0.99306 +/- 0.00331\n",
            "       90/1    0.99223    0.99305 +/- 0.00327\n",
            "       91/1    1.01241    0.99329 +/- 0.00323\n",
            "       92/1    0.94174    0.99266 +/- 0.00326\n",
            "       93/1    0.99767    0.99272 +/- 0.00322\n",
            "       94/1    1.04084    0.99330 +/- 0.00323\n",
            "       95/1    0.98897    0.99324 +/- 0.00319\n",
            "       96/1    0.97056    0.99298 +/- 0.00317\n",
            "       97/1    0.95199    0.99251 +/- 0.00316\n",
            "       98/1    0.96668    0.99222 +/- 0.00314\n",
            "       99/1    1.03972    0.99275 +/- 0.00315\n",
            "      100/1    0.95637    0.99235 +/- 0.00314\n",
            "      101/1    1.00996    0.99254 +/- 0.00311\n",
            "      102/1    0.92894    0.99185 +/- 0.00316\n",
            "      103/1    0.99452    0.99188 +/- 0.00312\n",
            "      104/1    0.97656    0.99171 +/- 0.00309\n",
            "      105/1    1.03956    0.99222 +/- 0.00310\n",
            "      106/1    0.95697    0.99185 +/- 0.00309\n",
            "      107/1    1.00107    0.99195 +/- 0.00306\n",
            "      108/1    0.98909    0.99192 +/- 0.00303\n",
            "      109/1    0.99890    0.99199 +/- 0.00300\n",
            "      110/1    1.01923    0.99226 +/- 0.00298\n",
            " Creating state point statepoint.110.h5...\n",
            "\n",
            " =======================>     TIMING STATISTICS     <=======================\n",
            "\n",
            " Total time for initialization     =  1.7881E-01 seconds\n",
            "   Reading cross sections          =  1.5172E-01 seconds\n",
            " Total time in simulation          =  4.7127E-01 seconds\n",
            "   Time in transport only          =  4.3849E-01 seconds\n",
            "   Time in inactive batches        =  5.2834E-02 seconds\n",
            "   Time in active batches          =  4.1844E-01 seconds\n",
            "   Time synchronizing fission bank =  3.4299E-03 seconds\n",
            "     Sampling source sites         =  2.8416E-03 seconds\n",
            "     SEND/RECV source sites        =  4.9020E-04 seconds\n",
            "   Time accumulating tallies       =  6.3577E-05 seconds\n",
            " Total time for finalization       =  7.9080E-06 seconds\n",
            " Total time elapsed                =  6.5548E-01 seconds\n",
            " Calculation Rate (inactive)       =  1.89273E+05 neutrons/second\n",
            " Calculation Rate (active)         =  2.38983E+05 neutrons/second\n",
            "\n",
            " ============================>     RESULTS     <============================\n",
            "\n",
            " k-effective (Collision)     =  0.99350 +/-  0.00351\n",
            " k-effective (Track-length)  =  0.99226 +/-  0.00298\n",
            " k-effective (Absorption)    =  1.00286 +/-  0.00378\n",
            " Combined k-effective        =  0.99654 +/-  0.00226\n",
            " Leakage Fraction            =  0.57185 +/-  0.00154\n",
            "\n"
          ]
        },
        {
          "data": {
            "text/plain": [
              "0"
            ]
          },
          "execution_count": 25,
          "metadata": {
            "tags": []
          },
          "output_type": "execute_result"
        }
      ],
      "source": [
        "!rm statepoint.110.h5\n",
        "!rm summary.h5\n",
        "openmc.run()"
      ]
    },
    {
      "cell_type": "code",
      "execution_count": null,
      "metadata": {
        "colab": {
          "base_uri": "https://localhost:8080/",
          "height": 287
        },
        "id": "YS89dFVcPG2t",
        "outputId": "601e077c-e70e-46f0-c951-546db2e60a43"
      },
      "outputs": [
        {
          "data": {
            "text/plain": [
              "<matplotlib.legend.Legend at 0x7fd053ffed30>"
            ]
          },
          "execution_count": 26,
          "metadata": {
            "tags": []
          },
          "output_type": "execute_result"
        },
        {
          "data": {
            "image/png": "[encoded data removed]",
            "text/plain": [
              "<Figure size 432x288 with 1 Axes>"
            ]
          },
          "metadata": {
            "tags": []
          },
          "output_type": "display_data"
        }
      ],
      "source": [
        "estado4 = openmc.StatePoint(\"statepoint.110.h5\")\n",
        "keff4 = estado4.k_generation\n",
        "plot(keff, label=\"fuente puntual\")\n",
        "plot(keff4, label=\"fuente distribuida\")\n",
        "legend()"
      ]
    },
    {
      "cell_type": "code",
      "execution_count": null,
      "metadata": {
        "id": "crvruQHNfEXO"
      },
      "outputs": [],
      "source": []
    }
  ],
  "metadata": {
    "colab": {
      "collapsed_sections": [
        "4x3hJX0SPOz2"
      ],
      "provenance": []
    },
    "kernelspec": {
      "display_name": "Python 3",
      "language": "python",
      "name": "python3"
    },
    "language_info": {
      "codemirror_mode": {
        "name": "ipython",
        "version": 3
      },
      "file_extension": ".py",
      "mimetype": "text/x-python",
      "name": "python",
      "nbconvert_exporter": "python",
      "pygments_lexer": "ipython3",
      "version": "3.9.17"
    }
  },
  "nbformat": 4,
  "nbformat_minor": 0
}
