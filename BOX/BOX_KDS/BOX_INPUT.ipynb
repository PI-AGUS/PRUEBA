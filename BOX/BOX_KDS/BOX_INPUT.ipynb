{
 "cells": [
  {
   "cell_type": "markdown",
   "metadata": {},
   "source": [
    "# BOX-INPUT\n"
   ]
  },
  {
   "cell_type": "code",
   "execution_count": 1,
   "metadata": {},
   "outputs": [],
   "source": [
    "import openmc\n",
    "import numpy as np\n",
    "import os\n",
    "import math\n",
    "import matplotlib.pyplot as plt\n",
    "import pandas as pd\n",
    "import kdsource as kds\n",
    "from mpl_toolkits.mplot3d import Axes3D as ax\n"
   ]
  },
  {
   "cell_type": "markdown",
   "metadata": {},
   "source": [
    "#### Biblioteca de secciones eficaces"
   ]
  },
  {
   "cell_type": "code",
   "execution_count": 2,
   "metadata": {},
   "outputs": [],
   "source": [
    "openmc_data = \"/home/agusgimenez/Desktop/Secciones/endfb-viii.0-hdf5/cross_sections.xml\"\n",
    "os.environ[\"OPENMC_CROSS_SECTIONS\"] = openmc_data\n",
    "openmc.config['cross_sections'] = openmc_data"
   ]
  },
  {
   "cell_type": "markdown",
   "metadata": {},
   "source": [
    "### MATERIALES"
   ]
  },
  {
   "cell_type": "code",
   "execution_count": 3,
   "metadata": {},
   "outputs": [],
   "source": [
    "mat01 = openmc.Material(material_id=0) #agua\n",
    "mat01.add_nuclide('H1',2.000,'ao')\n",
    "mat01.add_nuclide('O16',0.9976,'ao')\n",
    "mat01.add_nuclide('O17',0.00035,'ao')\n",
    "mat01.add_s_alpha_beta('c_H_in_H2O')\n",
    "mat01.set_density('g/cm3',1.00)"
   ]
  },
  {
   "cell_type": "markdown",
   "metadata": {},
   "source": [
    "### PARAMETROS DE GEOMETRIAS\n"
   ]
  },
  {
   "cell_type": "code",
   "execution_count": 4,
   "metadata": {},
   "outputs": [],
   "source": [
    "\n",
    "#bloque mat01\n",
    "alpha =5.0 #escaleo del largo\n",
    "L = 5.0 #semi-alto-ancho\n",
    "\n",
    "#FUENTE\n",
    "R = 1.0\n",
    "\n"
   ]
  },
  {
   "cell_type": "markdown",
   "metadata": {},
   "source": [
    "### GEOMETRIAS\n"
   ]
  },
  {
   "cell_type": "code",
   "execution_count": 5,
   "metadata": {},
   "outputs": [
    {
     "data": {
      "text/plain": [
       "<Axes: xlabel='x [cm]', ylabel='z [cm]'>"
      ]
     },
     "execution_count": 5,
     "metadata": {},
     "output_type": "execute_result"
    },
    {
     "data": {
      "image/png": "[encoded data removed]",
      "text/plain": [
       "<Figure size 258.065x259.74 with 1 Axes>"
      ]
     },
     "metadata": {},
     "output_type": "display_data"
    },
    {
     "data": {
      "image/png": "[encoded data removed]",
      "text/plain": [
       "<Figure size 68.3871x962.338 with 1 Axes>"
      ]
     },
     "metadata": {},
     "output_type": "display_data"
    },
    {
     "data": {
      "image/png": "[encoded data removed]",
      "text/plain": [
       "<Figure size 68.3871x962.338 with 1 Axes>"
      ]
     },
     "metadata": {},
     "output_type": "display_data"
    }
   ],
   "source": [
    "\n",
    "#bloque mat01\n",
    "surf1 = openmc.XPlane(-L)\n",
    "surf1.boundary_type = 'vacuum'\n",
    "\n",
    "surf6 = openmc.XPlane(L)\n",
    "surf6.boundary_type = 'vacuum'\n",
    "\n",
    "surf2 = openmc.YPlane(-L)\n",
    "surf2.boundary_type = 'vacuum'\n",
    "\n",
    "surf5 = openmc.YPlane(L)\n",
    "surf5.boundary_type = 'vacuum'\n",
    "\n",
    "\n",
    "surf3 = openmc.ZPlane(0)\n",
    "surf3.boundary_type = 'vacuum'\n",
    "\n",
    "surf7 = openmc.ZPlane(alpha*L)\n",
    "\n",
    "surf8 = openmc.ZPlane(2*alpha*L)\n",
    "surf8.boundary_type = 'vacuum'\n",
    "\n",
    "\n",
    "\n",
    "cell01 = openmc.Cell(fill=None,cell_id=1)\n",
    "cell01.region = +surf1 & -surf6 & +surf2 & -surf5 & +surf3 & -surf7\n",
    "\n",
    "cell02 = openmc.Cell(fill=None,cell_id=2)\n",
    "cell02.region = +surf1 & -surf6 & +surf2 & -surf5 & +surf7 & -surf8\n",
    "\n",
    "univ01 = openmc.Universe(cells=[cell01,cell02],universe_id=1) \n",
    "univ01.plot(origin=(0.0,0.0,L/2),width=(4*L,4*L))\n",
    "univ01.plot(origin=(0.0,0.0,50*L/2),width=(4*L,55*L),basis='yz')\n",
    "univ01.plot(origin=(0.0,0.0,50*L/2),width=(4*L,55*L),basis='xz')\n",
    "\n",
    "\n",
    "\n",
    "\n",
    "\n",
    "\n"
   ]
  },
  {
   "cell_type": "markdown",
   "metadata": {},
   "source": [
    "### SOURCE"
   ]
  },
  {
   "cell_type": "code",
   "execution_count": 6,
   "metadata": {},
   "outputs": [
    {
     "name": "stderr",
     "output_type": "stream",
     "text": [
      "/home/agusgimenez/anaconda3/envs/openmc_develop/lib/python3.9/site-packages/openmc/source.py:539: FutureWarning: This class is deprecated in favor of 'IndependentSource'\n",
      "  warnings.warn(\"This class is deprecated in favor of 'IndependentSource'\", FutureWarning)\n"
     ]
    }
   ],
   "source": [
    "\n",
    "S = openmc.Source()\n",
    "S.particle = 'neutron'\n",
    "#dist_espacial'\n",
    "\n",
    "r = openmc.stats.PowerLaw(0.0,R,1.0)\n",
    "phi = openmc.stats.Uniform(0.0 , 2*math.pi)\n",
    "z = openmc.stats.Discrete(0.0 , 1.0)\n",
    "S.space = openmc.stats.CylindricalIndependent(r,phi,z)\n",
    "\n",
    "#dist_Energia\n",
    "S.energy = openmc.stats.Discrete(30.0,1.0)\n",
    "\n",
    "#dist_angular.\n",
    "\n",
    "S.angle = openmc.stats.Monodirectional(reference_uvw=[0.0,0.0,1.0])"
   ]
  },
  {
   "cell_type": "markdown",
   "metadata": {},
   "source": [
    "#### Configuracion de filtros y tallys"
   ]
  },
  {
   "cell_type": "code",
   "execution_count": 7,
   "metadata": {},
   "outputs": [],
   "source": [
    "# tallies = openmc.Tallies()\n",
    "\n",
    "\n",
    "# #FILTRO PARTICULA\n",
    "# Filtro_particula_neutron    =   openmc.ParticleFilter(['neutron'],filter_id = 0)\n",
    "\n",
    "\n",
    "# #FILTRO SUPERFICIE CHECK SOURCE\n",
    "# Filtro_surface_source       =   openmc.SurfaceFilter(surf7.id,filter_id=7)\n",
    "# Filtro_Energy_source        =   openmc.EnergyFilter(np.logspace(-5,2,100),filter_id=8)\n",
    "\n",
    "# #GRILLA\n",
    "\n",
    "# mesh_vacio_xy = openmc.RegularMesh.from_domain(domain=cell01,dimension=(100,100,1),mesh_id=1)\n",
    "# mesh_vacio_xy.lower_left = [-L, -L, 0]\n",
    "# mesh_vacio_xy.upper_rigth = [L, L, alpha*L]\n",
    "\n",
    "# mesh_vacio_xz = openmc.RegularMesh.from_domain(domain=cell01,dimension=(100,1,500),mesh_id=2)\n",
    "# mesh_vacio_xz.lower_left = [-L, -L, 0]\n",
    "# mesh_vacio_xy.upper_rigth = [L, L, alpha*L]\n",
    "\n",
    "# mesh_vacio_yz = openmc.RegularMesh.from_domain(domain=cell01,dimension=(1,100,500),mesh_id=3)\n",
    "# mesh_vacio_yz.lower_left = [-L, -L, 0]\n",
    "# mesh_vacio_yz.upper_rigth = [L, L, alpha*L]\n",
    "\n",
    "# #FILTRO ESPACIAL\n",
    "\n",
    "# filt_vacio_xy = openmc.filter.MeshFilter(mesh_vacio_xy,filter_id=1)\n",
    "# filt_vacio_xz = openmc.filter.MeshFilter(mesh_vacio_xz,filter_id=2)\n",
    "# filt_vacio_yz = openmc.filter.MeshFilter(mesh_vacio_yz,filter_id=3)\n",
    "\n",
    "\n",
    "# #Tallys\n",
    "\n",
    "# dist_vacio_xy = openmc.Tally(name='vacio_xy' , tally_id=1)\n",
    "# dist_vacio_xy.scores = [\"flux\"]\n",
    "# dist_vacio_xy.filters = [filt_vacio_xy, Filtro_particula_neutron]\n",
    "# tallies.append(dist_vacio_xy)\n",
    "\n",
    "# dist_vacio_xz = openmc.Tally(name='vacio_xz' , tally_id=2)\n",
    "# dist_vacio_xz.scores = [\"flux\"]\n",
    "# dist_vacio_xz.filters = [filt_vacio_xz, Filtro_particula_neutron]\n",
    "# tallies.append(dist_vacio_xz)\n",
    "\n",
    "# dist_vacio_yz = openmc.Tally(name='vacio_yz' , tally_id=3)\n",
    "# dist_vacio_yz.scores = [\"flux\"]\n",
    "# dist_vacio_yz.filters = [filt_vacio_yz, Filtro_particula_neutron]\n",
    "# tallies.append(dist_vacio_yz)\n",
    "\n",
    "\n",
    "# dist_surface_source = openmc.Tally(name='check_source', tally_id=7)\n",
    "# dist_surface_source.scores = [\"current\"]\n",
    "# dist_surface_source.filters = [Filtro_surface_source, Filtro_Energy_source,Filtro_particula_neutron]\n",
    "# tallies.append(dist_surface_source)"
   ]
  },
  {
   "cell_type": "markdown",
   "metadata": {},
   "source": [
    "#### PARAMETROS DE EJECUCION"
   ]
  },
  {
   "cell_type": "code",
   "execution_count": 8,
   "metadata": {},
   "outputs": [],
   "source": [
    "#Numero de particulas \n",
    "N = int(1E6)\n",
    "\n",
    "param = openmc.Settings()\n",
    "param.source = S\n",
    "param.run_mode = \"fixed source\"\n",
    "param.batches = 1\n",
    "param.particles = N\n",
    "\n",
    "#Superficies donde escribe las particulas\n",
    "superficies = [surf7.id]\n",
    "\n",
    "param.surf_source_write = {\n",
    "    'surface_ids': superficies,\n",
    "    'max_particles': len(superficies)*N,\n",
    "    'mcpl':True\n",
    "}\n",
    "\n"
   ]
  },
  {
   "cell_type": "markdown",
   "metadata": {},
   "source": [
    "#### GENERACION DE ARCHIVOS XML"
   ]
  },
  {
   "cell_type": "code",
   "execution_count": 9,
   "metadata": {},
   "outputs": [],
   "source": [
    "\n",
    "geom = openmc.Geometry(univ01)\n",
    "geom.export_to_xml()\n",
    "\n",
    "mats = openmc.Materials(univ01.get_all_materials().values())\n",
    "mats.cross_sections = openmc_data\n",
    "mats.export_to_xml()\n",
    "\n",
    "\n",
    "param.export_to_xml()\n",
    "\n",
    "# tallies.export_to_xml()\n"
   ]
  },
  {
   "cell_type": "markdown",
   "metadata": {},
   "source": [
    "    ## RUN"
   ]
  },
  {
   "cell_type": "code",
   "execution_count": 10,
   "metadata": {},
   "outputs": [
    {
     "name": "stdout",
     "output_type": "stream",
     "text": [
      "rm: cannot remove 'statepoint.*.h5': No such file or directory\n",
      "rm: cannot remove 'summary.h5': No such file or directory\n",
      "                                %%%%%%%%%%%%%%%\n",
      "                           %%%%%%%%%%%%%%%%%%%%%%%%\n",
      "                        %%%%%%%%%%%%%%%%%%%%%%%%%%%%%%\n",
      "                      %%%%%%%%%%%%%%%%%%%%%%%%%%%%%%%%%%\n",
      "                    %%%%%%%%%%%%%%%%%%%%%%%%%%%%%%%%%%%%%%\n",
      "                   %%%%%%%%%%%%%%%%%%%%%%%%%%%%%%%%%%%%%%%%\n",
      "                                    %%%%%%%%%%%%%%%%%%%%%%%%\n",
      "                                     %%%%%%%%%%%%%%%%%%%%%%%%\n",
      "                 ###############      %%%%%%%%%%%%%%%%%%%%%%%%\n",
      "                ##################     %%%%%%%%%%%%%%%%%%%%%%%\n",
      "                ###################     %%%%%%%%%%%%%%%%%%%%%%%\n",
      "                ####################     %%%%%%%%%%%%%%%%%%%%%%\n",
      "                #####################     %%%%%%%%%%%%%%%%%%%%%\n",
      "                ######################     %%%%%%%%%%%%%%%%%%%%\n",
      "                #######################     %%%%%%%%%%%%%%%%%%\n",
      "                 #######################     %%%%%%%%%%%%%%%%%\n",
      "                 ######################     %%%%%%%%%%%%%%%%%\n",
      "                  ####################     %%%%%%%%%%%%%%%%%\n",
      "                    #################     %%%%%%%%%%%%%%%%%\n",
      "                     ###############     %%%%%%%%%%%%%%%%\n",
      "                       ############     %%%%%%%%%%%%%%%\n",
      "                          ########     %%%%%%%%%%%%%%\n",
      "                                      %%%%%%%%%%%\n",
      "\n",
      "                 | The OpenMC Monte Carlo Code\n",
      "       Copyright | 2011-2024 MIT, UChicago Argonne LLC, and contributors\n",
      "         License | https://docs.openmc.org/en/latest/license.html\n",
      "         Version | 0.14.1-dev\n",
      "        Git SHA1 | e0a0405dc07037e42096b3b56e1f2574681e0a85\n",
      "       Date/Time | 2024-02-19 16:52:54\n",
      "  OpenMP Threads | 4\n",
      "\n",
      " Reading settings XML file...\n",
      " Reading cross sections XML file...\n",
      " Reading materials XML file...\n",
      " Reading geometry XML file...\n",
      " Minimum neutron data temperature: 1.7976931348623157e+308 K\n",
      " Maximum neutron data temperature: 0 K\n",
      " Preparing distributed cell instances...\n",
      " Reading plot XML file...\n",
      " Writing summary.h5 file...\n",
      "\n",
      " ===============>     FIXED SOURCE TRANSPORT SIMULATION     <===============\n",
      "\n",
      " Simulating batch 1\n",
      " Creating state point statepoint.1.h5...\n",
      "\n",
      " =======================>     TIMING STATISTICS     <=======================\n",
      "\n",
      " Total time for initialization     = 9.2787e-02 seconds\n",
      "   Reading cross sections          = 7.0169e-05 seconds\n",
      " Total time in simulation          = 9.8865e-01 seconds\n",
      "   Time in transport only          = 6.5482e-01 seconds\n",
      "   Time in active batches          = 9.8865e-01 seconds\n",
      "   Time accumulating tallies       = 2.3720e-06 seconds\n",
      "   Time writing statepoints        = 2.0992e-03 seconds\n",
      " Total time for finalization       = 6.4880e-06 seconds\n",
      " Total time elapsed                = 1.1447e+00 seconds\n",
      " Calculation Rate (active)         = 1.01148e+06 particles/second\n",
      "\n",
      " ============================>     RESULTS     <============================\n",
      "\n",
      " WARNING: Could not compute uncertainties -- only one active batch simulated!\n",
      " Leakage Fraction           = 1.00000\n",
      "\n"
     ]
    }
   ],
   "source": [
    "!rm statepoint.*.h5\n",
    "!rm summary.h5\n",
    "openmc.run()"
   ]
  },
  {
   "cell_type": "code",
   "execution_count": 11,
   "metadata": {},
   "outputs": [],
   "source": [
    "def get_df_NormVolum(\n",
    "    tally = openmc.Tally(),\n",
    "    Plot = False,\n",
    "    xlabel='x [cm]',\n",
    "    ylabel='y [cm]'\n",
    "):\n",
    "    \"\"\"Plot 2-D distribution for given spatial variables (xy, xz, yz)\n",
    "\n",
    "    Returns\n",
    "    -------    \n",
    "    matplotlib 2-D plot for the Tally with the proper\n",
    "    normalization.\n",
    "    \"\"\"\n",
    "    \n",
    "    mesh = tally.find_filter(openmc.filter.MeshFilter)\n",
    "    upper_right = mesh.mesh.upper_right\n",
    "    lower_left  = mesh.mesh.lower_left\n",
    "    N    = mesh.mesh.dimension    \n",
    "    DV   = (upper_right-lower_left)/N\n",
    "    df = tally.get_pandas_dataframe()\n",
    "    df['mean'] = df['mean']/(DV[0]*DV[1]*DV[2])\n",
    "    \n",
    "    print(N)\n",
    "    print(DV)\n",
    "    if Plot == True:\n",
    "        mean = np.array(df['mean'])\n",
    "        if N[0] == 1:\n",
    "            extent = (lower_left[1], upper_right[1], lower_left[2],upper_right[2])\n",
    "            mean.shape=(N[2],N[1])\n",
    "        elif N[1] == 1:\n",
    "            extent = (lower_left[0], upper_right[0], lower_left[2],upper_right[2])\n",
    "            mean.shape=(N[2],N[0])\n",
    "        elif N[2] == 1:\n",
    "            extent = (lower_left[0], upper_right[0], lower_left[1],upper_right[1])\n",
    "            mean.shape=(N[1],N[0])\n",
    "        else:\n",
    "            print(\"X\") \n",
    "            return df\n",
    "        \n",
    "        plt.imshow(mean, origin='lower', interpolation='none', extent=extent, cmap='viridis')\n",
    "        plt.colorbar()\n",
    "        plt.xlabel(xlabel)\n",
    "        plt.ylabel(ylabel)\n",
    "        plt.show()\n",
    "    return df\n",
    "    \n",
    "    \n",
    "def get_df_NormEnergy(\n",
    "    tally = openmc.Tally(),\n",
    "    Plot = False,\n",
    "    xlabel1='Energy [ev]',\n",
    "    E0    = float\n",
    "):\n",
    "    \"\"\"Plot 2-D distribution for given Energy variable (E , u)\n",
    "    Returns\n",
    "    -------    \n",
    "    matplotlib 2-D plot for the Tally with the proper\n",
    "    normalization.\n",
    "    \"\"\"\n",
    "    \n",
    "    df = tally.get_pandas_dataframe()\n",
    "    Emax = df['energy high [eV]']\n",
    "    Emin = df['energy low [eV]']\n",
    "    DE = Emax-Emin\n",
    "    E   = (Emax+Emin)/2\n",
    "    units = '[n/s]'\n",
    "    df['mean'] = df['mean']*DE\n",
    "    \n",
    "    if Plot == True:\n",
    "        plt.plot(E,df['mean'])\n",
    "        ylabel = df['score'][1] + units\n",
    "        plt.ylabel(ylabel)\n",
    "        plt.xlabel(xlabel1)\n",
    "    return df\n",
    "    \n"
   ]
  },
  {
   "cell_type": "markdown",
   "metadata": {},
   "source": [
    "#### Se obtiene la distribucion espacial por neutron de fuente."
   ]
  },
  {
   "cell_type": "code",
   "execution_count": 12,
   "metadata": {},
   "outputs": [],
   "source": [
    "# sp = openmc.StatePoint(\"statepoint.1.h5\")\n",
    "# tally_vacio_xy  = sp.get_tally(name='vacio_xy')\n",
    "# tally_vacio_xz  = sp.get_tally(name='vacio_xz')\n",
    "# tally_vacio_yz  = sp.get_tally(name='vacio_yz')\n",
    "# get_df_NormVolum(tally_vacio_xz,Plot=True,ylabel='z [cm]')\n",
    "# get_df_NormVolum(tally_vacio_xy,Plot=True,ylabel='z [cm]')\n",
    "# get_df_NormVolum(tally_vacio_yz,Plot=True,ylabel='z [cm]')\n"
   ]
  },
  {
   "cell_type": "code",
   "execution_count": 13,
   "metadata": {},
   "outputs": [
    {
     "name": "stdout",
     "output_type": "stream",
     "text": [
      "Number of particles in file surface_source.mcpl: 1000000\n",
      "100% n, 0% g, 0% e-, 0% e+, 0% p, \n",
      "Using existing file surface_source.mcpl\n",
      "sum_weights = 1000000.0\n",
      "p2 = 1000000.0\n",
      "N = 1000000\n",
      "N_eff = 1000000.0\n"
     ]
    }
   ],
   "source": [
    "Plano_1 = kds.surfsource.SurfaceSourceFile('surface_source.mcpl') \n",
    "plist_1 = kds.PList(\"surface_source.mcpl\")\n",
    "geometry_1 = kds.Geometry([kds.geom.SurfXY(xmin=-L,xmax=L,ymin=-L,ymax=L)])\n",
    "S_1 = kds.KDSource(plist_1,geometry_1)"
   ]
  },
  {
   "cell_type": "code",
   "execution_count": 14,
   "metadata": {},
   "outputs": [],
   "source": [
    "var_importance = [1,1]\n",
    "\n",
    "parts,ws = S_1.plist.get(N=-1)\n",
    "scaling = S_1.geom.std(parts=parts)\n",
    "scaling /= var_importance\n",
    "\n",
    "# Number of particles to use for optimization.\n",
    "# A large number (1E5 or more) gives better bandwidths, but takes longer to\n",
    "# compute.\n",
    "N = 1"
   ]
  },
  {
   "cell_type": "code",
   "execution_count": 15,
   "metadata": {},
   "outputs": [
    {
     "name": "stdout",
     "output_type": "stream",
     "text": [
      "Using 1 particles for fit.\n",
      "Calculating bw ... \n",
      "Done\n",
      "Optimal bw (silv) = [[0.50003781 0.50005067]]\n"
     ]
    }
   ],
   "source": [
    "S_1.bw_method = \"silv\"\n",
    "S_1.fit(N, scaling=scaling)\n"
   ]
  },
  {
   "cell_type": "code",
   "execution_count": 16,
   "metadata": {},
   "outputs": [
    {
     "name": "stdout",
     "output_type": "stream",
     "text": [
      "Successfully saved parameters file Source_1.xml\n"
     ]
    },
    {
     "name": "stdout",
     "output_type": "stream",
     "text": [
      "Reading xmlfile Source_1.xml...\n",
      "Done.\n",
      "Resampling...\n",
      "MCPL: Attempting to compress file resampled_1.mcpl with gzip\n",
      "MCPL: Succesfully compressed file into resampled_1.mcpl.gz\n",
      "Successfully sampled 100000000 particles.\n"
     ]
    }
   ],
   "source": [
    "xmlfile = \"Source_1.xml\"\n",
    "S_1.save(xmlfile)\n",
    "\n",
    "N_resampled = 1E8\n",
    "\n",
    "!kdtool resample \"$xmlfile\" -o \"resampled_1\" -n $N_resampled\n",
    "resampled = \"resampled_1.mcpl.gz\" \n"
   ]
  },
  {
   "cell_type": "code",
   "execution_count": 17,
   "metadata": {},
   "outputs": [],
   "source": [
    "#Numero de particulas \n",
    "N = int(1E7)\n",
    "param_resampled = openmc.Settings()\n",
    "# param.surface = openmc.Settings.surf_source_read('Source_1.xml')\n",
    "\n",
    "param_resampled.source = openmc.FileSource(resampled)\n",
    "param_resampled.run_mode = \"fixed source\"\n",
    "param_resampled.batches = 10\n",
    "param_resampled.particles = N\n",
    "\n",
    "superficies = [surf8.id]\n",
    "\n",
    "param_resampled.surf_source_write = {\n",
    "    'surface_ids': superficies,\n",
    "    'max_particles': len(superficies)*N,\n",
    "    'mcpl':False\n",
    "}\n",
    "\n",
    "\n",
    "# Bueno aca no estoy muy seguro de como seguir, mis opciones son ir por lo que escribi y ver como pasar el archivo xml al cpp de openmc, al FILESOURCE"
   ]
  },
  {
   "cell_type": "code",
   "execution_count": 18,
   "metadata": {},
   "outputs": [],
   "source": [
    "# tallies_resampled = openmc.Tallies()\n",
    "\n",
    "\n",
    "# #FILTRO PARTICULA\n",
    "# Filtro_particula_neutron_resampled = openmc.ParticleFilter(['neutron'],filter_id = 0)\n",
    "\n",
    "# #GRILLA\n",
    "\n",
    "# mesh_vacio_xy_resampled = openmc.RegularMesh.from_domain(domain=cell02,dimension=(100,100,1),mesh_id=1)\n",
    "# mesh_vacio_xy_resampled.lower_left = [-L, -L, alpha*L]\n",
    "# mesh_vacio_xy_resampled.upper_rigth = [L, L, 2*alpha*L]\n",
    "\n",
    "# mesh_vacio_xz_resampled = openmc.RegularMesh.from_domain(domain=cell02,dimension=(100,1,500),mesh_id=2)\n",
    "# mesh_vacio_xz_resampled.lower_left = [-L, -L, alpha*L]\n",
    "# mesh_vacio_xy_resampled.upper_rigth = [L, L, 2*alpha*L]\n",
    "\n",
    "# mesh_vacio_yz_resampled = openmc.RegularMesh.from_domain(domain=cell02,dimension=(1,100,500),mesh_id=3)\n",
    "# mesh_vacio_yz_resampled.lower_left = [-L, -L, alpha*L]\n",
    "# mesh_vacio_yz_resampled.upper_rigth = [L, L, 2*alpha*L]\n",
    "\n",
    "# #FILTRO ESPACIAL\n",
    "\n",
    "# filt_vacio_xy_resampled = openmc.filter.MeshFilter(mesh_vacio_xy_resampled,filter_id=1)\n",
    "# filt_vacio_xz_resampled = openmc.filter.MeshFilter(mesh_vacio_xz_resampled,filter_id=2)\n",
    "# filt_vacio_yz_resampled = openmc.filter.MeshFilter(mesh_vacio_yz_resampled,filter_id=3)\n",
    "\n",
    "\n",
    "# #Tallys\n",
    "\n",
    "# dist_vacio_xy_resampled = openmc.Tally(name='vacio_xy' , tally_id=1)\n",
    "# dist_vacio_xy_resampled.scores = [\"flux\"]\n",
    "# dist_vacio_xy_resampled.filters = [filt_vacio_xy_resampled, Filtro_particula_neutron_resampled]\n",
    "# tallies_resampled.append(dist_vacio_xy_resampled)\n",
    "\n",
    "# dist_vacio_xz_resampled = openmc.Tally(name='vacio_xz' , tally_id=2)\n",
    "# dist_vacio_xz_resampled.scores = [\"flux\"]\n",
    "# dist_vacio_xz_resampled.filters = [filt_vacio_xz_resampled, Filtro_particula_neutron_resampled]\n",
    "# tallies_resampled.append(dist_vacio_xz_resampled)\n",
    "\n",
    "# dist_vacio_yz_resampled = openmc.Tally(name='vacio_yz' , tally_id=3)\n",
    "# dist_vacio_yz_resampled.scores = [\"flux\"]\n",
    "# dist_vacio_yz_resampled.filters = [filt_vacio_yz_resampled, Filtro_particula_neutron_resampled]\n",
    "# tallies_resampled.append(dist_vacio_yz_resampled)\n",
    "\n"
   ]
  },
  {
   "cell_type": "code",
   "execution_count": 19,
   "metadata": {},
   "outputs": [
    {
     "name": "stdout",
     "output_type": "stream",
     "text": [
      "rm: cannot remove 'tallies.xml': No such file or directory\n"
     ]
    }
   ],
   "source": [
    "!rm geometry.xml\n",
    "!rm materials.xml\n",
    "!rm settings.xml\n",
    "!rm tallies.xml\n",
    "\n",
    "geom = openmc.Geometry(univ01)\n",
    "geom.export_to_xml()\n",
    "mats = openmc.Materials(univ01.get_all_materials().values())\n",
    "mats.cross_sections = openmc_data\n",
    "mats.export_to_xml()\n",
    "\n",
    "\n",
    "param_resampled.export_to_xml()\n",
    "\n",
    "# tallies_resampled.export_to_xml()"
   ]
  },
  {
   "cell_type": "code",
   "execution_count": 27,
   "metadata": {},
   "outputs": [
    {
     "name": "stdout",
     "output_type": "stream",
     "text": [
      "                                %%%%%%%%%%%%%%%\n",
      "                           %%%%%%%%%%%%%%%%%%%%%%%%\n",
      "                        %%%%%%%%%%%%%%%%%%%%%%%%%%%%%%\n",
      "                      %%%%%%%%%%%%%%%%%%%%%%%%%%%%%%%%%%\n",
      "                    %%%%%%%%%%%%%%%%%%%%%%%%%%%%%%%%%%%%%%\n",
      "                   %%%%%%%%%%%%%%%%%%%%%%%%%%%%%%%%%%%%%%%%\n",
      "                                    %%%%%%%%%%%%%%%%%%%%%%%%\n",
      "                                     %%%%%%%%%%%%%%%%%%%%%%%%\n",
      "                 ###############      %%%%%%%%%%%%%%%%%%%%%%%%\n",
      "                ##################     %%%%%%%%%%%%%%%%%%%%%%%\n",
      "                ###################     %%%%%%%%%%%%%%%%%%%%%%%\n",
      "                ####################     %%%%%%%%%%%%%%%%%%%%%%\n",
      "                #####################     %%%%%%%%%%%%%%%%%%%%%\n",
      "                ######################     %%%%%%%%%%%%%%%%%%%%\n",
      "                #######################     %%%%%%%%%%%%%%%%%%\n",
      "                 #######################     %%%%%%%%%%%%%%%%%\n",
      "                 ######################     %%%%%%%%%%%%%%%%%\n",
      "                  ####################     %%%%%%%%%%%%%%%%%\n",
      "                    #################     %%%%%%%%%%%%%%%%%\n",
      "                     ###############     %%%%%%%%%%%%%%%%\n",
      "                       ############     %%%%%%%%%%%%%%%\n",
      "                          ########     %%%%%%%%%%%%%%\n",
      "                                      %%%%%%%%%%%\n",
      "\n",
      "                 | The OpenMC Monte Carlo Code\n",
      "       Copyright | 2011-2024 MIT, UChicago Argonne LLC, and contributors\n",
      "         License | https://docs.openmc.org/en/latest/license.html\n",
      "         Version | 0.14.1-dev\n",
      "        Git SHA1 | e0a0405dc07037e42096b3b56e1f2574681e0a85\n",
      "       Date/Time | 2024-02-19 16:57:26\n",
      "  OpenMP Threads | 1\n",
      "\n",
      " Reading settings XML file...\n",
      " Reading cross sections XML file...\n",
      " Reading materials XML file...\n",
      " Reading geometry XML file...\n",
      " Minimum neutron data temperature: 1.7976931348623157e+308 K\n",
      " Maximum neutron data temperature: 0 K\n",
      " Preparing distributed cell instances...\n",
      " Reading plot XML file...\n",
      " Writing summary.h5 file...\n",
      "\n",
      " ===============>     FIXED SOURCE TRANSPORT SIMULATION     <===============\n",
      "\n",
      " Simulating batch 1\n",
      " Simulating batch 2\n",
      " Simulating batch 3\n",
      " Simulating batch 4\n",
      " Simulating batch 5\n",
      " Simulating batch 6\n",
      " Simulating batch 7\n",
      " Simulating batch 8\n",
      " Simulating batch 9\n",
      " Simulating batch 10\n",
      " Creating state point statepoint.10.h5...\n",
      "\n",
      " =======================>     TIMING STATISTICS     <=======================\n",
      "\n",
      " Total time for initialization     = 4.2352e+01 seconds\n",
      "   Reading cross sections          = 4.9564e-05 seconds\n",
      " Total time in simulation          = 1.5818e+02 seconds\n",
      "   Time in transport only          = 1.4713e+02 seconds\n",
      "   Time in active batches          = 1.5818e+02 seconds\n",
      "   Time accumulating tallies       = 1.2719e-05 seconds\n",
      "   Time writing statepoints        = 2.4168e-03 seconds\n",
      " Total time for finalization       = 3.1270e-06 seconds\n",
      " Total time elapsed                = 2.0116e+02 seconds\n",
      " Calculation Rate (active)         = 632175 particles/second\n",
      "\n",
      " ============================>     RESULTS     <============================\n",
      "\n",
      " Leakage Fraction            = 1.00000 +/- 0.00000\n",
      "\n"
     ]
    }
   ],
   "source": [
    "!rm statepoint.*.h5\n",
    "!rm summary.h5\n",
    "openmc.run(threads=1)"
   ]
  },
  {
   "cell_type": "code",
   "execution_count": 21,
   "metadata": {},
   "outputs": [],
   "source": [
    "# sp_resampled = openmc.StatePoint(\"statepoint.10.h5\")\n",
    "# tally_vacio_xy_resampled  = sp_resampled.get_tally(name='vacio_xy')\n",
    "# tally_vacio_xz_resampled  = sp_resampled.get_tally(name='vacio_xz')\n",
    "# tally_vacio_yz_resampled  = sp_resampled.get_tally(name='vacio_yz')\n",
    "# get_df_NormVolum(tally_vacio_xz_resampled,Plot=True,ylabel='z [cm]')\n",
    "# get_df_NormVolum(tally_vacio_xy_resampled,Plot=True,ylabel='z [cm]')\n",
    "# get_df_NormVolum(tally_vacio_yz_resampled,Plot=True,ylabel='z [cm]')"
   ]
  },
  {
   "cell_type": "code",
   "execution_count": 22,
   "metadata": {},
   "outputs": [],
   "source": [
    "# Plano_1.get_pandas_dataframe()\n"
   ]
  },
  {
   "cell_type": "code",
   "execution_count": 23,
   "metadata": {},
   "outputs": [],
   "source": [
    "# Plano_1_resampled = kds.surfsource.SurfaceSourceFile('surface_source.h5')\n",
    "# Plano_1_resampled.get_pandas_dataframe()"
   ]
  },
  {
   "cell_type": "code",
   "execution_count": 24,
   "metadata": {},
   "outputs": [],
   "source": [
    "# Plano_1_resampled.get_pandas_dataframe()['y'].value_counts()\n"
   ]
  },
  {
   "cell_type": "code",
   "execution_count": 25,
   "metadata": {},
   "outputs": [],
   "source": [
    "# Plano_1.plot_distribution(vars=['x','y'],bins=[100,100], scales=['linear','linear'], norm_vars=[], info=True, zscale='linear')\n"
   ]
  },
  {
   "cell_type": "code",
   "execution_count": 26,
   "metadata": {},
   "outputs": [],
   "source": [
    "# Plano_1_resampled.Source_factor(Plano_1,update=True)\n",
    "\n",
    "# Plano_1_resampled.plot_distribution(vars=['x','y'],bins=[100,100], scales=['linear','linear'], norm_vars=[], info=True, zscale='linear')\n"
   ]
  },
  {
   "cell_type": "code",
   "execution_count": null,
   "metadata": {},
   "outputs": [],
   "source": []
  }
 ],
 "metadata": {
  "kernelspec": {
   "display_name": "base",
   "language": "python",
   "name": "python3"
  },
  "language_info": {
   "codemirror_mode": {
    "name": "ipython",
    "version": 3
   },
   "file_extension": ".py",
   "mimetype": "text/x-python",
   "name": "python",
   "nbconvert_exporter": "python",
   "pygments_lexer": "ipython3",
   "version": "3.9.18"
  },
  "orig_nbformat": 4
 },
 "nbformat": 4,
 "nbformat_minor": 2
}
