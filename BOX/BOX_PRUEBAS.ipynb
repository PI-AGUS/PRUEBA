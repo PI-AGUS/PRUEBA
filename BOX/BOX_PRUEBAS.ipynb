{
 "cells": [
  {
   "cell_type": "code",
   "execution_count": null,
   "metadata": {},
   "outputs": [],
   "source": [
    "import openmc\n",
    "import numpy as np\n",
    "import os\n",
    "import math\n",
    "import matplotlib.pyplot as plt\n",
    "import pandas as pd\n",
    "import kdsource as kds\n",
    "from mpl_toolkits.mplot3d import Axes3D as ax"
   ]
  },
  {
   "cell_type": "code",
   "execution_count": null,
   "metadata": {},
   "outputs": [],
   "source": [
    "openmc_data = \"/home/agusgimenez/KD_OPMC/Secciones/endfb-vii.1-hdf5/cross_sections.xml\"\n",
    "os.environ[\"OPENMC_CROSS_SECTIONS\"] = openmc_data\n",
    "openmc.config['cross_sections'] = openmc_data"
   ]
  },
  {
   "cell_type": "code",
   "execution_count": null,
   "metadata": {},
   "outputs": [],
   "source": [
    "#MATERIALES\n",
    "\n",
    "\n",
    "\n",
    "\n",
    "\n",
    "mat01 = openmc.Material(material_id=0) #agua\n",
    "mat01.add_nuclide('H1',2.000,'ao')\n",
    "mat01.add_nuclide('O16',0.9976,'ao')\n",
    "mat01.add_nuclide('O17',0.00035,'ao')\n",
    "mat01.add_s_alpha_beta('c_H_in_H2O')\n",
    "mat01.set_density('g/cm3',1.00)\n",
    "\n",
    "\n",
    "mat02 = openmc.Material(material_id=1)\n",
    "mat02.add_nuclide('Cd106',1.22,'ao')\n",
    "mat02.add_nuclide('Cd108',0.88,'ao')\n",
    "mat02.add_nuclide('Cd110',12.39,'ao')\n",
    "mat02.add_nuclide('Cd111',12.75,'ao')\n",
    "mat02.add_nuclide('Cd112',24.07,'ao')\n",
    "mat02.add_nuclide('Cd113',12.26,'ao')\n",
    "mat02.add_nuclide('Cd114',28.86,'ao')\n",
    "mat02.add_nuclide('Cd116',7.58,'ao')\n",
    "\n",
    "mat02.set_density('g/cm3',8.65)\n"
   ]
  },
  {
   "cell_type": "code",
   "execution_count": null,
   "metadata": {},
   "outputs": [],
   "source": [
    "#PARAMETROS DE GEOMETRIAS\n",
    "\n",
    "#bloque mat01\n",
    "W =5.0 #semi-ancho\n",
    "H =5.0 #semi-alto\n",
    "L =1.0 #largo \n",
    "\n",
    "#bloque donde quiero ver la lista de particulas\n",
    "angle = math.radians(30)\n",
    "\n",
    "# #bloque mat02\n",
    "# e_cd =1.0 #espesor\n",
    "# w_cd =0.1 #ancho de cada bloque\n",
    "# if w_cd>W/2:\n",
    "#     exit\n",
    "\n",
    "\n",
    "#FUENTE\n",
    "R = 1.0"
   ]
  },
  {
   "cell_type": "code",
   "execution_count": null,
   "metadata": {},
   "outputs": [],
   "source": [
    "#GEOMETRIAS\n",
    "\n",
    "#bloque mat01\n",
    "surf1 = openmc.XPlane(-W)\n",
    "surf1.boundary_type = 'vacuum'\n",
    "\n",
    "surf6 = openmc.XPlane(W)\n",
    "surf6.boundary_type = 'vacuum'\n",
    "\n",
    "surf2 = openmc.YPlane(-H)\n",
    "surf2.boundary_type = 'vacuum'\n",
    "\n",
    "surf5 = openmc.YPlane(H)\n",
    "surf5.boundary_type = 'vacuum'\n",
    "\n",
    "\n",
    "surf3 = openmc.ZPlane(0)\n",
    "surf3.boundary_type = 'vacuum'\n",
    "\n",
    "surf4 = openmc.ZPlane(L)\n",
    "\n",
    "surf7 = openmc.ZPlane(51*L)\n",
    "surf7.boundary_type = 'vacuum'\n",
    "\n",
    "\n",
    "\n",
    "\n",
    "cell01 = openmc.Cell(fill=mat01,cell_id=1)\n",
    "cell01.region = +surf1 & -surf6 & +surf2 & -surf5 & +surf3 & -surf4\n",
    "\n",
    "\n",
    "#source.hs\n",
    "surf_source = openmc.Plane.from_points((-W,-H,L),(-W,H,L),(0.0,0.0,L+W*math.sin(angle)/math.cos(angle)))\n",
    "cell02 = openmc.Cell(fill=None,cell_id=2)\n",
    "cell02.region = +surf4 & +surf_source & +surf1 & -surf6 & +surf2 & -surf5\n",
    "\n",
    "\n",
    "cell00 = openmc.Cell(fill=None,cell_id=0)\n",
    "cell00.region = -surf7 & -surf_source & +surf1 & -surf6 & +surf2 & -surf5\n",
    "\n",
    "\n",
    "univ01 = openmc.Universe(cells=[cell00,cell01, cell02],universe_id=1) \n",
    "univ01.plot(origin=(0.0,0.0,L/2),width=(4*W,4*W))\n",
    "univ01.plot(origin=(0.0,0.0,50*L/2),width=(4*W,55*L),basis='yz')\n",
    "univ01.plot(origin=(0.0,0.0,50*L/2),width=(4*W,55*L),basis='xz')\n",
    "\n"
   ]
  },
  {
   "cell_type": "code",
   "execution_count": null,
   "metadata": {},
   "outputs": [],
   "source": [
    "#Numero de particulas \n",
    "N = int(1E8)\n",
    "#PARAMETROS DE EJECUCION\n",
    "param = openmc.Settings()\n",
    "param.source = openmc.Source(filename='surface_source.h5')\n",
    "param.run_mode = \"fixed source\"\n",
    "param.batches = 1\n",
    "param.particles = N\n",
    "\n"
   ]
  },
  {
   "cell_type": "code",
   "execution_count": null,
   "metadata": {},
   "outputs": [],
   "source": [
    "#GENERACION DE ARCHIVOS XML\n",
    "geom = openmc.Geometry(univ01)\n",
    "geom.export_to_xml()\n",
    "\n",
    "mats = openmc.Materials(univ01.get_all_materials().values())\n",
    "mats.cross_sections = openmc_data\n",
    "mats.export_to_xml()\n",
    "\n",
    "\n",
    "param.export_to_xml()\n",
    "\n",
    "# tallies.export_to_xml()\n"
   ]
  },
  {
   "cell_type": "code",
   "execution_count": null,
   "metadata": {},
   "outputs": [],
   "source": [
    "!rm statepoint.*.h5\n",
    "!rm summary.h5\n",
    "openmc.run()"
   ]
  },
  {
   "cell_type": "code",
   "execution_count": null,
   "metadata": {},
   "outputs": [],
   "source": []
  }
 ],
 "metadata": {
  "kernelspec": {
   "display_name": "base",
   "language": "python",
   "name": "python3"
  },
  "language_info": {
   "codemirror_mode": {
    "name": "ipython",
    "version": 3
   },
   "file_extension": ".py",
   "mimetype": "text/x-python",
   "name": "python",
   "nbconvert_exporter": "python",
   "pygments_lexer": "ipython3",
   "version": "3.9.17"
  },
  "orig_nbformat": 4
 },
 "nbformat": 4,
 "nbformat_minor": 2
}
