{
 "cells": [
  {
   "cell_type": "code",
   "execution_count": 1,
   "metadata": {},
   "outputs": [],
   "source": [
    "import openmc\n",
    "import numpy as np\n",
    "import os\n",
    "import math\n",
    "import matplotlib.pyplot as plt\n",
    "import pandas as pd\n",
    "import kdsource as kds\n",
    "from mpl_toolkits.mplot3d import Axes3D as ax\n"
   ]
  },
  {
   "cell_type": "code",
   "execution_count": 2,
   "metadata": {},
   "outputs": [],
   "source": [
    "#PARAMETROS DE GEOMETRIAS\n",
    "\n",
    "#bloque mat01\n",
    "W =5.0 #semi-ancho\n",
    "H =5.0 #semi-alto\n",
    "L =1.0 #largo \n",
    "\n",
    "#bloque donde quiero ver la lista de particulas\n",
    "angle = math.radians(30)\n",
    "\n",
    "# #bloque mat02\n",
    "# e_cd =1.0 #espesor\n",
    "# w_cd =0.1 #ancho de cada bloque\n",
    "# if w_cd>W/2:\n",
    "#     exit\n",
    "\n",
    "\n",
    "#FUENTE\n",
    "R = 1.0 \n",
    "\n"
   ]
  },
  {
   "cell_type": "code",
   "execution_count": 3,
   "metadata": {},
   "outputs": [
    {
     "name": "stdout",
     "output_type": "stream",
     "text": [
      "Number of particles in file surface_source.h5: 1715558\n",
      "100% n, 0% g, 0% e-, 0% e+, 0% p, \n",
      "Saving into OpenMC format (HDF5)\n",
      "Done, saved into Plano_1.h5 file\n",
      "Number of particles in file surface_source.h5: 1715558\n",
      "100% n, 0% g, 0% e-, 0% e+, 0% p, \n",
      "Saving into OpenMC format (HDF5)\n",
      "Done, saved into Plano_3.h5 file\n"
     ]
    }
   ],
   "source": [
    "e = 0.0001*L \n",
    "rot = [0,0,0] #angulos de la matriz de rotacion\n",
    "\n",
    "#SEPARO POR PLANOS\n",
    "\n",
    "##plano a la saluda del cubo de agua\n",
    "Plano_1 = kds.surfsource.SurfaceSourceFile('surface_source.h5',domain={'z':[0,L+e]})\n",
    "Plano_1.save_source_file('Plano_1.h5')\n",
    "\n",
    "##Plano inclinado\n",
    "# Plano_2 = kds.surfsource.SurfaceSourceFile('surface_source.h5',domain={'z':[L+e,20*L]},set_domain_first=True)\n",
    "# Plano_2.save_source_file('Plano_2.h5')\n",
    "\n",
    "\n",
    "#Plano donde quiero comparar los metodos despues.\n",
    "Plano_3 = kds.surfsource.SurfaceSourceFile('surface_source.h5',domain={'z':[49*L,np.inf]},set_domain_first=True)\n",
    "Plano_3.save_source_file('Plano_3.h5')\n"
   ]
  },
  {
   "cell_type": "code",
   "execution_count": 4,
   "metadata": {},
   "outputs": [
    {
     "name": "stdout",
     "output_type": "stream",
     "text": [
      "Saving into MCPL format\n",
      "Saving into SSV format (ASCII)\n",
      "Done, saved into temp.txt file\n",
      "ssv_open_file: Opened file \"temp.txt\":\n",
      "MCPL: Attempting to compress file surfsource_1.mcpl with gzip\n",
      "MCPL: Succesfully compressed file into surfsource_1.mcpl.gz\n",
      "Created surfsource_1.mcpl.gz\n",
      "Done, saved into surfsource_1.mcpl file\n",
      "Using existing file surfsource_1.mcpl.gz\n",
      "sum_weights = 812800.0\n",
      "p2 = 812800.0\n",
      "N = 812800\n",
      "N_eff = 812800.0\n"
     ]
    }
   ],
   "source": [
    "#KDSource\n",
    "Plano_1.save_source_file(\"surfsource_1.mcpl\")\n",
    "# Plano_2.save_source_file(\"surfsource_2.mcpl\")\n",
    "\n",
    "\n",
    "#chekear como convierte a .mcpl y como accede a .h5\n",
    "plist_1 = kds.PList(\"surfsource_1.mcpl.gz\")\n",
    "# plist_2 = kds.PList(\"surfsource_2.mcpl.gz\")\n",
    "#la verdad aca tengo dudas pero bueno\n",
    "geom = kds.Geometry([kds.geom.Energy(),kds.geom.SurfXY(xmin=-W,xmax=W,ymin=-H,ymax=H),kds.geom.Isotrop()])\n",
    "\n",
    "S_1 = kds.KDSource(plist_1,geom)\n",
    "# S_2 = kds.KDSource(plist_2,geom)"
   ]
  },
  {
   "cell_type": "code",
   "execution_count": 5,
   "metadata": {},
   "outputs": [],
   "source": [
    "#OPTIMIZE BANDWITH\n",
    "var_importance = [3,1,1,1,1,1]\n",
    "\n",
    "parts,ws = S_1.plist.get(N=-1)\n",
    "scaling = S_1.geom.std(parts=parts)\n",
    "scaling /= var_importance\n",
    "\n",
    "# Number of particles to use for optimization.\n",
    "# A large number (1E5 or more) gives better bandwidths, but takes longer to\n",
    "# compute.\n",
    "N = 1E5"
   ]
  },
  {
   "cell_type": "code",
   "execution_count": 6,
   "metadata": {},
   "outputs": [
    {
     "name": "stdout",
     "output_type": "stream",
     "text": [
      "Using 100000 particles for fit.\n",
      "Calculating bw ... \n",
      "Done\n",
      "Optimal bw (silv) = [[1.17255287e-06 2.33723252e-01 2.33597941e-01 1.11740494e-01\n",
      "  1.11740494e-01 1.11740494e-01]]\n",
      "Using 100000 particles for fit.\n",
      "Calculating bw ... \n",
      "Using k = 10 neighbors per batch (batch_size = 10000)\n",
      "Correction factor: f_k = k_float / k = 1.0\n",
      "Effective total neighbors: K_eff = 100.0\n",
      "batch = 1 / 10\n",
      "batch = 2 / 10\n",
      "batch = 3 / 10\n",
      "batch = 4 / 10\n",
      "batch = 5 / 10\n",
      "batch = 6 / 10\n",
      "batch = 7 / 10\n",
      "batch = 8 / 10\n",
      "batch = 9 / 10\n",
      "batch = 10 / 10\n",
      "Done\n",
      "Optimal bw (knn) = [[2.26450277e-07 4.51380032e-02 4.51138023e-02 2.15799786e-02\n",
      "  2.15799786e-02 2.15799786e-02]\n",
      " [3.17116709e-06 6.32104110e-01 6.31765205e-01 3.02201963e-01\n",
      "  3.02201963e-01 3.02201963e-01]\n",
      " [4.15065724e-06 8.27344450e-01 8.26900867e-01 3.95544204e-01\n",
      "  3.95544204e-01 3.95544204e-01]\n",
      " ...\n",
      " [2.31549781e-07 4.61544800e-02 4.61297342e-02 2.20659449e-02\n",
      "  2.20659449e-02 2.20659449e-02]\n",
      " [4.69658244e-06 9.36162924e-01 9.35660998e-01 4.47569109e-01\n",
      "  4.47569109e-01 4.47569109e-01]\n",
      " [7.87877394e-06 1.57046451e+00 1.56962251e+00 7.50821663e-01\n",
      "  7.50821663e-01 7.50821663e-01]]\n",
      "Using 10000 particles for fit.\n",
      "Calculating bw ... \n"
     ]
    },
    {
     "name": "stderr",
     "output_type": "stream",
     "text": [
      "[Parallel(n_jobs=-1)]: Using backend LokyBackend with 4 concurrent workers.\n",
      "[Parallel(n_jobs=-1)]: Done   5 out of  10 | elapsed:   49.3s remaining:   49.3s\n",
      "[Parallel(n_jobs=-1)]: Done   7 out of  10 | elapsed:  1.3min remaining:   33.0s\n",
      "[Parallel(n_jobs=-1)]: Done  10 out of  10 | elapsed:  1.9min finished\n"
     ]
    },
    {
     "data": {
      "image/png": "[encoded data removed]",
      "text/plain": [
       "<Figure size 640x480 with 1 Axes>"
      ]
     },
     "metadata": {},
     "output_type": "display_data"
    },
    {
     "name": "stdout",
     "output_type": "stream",
     "text": [
      "Done\n",
      "Optimal bw (mlcv) = [[5.68817377e-08 1.13381538e-02 1.13320748e-02 5.42064554e-03\n",
      "  5.42064554e-03 5.42064554e-03]\n",
      " [7.96561160e-07 1.58777374e-01 1.58692245e-01 7.59097010e-02\n",
      "  7.59097010e-02 7.59097010e-02]\n",
      " [1.04259796e-06 2.07819530e-01 2.07708107e-01 9.93562119e-02\n",
      "  9.93562119e-02 9.93562119e-02]\n",
      " ...\n",
      " [8.91950111e-07 1.77791114e-01 1.77695791e-01 8.49999594e-02\n",
      "  8.49999594e-02 8.49999594e-02]\n",
      " [7.36331365e-08 1.46771857e-02 1.46693164e-02 7.01699965e-03\n",
      "  7.01699965e-03 7.01699965e-03]\n",
      " [9.63473351e-07 1.92047737e-01 1.91944770e-01 9.18158928e-02\n",
      "  9.18158928e-02 9.18158928e-02]]\n",
      "Using 100000 particles for fit.\n"
     ]
    }
   ],
   "source": [
    "S_1.bw_method = \"silv\"\n",
    "S_1.fit(N, scaling=scaling)\n",
    "\n",
    "# Method 3: Adaptive Maximum Likelihood Cross-Validation:\n",
    "# Creates a grid of adaptive bandwidths and evaluates the\n",
    "# cross-validation scores on each one, which is an indicator of the\n",
    "# quality of the estimation. Selects the bandwidth that optimizes\n",
    "# CV score.\n",
    "# kNN is used to generate the seed adaptive bandwidth.\n",
    "\n",
    "# kNN bandwidth\n",
    "S_1.bw_method = \"knn\"\n",
    "batch_size = 10000 # Batch size for KNN search\n",
    "k = 10             # Numer of neighbors per batch\n",
    "S_1.fit(N, scaling=scaling, batch_size=batch_size, k=k)\n",
    "bw_knn = S_1.kde.bw\n",
    "\n",
    "# MLCV optimization of previously calculated kNN bandwidth\n",
    "S_1.bw_method = \"mlcv\"\n",
    "N_cv = int(1E4)   # Use a smaller N to reduce computation times\n",
    "seed = bw_knn[:N_cv] # Use kNN BW as seed (first N elements)\n",
    "grid = np.logspace(-1,-0.4,10)\n",
    "S_1.fit(N_cv, scaling=scaling, seed=seed, grid=grid)\n",
    "bw_cv = S_1.kde.bw\n",
    "\n",
    "# Extend MLCV optimization to full KNN BW\n",
    "bw_knn_cv = bw_knn * bw_cv[0]/bw_knn[0] # Apply MLCV factor\n",
    "dim = S_1.geom.dim\n",
    "bw_knn_cv *= kds.bw_silv(dim,len(bw_knn))/kds.bw_silv(dim,len(bw_cv)) # Apply Silverman factor\n",
    "S_1 = kds.KDSource(plist_1, geom, bw=bw_knn_cv) # Create new KDSource with full BW\n",
    "S_1.fit(N=N, scaling=scaling)"
   ]
  },
  {
   "cell_type": "code",
   "execution_count": 7,
   "metadata": {},
   "outputs": [
    {
     "name": "stdout",
     "output_type": "stream",
     "text": [
      "Bandwidth file: surfsource_1_bws\n",
      "Successfully saved parameters file Source_1.xml\n"
     ]
    }
   ],
   "source": [
    "xmlfile = \"Source_1.xml\"\n",
    "\n",
    "S_1.save(xmlfile)\n",
    "\n",
    "N_resampled = 1E6"
   ]
  },
  {
   "cell_type": "code",
   "execution_count": 8,
   "metadata": {},
   "outputs": [
    {
     "name": "stdout",
     "output_type": "stream",
     "text": [
      "Reading xmlfile Source_1.xml...\n",
      "Done.\n",
      "Resampling...\n",
      "Warning: Particle list and bandwidths file have different size.\n",
      "Warning: Particle list and bandwidths file have different size.\n",
      "Warning: Particle list and bandwidths file have different size.\n",
      "Warning: Particle list and bandwidths file have different size.\n",
      "Warning: Particle list and bandwidths file have different size.\n",
      "Warning: Particle list and bandwidths file have different size.\n",
      "Warning: Particle list and bandwidths file have different size.\n",
      "Warning: Particle list and bandwidths file have different size.\n",
      "Warning: Particle list and bandwidths file have different size.\n",
      "Warning: Particle list and bandwidths file have different size.\n",
      "Warning: Particle list and bandwidths file have different size.\n",
      "MCPL: Attempting to compress file resampled_1.mcpl with gzip\n",
      "MCPL: Succesfully compressed file into resampled_1.mcpl.gz\n",
      "Successfully sampled 1000000 particles.\n"
     ]
    }
   ],
   "source": [
    "!kdtool resample \"$xmlfile\" -o \"resampled_1\" -n $N_resampled\n",
    "resampled = \"resampled_1.mcpl.gz\" ##esta linea no se para que se ura realmente."
   ]
  },
  {
   "cell_type": "code",
   "execution_count": 9,
   "metadata": {},
   "outputs": [
    {
     "name": "stdout",
     "output_type": "stream",
     "text": [
      "Number of particles in file resampled_1.mcpl.gz: 1000000\n",
      "100% n, 0% g, 0% e-, 0% e+, 0% p, \n",
      "Saving into OpenMC format (HDF5)\n",
      "Done, saved into plano_1_resampled.h5 file\n"
     ]
    }
   ],
   "source": [
    "Plano_resampled_1 = kds.surfsource.SurfaceSourceFile('resampled_1.mcpl.gz')\n",
    "Plano_resampled_1.save_source_file('plano_1_resampled.h5')\n",
    "\n",
    "\n"
   ]
  },
  {
   "cell_type": "code",
   "execution_count": 10,
   "metadata": {},
   "outputs": [],
   "source": [
    "# # #OPTIMIZE BANDWITH\n",
    "# var_importance = [3,1,1,1,1,1]\n",
    "\n",
    "# parts,ws = S_2.plist.get(N=-1)\n",
    "# scaling = S_2.geom.std(parts=parts)\n",
    "# scaling /= var_importance\n",
    "\n",
    "# # Number of particles to use for optimization.\n",
    "# # A large number (1E5 or more) gives better bandwidths, but takes longer to\n",
    "# # compute.\n",
    "# N = 1E5\n",
    "\n",
    "\n",
    "# S_2.bw_method = \"silv\"\n",
    "# S_2.fit(N, scaling=scaling)\n",
    "\n",
    "# xmlfile = \"Source_2.xml\"\n",
    "\n",
    "# S_2.save(xmlfile)\n",
    "\n",
    "# N_resampled = 1E6\n",
    "\n",
    "# !kdtool resample \"$xmlfile\" -o \"resampled_2\" -n $N_resampled\n",
    "# resampled_2 = \"resampled_2.mcpl.gz\"\n",
    "\n",
    "# Plano_resampled_2 = kds.surfsource.SurfaceSourceFile('resampled_2.mcpl.gz')\n",
    "# Plano_resampled_2.save_source_file('plano_2_resampled.h5')"
   ]
  }
 ],
 "metadata": {
  "kernelspec": {
   "display_name": "base",
   "language": "python",
   "name": "python3"
  },
  "language_info": {
   "codemirror_mode": {
    "name": "ipython",
    "version": 3
   },
   "file_extension": ".py",
   "mimetype": "text/x-python",
   "name": "python",
   "nbconvert_exporter": "python",
   "pygments_lexer": "ipython3",
   "version": "3.9.17"
  },
  "orig_nbformat": 4
 },
 "nbformat": 4,
 "nbformat_minor": 2
}
