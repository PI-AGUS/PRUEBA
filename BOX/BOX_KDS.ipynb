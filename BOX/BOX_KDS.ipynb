{
 "cells": [
  {
   "cell_type": "markdown",
   "metadata": {},
   "source": [
    "# BOX-KDS"
   ]
  },
  {
   "cell_type": "code",
   "execution_count": 1,
   "metadata": {},
   "outputs": [],
   "source": [
    "import openmc\n",
    "import numpy as np\n",
    "import os\n",
    "import math\n",
    "import matplotlib.pyplot as plt\n",
    "import pandas as pd\n",
    "import kdsource as kds\n",
    "from mpl_toolkits.mplot3d import Axes3D as ax\n"
   ]
  },
  {
   "cell_type": "markdown",
   "metadata": {},
   "source": [
    "### PARAMETROS DE GEOMETRIAS\n"
   ]
  },
  {
   "cell_type": "code",
   "execution_count": 2,
   "metadata": {},
   "outputs": [],
   "source": [
    "\n",
    "#bloque mat01\n",
    "W =5.0 #semi-ancho\n",
    "H =5.0 #semi-alto\n",
    "L =1.0 #largo \n",
    "\n",
    "#bloque donde quiero ver la lista de particulas\n",
    "angle = math.radians(30)"
   ]
  },
  {
   "cell_type": "markdown",
   "metadata": {},
   "source": [
    "### Creacion de Planos\n",
    "\n",
    "##### <span style=\"color:cyan\">Separacion por filtros de los planos</span>"
   ]
  },
  {
   "cell_type": "code",
   "execution_count": 3,
   "metadata": {},
   "outputs": [
    {
     "name": "stdout",
     "output_type": "stream",
     "text": [
      "Number of particles in file surface_source.h5: 2562839\n",
      "100% n, 0% g, 0% e-, 0% e+, 0% p, \n",
      "Saving into MCPL format\n",
      "Saving into SSV format (ASCII)\n",
      "Done, saved into temp.txt file\n",
      "ssv_open_file: Opened file \"temp.txt\":\n",
      "MCPL: Attempting to compress file surfsource_1.mcpl with gzip\n",
      "MCPL: Succesfully compressed file into surfsource_1.mcpl.gz\n",
      "Created surfsource_1.mcpl.gz\n",
      "Done, saved into surfsource_1.mcpl file\n"
     ]
    }
   ],
   "source": [
    "# e = 0.0001*L \n",
    "# rot = [0,0,0] #angulos de la matriz de rotacion\n",
    "\n",
    "#SEPARO POR PLANOS\n",
    "\n",
    "##plano a la salida del cubo de agua\n",
    "Plano_1 = kds.surfsource.SurfaceSourceFile('surface_source.h5') #,domain={'z':[0,L+e]})\n",
    "Plano_1.save_source_file(\"surfsource_1.mcpl\")\n",
    "\n",
    "\n",
    "##Plano inclinado\n",
    "# Plano_2 = kds.surfsource.SurfaceSourceFile('surface_source.h5',domain={'z':[L+e,20*L]},set_domain_first=True)\n",
    "# Plano_2.save_source_file('Plano_2.h5')\n",
    "\n",
    "\n",
    "#Plano donde quiero comparar los metodos despues.\n",
    "# Plano_3 = kds.surfsource.SurfaceSourceFile('surface_source.h5',domain={'z':[49*L,np.inf]},set_domain_first=True)\n",
    "# Plano_3.save_source_file('Plano_3.h5')\n"
   ]
  },
  {
   "cell_type": "markdown",
   "metadata": {},
   "source": [
    "# KDSource"
   ]
  },
  {
   "cell_type": "markdown",
   "metadata": {},
   "source": [
    "##### <span style=\"color:cyan\">Generacion de metricas, lista de particulas y KDSource</span>"
   ]
  },
  {
   "cell_type": "code",
   "execution_count": 4,
   "metadata": {},
   "outputs": [
    {
     "name": "stdout",
     "output_type": "stream",
     "text": [
      "Using existing file surfsource_1.mcpl.gz\n",
      "sum_weights = 2562839.0\n",
      "p2 = 2562839.0\n",
      "N = 2562839\n",
      "N_eff = 2562839.0\n"
     ]
    }
   ],
   "source": [
    "\n",
    "#chekear como convierte a .mcpl y como accede a .h5\n",
    "plist_1 = kds.PList(\"surfsource_1.mcpl.gz\")\n",
    "# plist_2 = kds.PList(\"surfsource_2.mcpl.gz\")\n",
    "#la verdad aca tengo dudas pero bueno\n",
    "geom = kds.Geometry([kds.geom.Energy(),kds.geom.SurfXY(xmin=-W,xmax=W,ymin=-H,ymax=H),kds.geom.Isotrop()])\n",
    "\n",
    "S_1 = kds.KDSource(plist_1,geom)\n",
    "# S_2 = kds.KDSource(plist_2,geom)"
   ]
  },
  {
   "cell_type": "markdown",
   "metadata": {},
   "source": [
    "##### <span style=\"color:cyan\">OPTIMIZE BANDWITH</span>"
   ]
  },
  {
   "cell_type": "code",
   "execution_count": 5,
   "metadata": {},
   "outputs": [],
   "source": [
    "var_importance = [5,1,1,1,1,1]\n",
    "\n",
    "parts,ws = S_1.plist.get(N=-1)\n",
    "scaling = S_1.geom.std(parts=parts)\n",
    "scaling /= var_importance\n",
    "\n",
    "# Number of particles to use for optimization.\n",
    "# A large number (1E5 or more) gives better bandwidths, but takes longer to\n",
    "# compute.\n",
    "N = 1E5"
   ]
  },
  {
   "cell_type": "code",
   "execution_count": 6,
   "metadata": {},
   "outputs": [
    {
     "name": "stdout",
     "output_type": "stream",
     "text": [
      "Using 100000 particles for fit.\n",
      "Calculating bw ... \n",
      "Done\n",
      "Optimal bw (silv) = [[2.16063548e-07 5.61699169e-01 5.61584465e-01 9.14157909e-03\n",
      "  9.14157909e-03 9.14157909e-03]]\n",
      "Using 100000 particles for fit.\n",
      "Calculating bw ... \n",
      "Using k = 10 neighbors per batch (batch_size = 10000)\n",
      "Correction factor: f_k = k_float / k = 1.0\n",
      "Effective total neighbors: K_eff = 100.0\n",
      "batch = 1 / 10\n",
      "batch = 2 / 10\n",
      "batch = 3 / 10\n",
      "batch = 4 / 10\n",
      "batch = 5 / 10\n",
      "batch = 6 / 10\n",
      "batch = 7 / 10\n",
      "batch = 8 / 10\n",
      "batch = 9 / 10\n",
      "batch = 10 / 10\n",
      "Done\n",
      "Optimal bw (knn) = [[5.45185489e-07 1.41731560e+00 1.41702617e+00 2.30666224e-02\n",
      "  2.30666224e-02 2.30666224e-02]\n",
      " [3.94182343e-07 1.02475358e+00 1.02454432e+00 1.66777279e-02\n",
      "  1.66777279e-02 1.66777279e-02]\n",
      " [1.17518997e-07 3.05513464e-01 3.05451075e-01 4.97219090e-03\n",
      "  4.97219090e-03 4.97219090e-03]\n",
      " ...\n",
      " [3.09677717e-07 8.05067389e-01 8.04902988e-01 1.31023644e-02\n",
      "  1.31023644e-02 1.31023644e-02]\n",
      " [5.20191739e-07 1.35233949e+00 1.35206333e+00 2.20091449e-02\n",
      "  2.20091449e-02 2.20091449e-02]\n",
      " [1.13870619e-07 2.96028796e-01 2.95968345e-01 4.81782920e-03\n",
      "  4.81782920e-03 4.81782920e-03]]\n",
      "Using 10000 particles for fit.\n",
      "Calculating bw ... \n"
     ]
    },
    {
     "name": "stderr",
     "output_type": "stream",
     "text": [
      "[Parallel(n_jobs=-1)]: Using backend LokyBackend with 4 concurrent workers.\n",
      "[Parallel(n_jobs=-1)]: Done   5 out of  10 | elapsed:  1.7min remaining:  1.7min\n",
      "[Parallel(n_jobs=-1)]: Done   7 out of  10 | elapsed:  1.9min remaining:   48.9s\n",
      "[Parallel(n_jobs=-1)]: Done  10 out of  10 | elapsed:  2.5min finished\n"
     ]
    },
    {
     "data": {
      "image/png": "[encoded data removed]",
      "text/plain": [
       "<Figure size 640x480 with 1 Axes>"
      ]
     },
     "metadata": {},
     "output_type": "display_data"
    },
    {
     "name": "stdout",
     "output_type": "stream",
     "text": [
      "Done\n",
      "Optimal bw (mlcv) = [[1.59665452e-07 4.15081362e-01 4.14996599e-01 6.75539384e-03\n",
      "  6.75539384e-03 6.75539384e-03]\n",
      " [1.15441998e-07 3.00113901e-01 3.00052615e-01 4.88431373e-03\n",
      "  4.88431373e-03 4.88431373e-03]\n",
      " [3.44171371e-08 8.94740345e-02 8.94557632e-02 1.45617798e-03\n",
      "  1.45617798e-03 1.45617798e-03]\n",
      " ...\n",
      " [2.96345121e-08 7.70406717e-02 7.70249394e-02 1.25382666e-03\n",
      "  1.25382666e-03 1.25382666e-03]\n",
      " [8.84628329e-08 2.29976321e-01 2.29929358e-01 3.74283396e-03\n",
      "  3.74283396e-03 3.74283396e-03]\n",
      " [2.92261442e-08 7.59790398e-02 7.59635243e-02 1.23654874e-03\n",
      "  1.23654874e-03 1.23654874e-03]]\n",
      "Using 100000 particles for fit.\n"
     ]
    }
   ],
   "source": [
    "S_1.bw_method = \"silv\"\n",
    "S_1.fit(N, scaling=scaling)\n",
    "\n",
    "# Method 3: Adaptive Maximum Likelihood Cross-Validation:\n",
    "# Creates a grid of adaptive bandwidths and evaluates the\n",
    "# cross-validation scores on each one, which is an indicator of the\n",
    "# quality of the estimation. Selects the bandwidth that optimizes\n",
    "# CV score.\n",
    "# kNN is used to generate the seed adaptive bandwidth.\n",
    "\n",
    "# kNN bandwidth\n",
    "S_1.bw_method = \"knn\"\n",
    "batch_size = 10000 # Batch size for KNN search\n",
    "k = 10             # Numer of neighbors per batch\n",
    "S_1.fit(N, scaling=scaling, batch_size=batch_size, k=k)\n",
    "bw_knn = S_1.kde.bw\n",
    "\n",
    "# MLCV optimization of previously calculated kNN bandwidth\n",
    "S_1.bw_method = \"mlcv\"\n",
    "N_cv = int(1E4)   # Use a smaller N to reduce computation times\n",
    "seed = bw_knn[:N_cv] # Use kNN BW as seed (first N elements)\n",
    "grid = np.logspace(-1,-0.4,10)\n",
    "S_1.fit(N_cv, scaling=scaling, seed=seed, grid=grid)\n",
    "bw_cv = S_1.kde.bw\n",
    "\n",
    "# Extend MLCV optimization to full KNN BW\n",
    "bw_knn_cv = bw_knn * bw_cv[0]/bw_knn[0] # Apply MLCV factor\n",
    "dim = S_1.geom.dim\n",
    "bw_knn_cv *= kds.bw_silv(dim,len(bw_knn))/kds.bw_silv(dim,len(bw_cv)) # Apply Silverman factor\n",
    "S_1 = kds.KDSource(plist_1, geom, bw=bw_knn_cv) # Create new KDSource with full BW\n",
    "S_1.fit(N=N, scaling=scaling)"
   ]
  },
  {
   "cell_type": "markdown",
   "metadata": {},
   "source": [
    "#### Resampleo de fuente"
   ]
  },
  {
   "cell_type": "code",
   "execution_count": 7,
   "metadata": {},
   "outputs": [
    {
     "name": "stdout",
     "output_type": "stream",
     "text": [
      "Bandwidth file: surfsource_1_bws\n",
      "Successfully saved parameters file Source_1.xml\n"
     ]
    }
   ],
   "source": [
    "xmlfile = \"Source_1.xml\"\n",
    "\n",
    "S_1.save(xmlfile)\n",
    "\n",
    "N_resampled = 5E6"
   ]
  },
  {
   "cell_type": "code",
   "execution_count": 8,
   "metadata": {},
   "outputs": [
    {
     "name": "stdout",
     "output_type": "stream",
     "text": [
      "Reading xmlfile Source_1.xml...\n",
      "Done.\n",
      "Resampling...\n",
      "Warning: Particle list and bandwidths file have different size.\n",
      "Warning: Particle list and bandwidths file have different size.\n",
      "Warning: Particle list and bandwidths file have different size.\n",
      "Warning: Particle list and bandwidths file have different size.\n",
      "Warning: Particle list and bandwidths file have different size.\n",
      "Warning: Particle list and bandwidths file have different size.\n",
      "Warning: Particle list and bandwidths file have different size.\n",
      "Warning: Particle list and bandwidths file have different size.\n",
      "Warning: Particle list and bandwidths file have different size.\n",
      "Warning: Particle list and bandwidths file have different size.\n",
      "Warning: Particle list and bandwidths file have different size.\n",
      "Warning: Particle list and bandwidths file have different size.\n",
      "Warning: Particle list and bandwidths file have different size.\n",
      "Warning: Particle list and bandwidths file have different size.\n",
      "Warning: Particle list and bandwidths file have different size.\n",
      "Warning: Particle list and bandwidths file have different size.\n",
      "Warning: Particle list and bandwidths file have different size.\n",
      "Warning: Particle list and bandwidths file have different size.\n",
      "Warning: Particle list and bandwidths file have different size.\n",
      "Warning: Particle list and bandwidths file have different size.\n",
      "Warning: Particle list and bandwidths file have different size.\n",
      "Warning: Particle list and bandwidths file have different size.\n",
      "Warning: Particle list and bandwidths file have different size.\n",
      "Warning: Particle list and bandwidths file have different size.\n",
      "Warning: Particle list and bandwidths file have different size.\n",
      "Warning: Particle list and bandwidths file have different size.\n",
      "Warning: Particle list and bandwidths file have different size.\n",
      "Warning: Particle list and bandwidths file have different size.\n",
      "Warning: Particle list and bandwidths file have different size.\n",
      "Warning: Particle list and bandwidths file have different size.\n",
      "Warning: Particle list and bandwidths file have different size.\n",
      "Warning: Particle list and bandwidths file have different size.\n",
      "Warning: Particle list and bandwidths file have different size.\n",
      "Warning: Particle list and bandwidths file have different size.\n",
      "Warning: Particle list and bandwidths file have different size.\n",
      "Warning: Particle list and bandwidths file have different size.\n",
      "Warning: Particle list and bandwidths file have different size.\n",
      "Warning: Particle list and bandwidths file have different size.\n",
      "Warning: Particle list and bandwidths file have different size.\n",
      "Warning: Particle list and bandwidths file have different size.\n",
      "Warning: Particle list and bandwidths file have different size.\n",
      "Warning: Particle list and bandwidths file have different size.\n",
      "Warning: Particle list and bandwidths file have different size.\n",
      "Warning: Particle list and bandwidths file have different size.\n",
      "Warning: Particle list and bandwidths file have different size.\n",
      "Warning: Particle list and bandwidths file have different size.\n",
      "Warning: Particle list and bandwidths file have different size.\n",
      "Warning: Particle list and bandwidths file have different size.\n",
      "Warning: Particle list and bandwidths file have different size.\n",
      "Warning: Particle list and bandwidths file have different size.\n",
      "Warning: Particle list and bandwidths file have different size.\n",
      "MCPL: Attempting to compress file resampled_1.mcpl with gzip\n",
      "MCPL: Succesfully compressed file into resampled_1.mcpl.gz\n",
      "Successfully sampled 5000000 particles.\n"
     ]
    }
   ],
   "source": [
    "!kdtool resample \"$xmlfile\" -o \"resampled_1\" -n $N_resampled\n",
    "resampled = \"resampled_1.mcpl.gz\" "
   ]
  },
  {
   "cell_type": "markdown",
   "metadata": {},
   "source": [
    "#### Guardo la nueva fuente en formato HDF5"
   ]
  },
  {
   "cell_type": "code",
   "execution_count": 9,
   "metadata": {},
   "outputs": [
    {
     "name": "stdout",
     "output_type": "stream",
     "text": [
      "Number of particles in file resampled_1.mcpl.gz: 5000000\n",
      "100% n, 0% g, 0% e-, 0% e+, 0% p, \n"
     ]
    }
   ],
   "source": [
    "Plano_resampled_1 = kds.surfsource.SurfaceSourceFile('resampled_1.mcpl.gz')"
   ]
  },
  {
   "cell_type": "code",
   "execution_count": 10,
   "metadata": {},
   "outputs": [
    {
     "name": "stdout",
     "output_type": "stream",
     "text": [
      "Saving into OpenMC format (HDF5)\n",
      "Done, saved into plano_1_resampled.h5 file\n"
     ]
    }
   ],
   "source": [
    "Plano_resampled_1.save_source_file('plano_1_resampled.h5')"
   ]
  },
  {
   "cell_type": "code",
   "execution_count": 11,
   "metadata": {},
   "outputs": [],
   "source": [
    "# # #OPTIMIZE BANDWITH\n",
    "# var_importance = [3,1,1,1,1,1]\n",
    "\n",
    "# parts,ws = S_2.plist.get(N=-1)\n",
    "# scaling = S_2.geom.std(parts=parts)\n",
    "# scaling /= var_importance\n",
    "\n",
    "# # Number of particles to use for optimization.\n",
    "# # A large number (1E5 or more) gives better bandwidths, but takes longer to\n",
    "# # compute.\n",
    "# N = 1E5\n",
    "\n",
    "\n",
    "# S_2.bw_method = \"silv\"\n",
    "# S_2.fit(N, scaling=scaling)\n",
    "\n",
    "# xmlfile = \"Source_2.xml\"\n",
    "\n",
    "# S_2.save(xmlfile)\n",
    "\n",
    "# N_resampled = 1E6\n",
    "\n",
    "# !kdtool resample \"$xmlfile\" -o \"resampled_2\" -n $N_resampled\n",
    "# resampled_2 = \"resampled_2.mcpl.gz\"\n",
    "\n",
    "# Plano_resampled_2 = kds.surfsource.SurfaceSourceFile('resampled_2.mcpl.gz')\n",
    "# Plano_resampled_2.save_source_file('plano_2_resampled.h5')"
   ]
  }
 ],
 "metadata": {
  "kernelspec": {
   "display_name": "base",
   "language": "python",
   "name": "python3"
  },
  "language_info": {
   "codemirror_mode": {
    "name": "ipython",
    "version": 3
   },
   "file_extension": ".py",
   "mimetype": "text/x-python",
   "name": "python",
   "nbconvert_exporter": "python",
   "pygments_lexer": "ipython3",
   "version": "3.9.17"
  },
  "orig_nbformat": 4
 },
 "nbformat": 4,
 "nbformat_minor": 2
}
