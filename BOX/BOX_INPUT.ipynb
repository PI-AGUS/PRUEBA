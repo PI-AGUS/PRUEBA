{
 "cells": [
  {
   "cell_type": "markdown",
   "metadata": {},
   "source": [
    "# BOX-INPUT\n"
   ]
  },
  {
   "cell_type": "code",
   "execution_count": 1,
   "metadata": {},
   "outputs": [],
   "source": [
    "import openmc\n",
    "import numpy as np\n",
    "import os\n",
    "import math\n",
    "import matplotlib.pyplot as plt\n",
    "import pandas as pd\n",
    "import kdsource as kds\n",
    "from mpl_toolkits.mplot3d import Axes3D as ax\n"
   ]
  },
  {
   "cell_type": "markdown",
   "metadata": {},
   "source": [
    "#### Biblioteca de secciones eficaces"
   ]
  },
  {
   "cell_type": "code",
   "execution_count": 2,
   "metadata": {},
   "outputs": [],
   "source": [
    "openmc_data = \"/home/agusgimenez/KD_OPMC/Secciones/endfb-viii.0-hdf5/cross_sections.xml\"\n",
    "os.environ[\"OPENMC_CROSS_SECTIONS\"] = openmc_data\n",
    "openmc.config['cross_sections'] = openmc_data"
   ]
  },
  {
   "cell_type": "markdown",
   "metadata": {},
   "source": [
    "### MATERIALES"
   ]
  },
  {
   "cell_type": "code",
   "execution_count": 3,
   "metadata": {},
   "outputs": [],
   "source": [
    "mat01 = openmc.Material(material_id=0) #agua\n",
    "mat01.add_nuclide('H1',2.000,'ao')\n",
    "mat01.add_nuclide('O16',0.9976,'ao')\n",
    "mat01.add_nuclide('O17',0.00035,'ao')\n",
    "mat01.add_s_alpha_beta('c_H_in_H2O')\n",
    "mat01.set_density('g/cm3',1.00)\n",
    "\n",
    "\n",
    "mat02 = openmc.Material(material_id=1)\n",
    "mat02.add_nuclide('Cd106',1.22,'ao')\n",
    "mat02.add_nuclide('Cd108',0.88,'ao')\n",
    "mat02.add_nuclide('Cd110',12.39,'ao')\n",
    "mat02.add_nuclide('Cd111',12.75,'ao')\n",
    "mat02.add_nuclide('Cd112',24.07,'ao')\n",
    "mat02.add_nuclide('Cd113',12.26,'ao')\n",
    "mat02.add_nuclide('Cd114',28.86,'ao')\n",
    "mat02.add_nuclide('Cd116',7.58,'ao')\n",
    "mat02.set_density('g/cm3',8.65)\n"
   ]
  },
  {
   "cell_type": "markdown",
   "metadata": {},
   "source": [
    "### PARAMETROS DE GEOMETRIAS\n"
   ]
  },
  {
   "cell_type": "code",
   "execution_count": 4,
   "metadata": {},
   "outputs": [],
   "source": [
    "\n",
    "#bloque mat01\n",
    "W =5.0 #semi-ancho\n",
    "H =5.0 #semi-alto\n",
    "L =1.0 #largo \n",
    "\n",
    "#bloque donde quiero ver la lista de particulas\n",
    "angle = math.radians(30)\n",
    "\n",
    "# #bloque mat02\n",
    "# e_cd =1.0 #espesor\n",
    "# w_cd =0.1 #ancho de cada bloque\n",
    "# if w_cd>W/2:\n",
    "#     exit\n",
    "\n",
    "\n",
    "#FUENTE\n",
    "R = 1.0\n",
    "\n"
   ]
  },
  {
   "cell_type": "markdown",
   "metadata": {},
   "source": [
    "### GEOMETRIAS\n"
   ]
  },
  {
   "cell_type": "code",
   "execution_count": 5,
   "metadata": {},
   "outputs": [
    {
     "data": {
      "text/plain": [
       "<matplotlib.image.AxesImage at 0x7f16ffd2a610>"
      ]
     },
     "execution_count": 5,
     "metadata": {},
     "output_type": "execute_result"
    },
    {
     "data": {
      "image/png": "[encoded data removed]",
      "text/plain": [
       "<Figure size 258.065x259.74 with 1 Axes>"
      ]
     },
     "metadata": {},
     "output_type": "display_data"
    },
    {
     "data": {
      "image/png": "[encoded data removed]",
      "text/plain": [
       "<Figure size 258.065x259.74 with 1 Axes>"
      ]
     },
     "metadata": {},
     "output_type": "display_data"
    },
    {
     "data": {
      "image/png": "[encoded data removed]",
      "text/plain": [
       "<Figure size 258.065x259.74 with 1 Axes>"
      ]
     },
     "metadata": {},
     "output_type": "display_data"
    }
   ],
   "source": [
    "\n",
    "#bloque mat01\n",
    "surf1 = openmc.XPlane(-W)\n",
    "surf1.boundary_type = 'vacuum'\n",
    "\n",
    "surf6 = openmc.XPlane(W)\n",
    "surf6.boundary_type = 'vacuum'\n",
    "\n",
    "surf2 = openmc.YPlane(-H)\n",
    "surf2.boundary_type = 'vacuum'\n",
    "\n",
    "surf5 = openmc.YPlane(H)\n",
    "surf5.boundary_type = 'vacuum'\n",
    "\n",
    "\n",
    "surf3 = openmc.ZPlane(0)\n",
    "surf3.boundary_type = 'vacuum'\n",
    "\n",
    "surf4 = openmc.ZPlane(L)\n",
    "\n",
    "surf7 = openmc.ZPlane(51*L)\n",
    "surf7.boundary_type = 'vacuum'\n",
    "\n",
    "\n",
    "\n",
    "\n",
    "cell01 = openmc.Cell(fill=mat01,cell_id=1)\n",
    "cell01.region = +surf1 & -surf6 & +surf2 & -surf5 & +surf3 & -surf4\n",
    "\n",
    "\n",
    "#source.hs\n",
    "surf_source = openmc.Plane.from_points((-W,-H,L),(-W,H,L),(0.0,0.0,L+W*math.sin(angle)/math.cos(angle)))\n",
    "cell02 = openmc.Cell(fill=None,cell_id=2)\n",
    "cell02.region = +surf4 & +surf_source & +surf1 & -surf6 & +surf2 & -surf5\n",
    "\n",
    "\n",
    "cell00 = openmc.Cell(fill=None,cell_id=0)\n",
    "cell00.region = -surf7 & -surf_source & +surf1 & -surf6 & +surf2 & -surf5\n",
    "\n",
    "\n",
    "univ01 = openmc.Universe(cells=[cell00,cell01, cell02],universe_id=1) \n",
    "univ01.plot(origin=(0.0,0.0,L/2),width=(4*W,4*W))\n",
    "univ01.plot(origin=(0.0,0.0,50*L/2),width=(4*W,55*L),basis='yz')\n",
    "univ01.plot(origin=(0.0,0.0,50*L/2),width=(4*W,55*L),basis='xz')\n",
    "\n",
    "\n",
    "\n",
    "\n",
    "\n",
    "\n"
   ]
  },
  {
   "cell_type": "markdown",
   "metadata": {},
   "source": [
    "### SOURCE"
   ]
  },
  {
   "cell_type": "code",
   "execution_count": 6,
   "metadata": {},
   "outputs": [],
   "source": [
    "\n",
    "S = openmc.Source()\n",
    "S.particle = 'neutron'\n",
    "#dist_espacial'\n",
    "\n",
    "r = openmc.stats.PowerLaw(0.0,R,1.0)\n",
    "phi = openmc.stats.Uniform(0.0 , 2*math.pi)\n",
    "z = openmc.stats.Discrete(0.0 , 1.0)\n",
    "S.space = openmc.stats.CylindricalIndependent(r,phi,z)\n",
    "\n",
    "#dist_Energia\n",
    "S.energy = openmc.stats.Discrete(30.0,1.0)\n",
    "\n",
    "#dist_angular.\n",
    "\n",
    "S.angle = openmc.stats.Monodirectional(reference_uvw=[0.0,0.0,1.0])"
   ]
  },
  {
   "cell_type": "markdown",
   "metadata": {},
   "source": [
    "#### Configuracion de filtros y tallys"
   ]
  },
  {
   "cell_type": "code",
   "execution_count": 7,
   "metadata": {},
   "outputs": [],
   "source": [
    "tallies = openmc.Tallies()\n",
    "\n",
    "\n",
    "#FILTRO PARTICULA\n",
    "Filtro_particula_neutron    =   openmc.ParticleFilter(['neutron'],filter_id = 0)\n",
    "\n",
    "\n",
    "#FILTRO SUPERFICIE CHECK SOURCE\n",
    "Filtro_surface_source       =   openmc.SurfaceFilter(surf7.id,filter_id=7)\n",
    "Filtro_Energy_source        =   openmc.EnergyFilter(np.logspace(-5,2,100),filter_id=8)\n",
    "\n",
    "#GRILLA\n",
    "\n",
    "mesh_agua_xy = openmc.RegularMesh.from_domain(domain=cell01,dimension=(100,100,1),mesh_id=4)\n",
    "mesh_agua_xz = openmc.RegularMesh.from_domain(domain=cell01,dimension=(100,1,100),mesh_id=5)\n",
    "mesh_agua_yz = openmc.RegularMesh.from_domain(domain=cell01,dimension=(1,100,100),mesh_id=6)\n",
    "\n",
    "\n",
    "mesh_vacio_xy = openmc.RegularMesh.from_domain(domain=cell00,dimension=(100,100,10),mesh_id=1)\n",
    "mesh_vacio_xy.lower_left = [-W, -H, L]\n",
    "mesh_vacio_xy.upper_rigth = [W, H, 51*L]\n",
    "\n",
    "mesh_vacio_xz = openmc.RegularMesh.from_domain(domain=cell00,dimension=(100,1,500),mesh_id=2)\n",
    "mesh_vacio_xz.lower_left = [-W, -H, L]\n",
    "mesh_vacio_xy.upper_rigth = [W, H, 51*L]\n",
    "\n",
    "mesh_vacio_yz = openmc.RegularMesh.from_domain(domain=cell00,dimension=(1,100,500),mesh_id=3)\n",
    "mesh_vacio_yz.lower_left = [-W, -H, L]\n",
    "mesh_vacio_yz.upper_rigth = [W, H, 51*L]\n",
    "\n",
    "\n",
    "#FILTRO ESPACIAL\n",
    "filt_agua_xy = openmc.filter.MeshFilter(mesh_agua_xy,filter_id=4)\n",
    "filt_agua_xz = openmc.filter.MeshFilter(mesh_agua_xz,filter_id=5)\n",
    "filt_agua_yz = openmc.filter.MeshFilter(mesh_agua_yz,filter_id=6)\n",
    "\n",
    "filt_vacio_xy = openmc.filter.MeshFilter(mesh_vacio_xy,filter_id=1)\n",
    "filt_vacio_xz = openmc.filter.MeshFilter(mesh_vacio_xz,filter_id=2)\n",
    "filt_vacio_yz = openmc.filter.MeshFilter(mesh_vacio_yz,filter_id=3)\n",
    "\n",
    "\n",
    "#Tallys\n",
    "\n",
    "dist_agua_xy = openmc.Tally(name='agua_xy' , tally_id=4)\n",
    "dist_agua_xy.scores = [\"flux\"]\n",
    "dist_agua_xy.filters = [filt_agua_xy, Filtro_particula_neutron]\n",
    "tallies.append(dist_agua_xy)\n",
    "\n",
    "dist_agua_xz = openmc.Tally(name='agua_xz' , tally_id=5)\n",
    "dist_agua_xz.scores = [\"flux\"]\n",
    "dist_agua_xz.filters = [filt_agua_xz, Filtro_particula_neutron]\n",
    "tallies.append(dist_agua_xz)\n",
    "\n",
    "dist_agua_yz = openmc.Tally(name='agua_yz' , tally_id=6)\n",
    "dist_agua_yz.scores = [\"flux\"]\n",
    "dist_agua_yz.filters = [filt_agua_yz, Filtro_particula_neutron]\n",
    "tallies.append(dist_agua_yz)\n",
    "\n",
    "dist_vacio_xy = openmc.Tally(name='vacio_xy' , tally_id=1)\n",
    "dist_vacio_xy.scores = [\"flux\"]\n",
    "dist_vacio_xy.filters = [filt_vacio_xy, Filtro_particula_neutron]\n",
    "tallies.append(dist_vacio_xy)\n",
    "\n",
    "dist_vacio_xz = openmc.Tally(name='vacio_xz' , tally_id=2)\n",
    "dist_vacio_xz.scores = [\"flux\"]\n",
    "dist_vacio_xz.filters = [filt_vacio_xz, Filtro_particula_neutron]\n",
    "tallies.append(dist_vacio_xz)\n",
    "\n",
    "dist_vacio_yz = openmc.Tally(name='vacio_yz' , tally_id=3)\n",
    "dist_vacio_yz.scores = [\"flux\"]\n",
    "dist_vacio_yz.filters = [filt_vacio_yz, Filtro_particula_neutron]\n",
    "tallies.append(dist_vacio_yz)\n",
    "\n",
    "\n",
    "dist_surface_source = openmc.Tally(name='check_source', tally_id=7)\n",
    "dist_surface_source.scores = [\"current\"]\n",
    "dist_surface_source.filters = [Filtro_surface_source, Filtro_Energy_source,Filtro_particula_neutron]\n",
    "tallies.append(dist_surface_source)"
   ]
  },
  {
   "cell_type": "markdown",
   "metadata": {},
   "source": [
    "#### PARAMETROS DE EJECUCION"
   ]
  },
  {
   "cell_type": "code",
   "execution_count": 8,
   "metadata": {},
   "outputs": [],
   "source": [
    "#Numero de particulas \n",
    "N = int(1E6)\n",
    "\n",
    "param = openmc.Settings()\n",
    "param.source = S\n",
    "param.run_mode = \"fixed source\"\n",
    "param.batches = 1\n",
    "param.particles = N\n",
    "\n",
    "#Superficies donde escribe las particulas\n",
    "# superficies = [surf4.id]\n",
    "\n",
    "# param.surf_source_write = {\n",
    "#     'surface_ids': superficies,\n",
    "#     'max_particles': len(superficies)*N\n",
    "# }\n",
    "\n"
   ]
  },
  {
   "cell_type": "markdown",
   "metadata": {},
   "source": [
    "#### GENERACION DE ARCHIVOS XML"
   ]
  },
  {
   "cell_type": "code",
   "execution_count": 9,
   "metadata": {},
   "outputs": [],
   "source": [
    "\n",
    "geom = openmc.Geometry(univ01)\n",
    "geom.export_to_xml()\n",
    "\n",
    "mats = openmc.Materials(univ01.get_all_materials().values())\n",
    "mats.cross_sections = openmc_data\n",
    "mats.export_to_xml()\n",
    "\n",
    "\n",
    "param.export_to_xml()\n",
    "\n",
    "tallies.export_to_xml()\n"
   ]
  },
  {
   "cell_type": "markdown",
   "metadata": {},
   "source": [
    "    ## RUN"
   ]
  },
  {
   "cell_type": "code",
   "execution_count": 10,
   "metadata": {},
   "outputs": [
    {
     "name": "stdout",
     "output_type": "stream",
     "text": [
      "                                %%%%%%%%%%%%%%%\n",
      "                           %%%%%%%%%%%%%%%%%%%%%%%%\n",
      "                        %%%%%%%%%%%%%%%%%%%%%%%%%%%%%%\n",
      "                      %%%%%%%%%%%%%%%%%%%%%%%%%%%%%%%%%%\n",
      "                    %%%%%%%%%%%%%%%%%%%%%%%%%%%%%%%%%%%%%%\n",
      "                   %%%%%%%%%%%%%%%%%%%%%%%%%%%%%%%%%%%%%%%%\n",
      "                                    %%%%%%%%%%%%%%%%%%%%%%%%\n",
      "                                     %%%%%%%%%%%%%%%%%%%%%%%%\n",
      "                 ###############      %%%%%%%%%%%%%%%%%%%%%%%%\n",
      "                ##################     %%%%%%%%%%%%%%%%%%%%%%%\n",
      "                ###################     %%%%%%%%%%%%%%%%%%%%%%%\n",
      "                ####################     %%%%%%%%%%%%%%%%%%%%%%\n",
      "                #####################     %%%%%%%%%%%%%%%%%%%%%\n",
      "                ######################     %%%%%%%%%%%%%%%%%%%%\n",
      "                #######################     %%%%%%%%%%%%%%%%%%\n",
      "                 #######################     %%%%%%%%%%%%%%%%%\n",
      "                 ######################     %%%%%%%%%%%%%%%%%\n",
      "                  ####################     %%%%%%%%%%%%%%%%%\n",
      "                    #################     %%%%%%%%%%%%%%%%%\n",
      "                     ###############     %%%%%%%%%%%%%%%%\n",
      "                       ############     %%%%%%%%%%%%%%%\n",
      "                          ########     %%%%%%%%%%%%%%\n",
      "                                      %%%%%%%%%%%\n",
      "\n",
      "                 | The OpenMC Monte Carlo Code\n",
      "       Copyright | 2011-2023 MIT, UChicago Argonne LLC, and contributors\n",
      "         License | https://docs.openmc.org/en/latest/license.html\n",
      "         Version | 0.13.3\n",
      "        Git SHA1 | 50e39a4e20dc9e0f3d7ccf07333f6a5e6c797c8c\n",
      "       Date/Time | 2023-11-22 09:01:32\n",
      "   MPI Processes | 1\n",
      "  OpenMP Threads | 4\n",
      "\n",
      " Reading settings XML file...\n",
      " Reading cross sections XML file...\n",
      " Reading materials XML file...\n",
      " Reading geometry XML file...\n",
      " Reading H1 from\n",
      " /home/agusgimenez/KD_OPMC/Secciones/endfb-viii.0-hdf5/neutron/H1.h5\n",
      " Reading O16 from\n",
      " /home/agusgimenez/KD_OPMC/Secciones/endfb-viii.0-hdf5/neutron/O16.h5\n",
      " Reading O17 from\n",
      " /home/agusgimenez/KD_OPMC/Secciones/endfb-viii.0-hdf5/neutron/O17.h5\n",
      " Reading c_H_in_H2O from\n",
      " /home/agusgimenez/KD_OPMC/Secciones/endfb-viii.0-hdf5/neutron/c_H_in_H2O.h5\n",
      " Minimum neutron data temperature: 294 K\n",
      " Maximum neutron data temperature: 294 K\n",
      " Reading tallies XML file...\n",
      " Preparing distributed cell instances...\n",
      " Reading plot XML file...\n",
      " Writing summary.h5 file...\n",
      " Maximum neutron transport energy: 20000000 eV for H1\n",
      "\n",
      " ===============>     FIXED SOURCE TRANSPORT SIMULATION     <===============\n",
      "\n",
      " Simulating batch 1\n",
      " Creating state point statepoint.1.h5...\n",
      "\n",
      " =======================>     TIMING STATISTICS     <=======================\n",
      "\n",
      " Total time for initialization     = 7.7511e-01 seconds\n",
      "   Reading cross sections          = 7.2609e-01 seconds\n",
      " Total time in simulation          = 2.8606e+01 seconds\n",
      "   Time in transport only          = 2.8578e+01 seconds\n",
      "   Time in active batches          = 2.8606e+01 seconds\n",
      "   Time accumulating tallies       = 3.1537e-03 seconds\n",
      "   Time writing statepoints        = 2.4870e-02 seconds\n",
      " Total time for finalization       = 9.6661e-01 seconds\n",
      " Total time elapsed                = 3.0349e+01 seconds\n",
      " Calculation Rate (active)         = 34957.6 particles/second\n",
      "\n",
      " ============================>     RESULTS     <============================\n",
      "\n",
      " WARNING: Could not compute uncertainties -- only one active batch simulated!\n",
      " Leakage Fraction           = 0.99373\n",
      "\n"
     ]
    }
   ],
   "source": [
    "!rm statepoint.*.h5\n",
    "!rm summary.h5\n",
    "openmc.run()"
   ]
  },
  {
   "cell_type": "code",
   "execution_count": 24,
   "metadata": {},
   "outputs": [],
   "source": [
    "def get_df_NormVolum(\n",
    "    tally = openmc.Tally(),\n",
    "    Plot = False,\n",
    "    xlabel='x [cm]',\n",
    "    ylabel='y [cm]'\n",
    "):\n",
    "    \"\"\"Plot 2-D distribution for given spatial variables (xy, xz, yz)\n",
    "\n",
    "    Returns\n",
    "    -------    \n",
    "    matplotlib 2-D plot for the Tally with the proper\n",
    "    normalization.\n",
    "    \"\"\"\n",
    "    \n",
    "    \n",
    "    \n",
    "    mesh = tally.find_filter(openmc.filter.MeshFilter)\n",
    "    upper_right = mesh.mesh.upper_right\n",
    "    lower_left  = mesh.mesh.lower_left\n",
    "    N    = mesh.mesh.dimension    \n",
    "    DV   = (upper_right-lower_left)/N\n",
    "    df = tally.get_pandas_dataframe()\n",
    "    df['mean'] = df['mean']/(DV[0]*DV[1]*DV[2])\n",
    "    \n",
    "    if N[0] == 1:\n",
    "        extent = (lower_left[1], upper_right[1], lower_left[2],upper_right[2])\n",
    "    elif N[1] == 1:\n",
    "        extent = (lower_left[0], upper_right[0], lower_left[2],upper_right[2])\n",
    "    elif N[2] == 1:\n",
    "        extent = (lower_left[0], upper_right[0], lower_left[1],upper_right[1])\n",
    "    else: print(\"X\")\n",
    "    print(N)\n",
    "    print(DV)\n",
    "    if Plot == True:\n",
    "        mean = np.array(df['mean'])\n",
    "        if N[0] == 1:\n",
    "            extent = (lower_left[1], upper_right[1], lower_left[2],upper_right[2])\n",
    "            mean.shape=(N[2],N[1])\n",
    "        elif N[1] == 1:\n",
    "            extent = (lower_left[0], upper_right[0], lower_left[2],upper_right[2])\n",
    "            mean.shape=(N[2],N[0])\n",
    "        elif N[2] == 1:\n",
    "            extent = (lower_left[0], upper_right[0], lower_left[1],upper_right[1])\n",
    "            mean.shape=(N[1],N[0])\n",
    "        else: print(\"X\")\n",
    "        \n",
    "        plt.imshow(mean, origin='lower', interpolation='none', extent=extent, cmap='viridis')\n",
    "        plt.colorbar()\n",
    "        plt.xlabel(xlabel)\n",
    "        plt.ylabel(ylabel)\n",
    "        plt.show()\n",
    "    return df\n",
    "    \n",
    "    \n",
    "def get_df_NormEnergy(\n",
    "    tally = openmc.Tally(),\n",
    "    Plot = False,\n",
    "    xlabel1='Energy [ev]',\n",
    "    E0    = float\n",
    "):\n",
    "    \"\"\"Plot 2-D distribution for given Energy variable (E , u)\n",
    "    Returns\n",
    "    -------    \n",
    "    matplotlib 2-D plot for the Tally with the proper\n",
    "    normalization.\n",
    "    \"\"\"\n",
    "    \n",
    "    df = tally.get_pandas_dataframe()\n",
    "    Emax = df['energy high [eV]']\n",
    "    Emin = df['energy low [eV]']\n",
    "    DE = Emax-Emin\n",
    "    E   = (Emax+Emin)/2\n",
    "    units = '[n/s]'\n",
    "    df['mean'] = df['mean']*DE\n",
    "    \n",
    "    if Plot == True:\n",
    "        plt.plot(E,df['mean'])\n",
    "        ylabel = df['score'][1] + units\n",
    "        plt.ylabel(ylabel)\n",
    "        plt.xlabel(xlabel1)\n",
    "    return df\n",
    "    \n"
   ]
  },
  {
   "cell_type": "code",
   "execution_count": 12,
   "metadata": {},
   "outputs": [],
   "source": [
    "# estaba graficando el tally de energia, ver bien el grafico de mu y luego la copiled source"
   ]
  },
  {
   "cell_type": "markdown",
   "metadata": {},
   "source": [
    "#### Se obtiene la distribucion espacial por neutron de fuente."
   ]
  },
  {
   "cell_type": "code",
   "execution_count": 22,
   "metadata": {},
   "outputs": [
    {
     "name": "stderr",
     "output_type": "stream",
     "text": [
      "/home/agusgimenez/anaconda3/envs/KD_OPMC/lib/python3.9/site-packages/openmc/tallies.py:279: RuntimeWarning: invalid value encountered in divide\n",
      "  self._std_dev[nonzero] = np.sqrt((self.sum_sq[nonzero]/n -\n"
     ]
    },
    {
     "name": "stdout",
     "output_type": "stream",
     "text": [
      "(100, 100, 1)\n",
      "[0.1 0.1 1. ]\n"
     ]
    },
    {
     "data": {
      "image/png": "[encoded data removed]",
      "text/plain": [
       "<Figure size 640x480 with 2 Axes>"
      ]
     },
     "metadata": {},
     "output_type": "display_data"
    },
    {
     "name": "stderr",
     "output_type": "stream",
     "text": [
      "/home/agusgimenez/anaconda3/envs/KD_OPMC/lib/python3.9/site-packages/openmc/tallies.py:279: RuntimeWarning: invalid value encountered in divide\n",
      "  self._std_dev[nonzero] = np.sqrt((self.sum_sq[nonzero]/n -\n"
     ]
    },
    {
     "name": "stdout",
     "output_type": "stream",
     "text": [
      "(100, 1, 500)\n",
      "[ 0.1 10.   0.1]\n"
     ]
    },
    {
     "data": {
      "image/png": "[encoded data removed]",
      "text/plain": [
       "<Figure size 640x480 with 2 Axes>"
      ]
     },
     "metadata": {},
     "output_type": "display_data"
    },
    {
     "name": "stderr",
     "output_type": "stream",
     "text": [
      "/home/agusgimenez/anaconda3/envs/KD_OPMC/lib/python3.9/site-packages/openmc/tallies.py:279: RuntimeWarning: invalid value encountered in divide\n",
      "  self._std_dev[nonzero] = np.sqrt((self.sum_sq[nonzero]/n -\n"
     ]
    },
    {
     "name": "stdout",
     "output_type": "stream",
     "text": [
      "(1, 100, 100)\n",
      "[10.    0.1   0.01]\n"
     ]
    },
    {
     "data": {
      "image/png": "[encoded data removed]",
      "text/plain": [
       "<Figure size 640x480 with 2 Axes>"
      ]
     },
     "metadata": {},
     "output_type": "display_data"
    },
    {
     "name": "stderr",
     "output_type": "stream",
     "text": [
      "/home/agusgimenez/anaconda3/envs/KD_OPMC/lib/python3.9/site-packages/openmc/tallies.py:279: RuntimeWarning: invalid value encountered in divide\n",
      "  self._std_dev[nonzero] = np.sqrt((self.sum_sq[nonzero]/n -\n"
     ]
    },
    {
     "name": "stdout",
     "output_type": "stream",
     "text": [
      "(1, 100, 500)\n",
      "[10.   0.1  0.1]\n"
     ]
    },
    {
     "data": {
      "image/png": "[encoded data removed]",
      "text/plain": [
       "<Figure size 640x480 with 2 Axes>"
      ]
     },
     "metadata": {},
     "output_type": "display_data"
    },
    {
     "data": {
      "text/html": [
       "<div>\n",
       "<style scoped>\n",
       "    .dataframe tbody tr th:only-of-type {\n",
       "        vertical-align: middle;\n",
       "    }\n",
       "\n",
       "    .dataframe tbody tr th {\n",
       "        vertical-align: top;\n",
       "    }\n",
       "\n",
       "    .dataframe thead tr th {\n",
       "        text-align: left;\n",
       "    }\n",
       "</style>\n",
       "<table border=\"1\" class=\"dataframe\">\n",
       "  <thead>\n",
       "    <tr>\n",
       "      <th></th>\n",
       "      <th colspan=\"3\" halign=\"left\">mesh 3</th>\n",
       "      <th>particle</th>\n",
       "      <th>nuclide</th>\n",
       "      <th>score</th>\n",
       "      <th>mean</th>\n",
       "    </tr>\n",
       "    <tr>\n",
       "      <th></th>\n",
       "      <th>x</th>\n",
       "      <th>y</th>\n",
       "      <th>z</th>\n",
       "      <th></th>\n",
       "      <th></th>\n",
       "      <th></th>\n",
       "      <th></th>\n",
       "    </tr>\n",
       "  </thead>\n",
       "  <tbody>\n",
       "    <tr>\n",
       "      <th>0</th>\n",
       "      <td>1</td>\n",
       "      <td>1</td>\n",
       "      <td>1</td>\n",
       "      <td>neutron</td>\n",
       "      <td>total</td>\n",
       "      <td>flux</td>\n",
       "      <td>0.000098</td>\n",
       "    </tr>\n",
       "    <tr>\n",
       "      <th>1</th>\n",
       "      <td>1</td>\n",
       "      <td>2</td>\n",
       "      <td>1</td>\n",
       "      <td>neutron</td>\n",
       "      <td>total</td>\n",
       "      <td>flux</td>\n",
       "      <td>0.000102</td>\n",
       "    </tr>\n",
       "    <tr>\n",
       "      <th>2</th>\n",
       "      <td>1</td>\n",
       "      <td>3</td>\n",
       "      <td>1</td>\n",
       "      <td>neutron</td>\n",
       "      <td>total</td>\n",
       "      <td>flux</td>\n",
       "      <td>0.000121</td>\n",
       "    </tr>\n",
       "    <tr>\n",
       "      <th>3</th>\n",
       "      <td>1</td>\n",
       "      <td>4</td>\n",
       "      <td>1</td>\n",
       "      <td>neutron</td>\n",
       "      <td>total</td>\n",
       "      <td>flux</td>\n",
       "      <td>0.000148</td>\n",
       "    </tr>\n",
       "    <tr>\n",
       "      <th>4</th>\n",
       "      <td>1</td>\n",
       "      <td>5</td>\n",
       "      <td>1</td>\n",
       "      <td>neutron</td>\n",
       "      <td>total</td>\n",
       "      <td>flux</td>\n",
       "      <td>0.000174</td>\n",
       "    </tr>\n",
       "    <tr>\n",
       "      <th>...</th>\n",
       "      <td>...</td>\n",
       "      <td>...</td>\n",
       "      <td>...</td>\n",
       "      <td>...</td>\n",
       "      <td>...</td>\n",
       "      <td>...</td>\n",
       "      <td>...</td>\n",
       "    </tr>\n",
       "    <tr>\n",
       "      <th>49995</th>\n",
       "      <td>1</td>\n",
       "      <td>96</td>\n",
       "      <td>500</td>\n",
       "      <td>neutron</td>\n",
       "      <td>total</td>\n",
       "      <td>flux</td>\n",
       "      <td>0.000082</td>\n",
       "    </tr>\n",
       "    <tr>\n",
       "      <th>49996</th>\n",
       "      <td>1</td>\n",
       "      <td>97</td>\n",
       "      <td>500</td>\n",
       "      <td>neutron</td>\n",
       "      <td>total</td>\n",
       "      <td>flux</td>\n",
       "      <td>0.000086</td>\n",
       "    </tr>\n",
       "    <tr>\n",
       "      <th>49997</th>\n",
       "      <td>1</td>\n",
       "      <td>98</td>\n",
       "      <td>500</td>\n",
       "      <td>neutron</td>\n",
       "      <td>total</td>\n",
       "      <td>flux</td>\n",
       "      <td>0.000063</td>\n",
       "    </tr>\n",
       "    <tr>\n",
       "      <th>49998</th>\n",
       "      <td>1</td>\n",
       "      <td>99</td>\n",
       "      <td>500</td>\n",
       "      <td>neutron</td>\n",
       "      <td>total</td>\n",
       "      <td>flux</td>\n",
       "      <td>0.000084</td>\n",
       "    </tr>\n",
       "    <tr>\n",
       "      <th>49999</th>\n",
       "      <td>1</td>\n",
       "      <td>100</td>\n",
       "      <td>500</td>\n",
       "      <td>neutron</td>\n",
       "      <td>total</td>\n",
       "      <td>flux</td>\n",
       "      <td>0.000082</td>\n",
       "    </tr>\n",
       "  </tbody>\n",
       "</table>\n",
       "<p>50000 rows × 7 columns</p>\n",
       "</div>"
      ],
      "text/plain": [
       "      mesh 3           particle nuclide score     mean\n",
       "           x    y    z                                \n",
       "0          1    1    1  neutron   total  flux 9.82e-05\n",
       "1          1    2    1  neutron   total  flux 1.02e-04\n",
       "2          1    3    1  neutron   total  flux 1.21e-04\n",
       "3          1    4    1  neutron   total  flux 1.48e-04\n",
       "4          1    5    1  neutron   total  flux 1.74e-04\n",
       "...      ...  ...  ...      ...     ...   ...      ...\n",
       "49995      1   96  500  neutron   total  flux 8.21e-05\n",
       "49996      1   97  500  neutron   total  flux 8.59e-05\n",
       "49997      1   98  500  neutron   total  flux 6.28e-05\n",
       "49998      1   99  500  neutron   total  flux 8.44e-05\n",
       "49999      1  100  500  neutron   total  flux 8.17e-05\n",
       "\n",
       "[50000 rows x 7 columns]"
      ]
     },
     "execution_count": 22,
     "metadata": {},
     "output_type": "execute_result"
    }
   ],
   "source": [
    "sp = openmc.StatePoint(\"statepoint.1.h5\")\n",
    "tally_agua_xy   = sp.get_tally(name='agua_xy')\n",
    "tally_agua_xz   = sp.get_tally(name='agua_xz')\n",
    "tally_agua_yz   = sp.get_tally(name='agua_yz')\n",
    "tally_vacio_xy  = sp.get_tally(name='vacio_xy')\n",
    "tally_vacio_xz  = sp.get_tally(name='vacio_xz')\n",
    "tally_vacio_yz  = sp.get_tally(name='vacio_yz')\n",
    "get_df_NormVolum(tally_agua_xy,Plot=True)\n",
    "get_df_NormVolum(tally_vacio_xz,Plot=True,ylabel='z [cm]')\n",
    "get_df_NormVolum(tally_agua_yz,Plot=True,ylabel='z [cm]')\n",
    "get_df_NormVolum(tally_vacio_yz,Plot=True,ylabel='z [cm]')\n"
   ]
  },
  {
   "cell_type": "markdown",
   "metadata": {},
   "source": [
    "AHORA PARA EL PLANO INCLINAD"
   ]
  },
  {
   "cell_type": "code",
   "execution_count": 14,
   "metadata": {},
   "outputs": [],
   "source": [
    "# #OPTIMIZE BANDWITH\n",
    "# var_importance = [3,1,1,1,1,1]\n",
    "\n",
    "# parts,ws = S_2.plist.get(N=-1)\n",
    "# scaling = S_2.geom.std(parts=parts)\n",
    "# scaling /= var_importance\n",
    "\n",
    "# # Number of particles to use for optimization.\n",
    "# # A large number (1E5 or more) gives better bandwidths, but takes longer to\n",
    "# # compute.\n",
    "# N = 1E5\n",
    "\n",
    "\n",
    "# S_2.bw_method = \"silv\"\n",
    "# S_2.fit(N, scaling=scaling)\n",
    "\n",
    "# xmlfile = \"Source_2.xml\"\n",
    "\n",
    "# S_2.save(xmlfile)\n",
    "\n",
    "# N_resampled = 1E6\n",
    "\n",
    "# !kdtool resample \"$xmlfile\" -o \"resampled_2\" -n $N_resampled\n",
    "# resampled_2 = \"resampled_2.mcpl.gz\"\n",
    "\n",
    "# Plano_resampled_2 = kds.surfsource.SurfaceSourceFile('resampled_2.mcpl.gz')\n"
   ]
  },
  {
   "cell_type": "code",
   "execution_count": 15,
   "metadata": {},
   "outputs": [],
   "source": [
    "# Plano_2.plot_distribution(vars=['x','y'],bins=[100,100], scales=['linear','linear'], norm_vars=[], info=True)\n",
    "#Plano_resampled_2.plot_distribution(vars=['x','y'],bins=[100,100], scales=['linear','linear'], norm_vars=[], info=True)"
   ]
  },
  {
   "cell_type": "code",
   "execution_count": 16,
   "metadata": {},
   "outputs": [],
   "source": [
    "#Plano_2.plot_distribution(vars=['x','y'],bins=[100,100], scales=['linear','linear'], norm_vars=[], info=True)\n",
    "# Plano_resampled_2.plot_distribution(vars=['x','y'],bins=[100,100], scales=['linear','linear'], norm_vars=[], info=True)"
   ]
  },
  {
   "cell_type": "code",
   "execution_count": 25,
   "metadata": {},
   "outputs": [
    {
     "data": {
      "text/html": [
       "<div>\n",
       "<style scoped>\n",
       "    .dataframe tbody tr th:only-of-type {\n",
       "        vertical-align: middle;\n",
       "    }\n",
       "\n",
       "    .dataframe tbody tr th {\n",
       "        vertical-align: top;\n",
       "    }\n",
       "\n",
       "    .dataframe thead th {\n",
       "        text-align: right;\n",
       "    }\n",
       "</style>\n",
       "<table border=\"1\" class=\"dataframe\">\n",
       "  <thead>\n",
       "    <tr style=\"text-align: right;\">\n",
       "      <th></th>\n",
       "      <th>surface</th>\n",
       "      <th>energy low [eV]</th>\n",
       "      <th>energy high [eV]</th>\n",
       "      <th>particle</th>\n",
       "      <th>nuclide</th>\n",
       "      <th>score</th>\n",
       "      <th>mean</th>\n",
       "    </tr>\n",
       "  </thead>\n",
       "  <tbody>\n",
       "    <tr>\n",
       "      <th>0</th>\n",
       "      <td>7</td>\n",
       "      <td>0.000010</td>\n",
       "      <td>0.000012</td>\n",
       "      <td>neutron</td>\n",
       "      <td>total</td>\n",
       "      <td>current</td>\n",
       "      <td>0.0</td>\n",
       "    </tr>\n",
       "    <tr>\n",
       "      <th>1</th>\n",
       "      <td>7</td>\n",
       "      <td>0.000012</td>\n",
       "      <td>0.000014</td>\n",
       "      <td>neutron</td>\n",
       "      <td>total</td>\n",
       "      <td>current</td>\n",
       "      <td>0.0</td>\n",
       "    </tr>\n",
       "    <tr>\n",
       "      <th>2</th>\n",
       "      <td>7</td>\n",
       "      <td>0.000014</td>\n",
       "      <td>0.000016</td>\n",
       "      <td>neutron</td>\n",
       "      <td>total</td>\n",
       "      <td>current</td>\n",
       "      <td>0.0</td>\n",
       "    </tr>\n",
       "    <tr>\n",
       "      <th>3</th>\n",
       "      <td>7</td>\n",
       "      <td>0.000016</td>\n",
       "      <td>0.000019</td>\n",
       "      <td>neutron</td>\n",
       "      <td>total</td>\n",
       "      <td>current</td>\n",
       "      <td>0.0</td>\n",
       "    </tr>\n",
       "    <tr>\n",
       "      <th>4</th>\n",
       "      <td>7</td>\n",
       "      <td>0.000019</td>\n",
       "      <td>0.000023</td>\n",
       "      <td>neutron</td>\n",
       "      <td>total</td>\n",
       "      <td>current</td>\n",
       "      <td>0.0</td>\n",
       "    </tr>\n",
       "    <tr>\n",
       "      <th>...</th>\n",
       "      <td>...</td>\n",
       "      <td>...</td>\n",
       "      <td>...</td>\n",
       "      <td>...</td>\n",
       "      <td>...</td>\n",
       "      <td>...</td>\n",
       "      <td>...</td>\n",
       "    </tr>\n",
       "    <tr>\n",
       "      <th>94</th>\n",
       "      <td>7</td>\n",
       "      <td>44.306215</td>\n",
       "      <td>52.140083</td>\n",
       "      <td>neutron</td>\n",
       "      <td>total</td>\n",
       "      <td>current</td>\n",
       "      <td>0.0</td>\n",
       "    </tr>\n",
       "    <tr>\n",
       "      <th>95</th>\n",
       "      <td>7</td>\n",
       "      <td>52.140083</td>\n",
       "      <td>61.359073</td>\n",
       "      <td>neutron</td>\n",
       "      <td>total</td>\n",
       "      <td>current</td>\n",
       "      <td>0.0</td>\n",
       "    </tr>\n",
       "    <tr>\n",
       "      <th>96</th>\n",
       "      <td>7</td>\n",
       "      <td>61.359073</td>\n",
       "      <td>72.208090</td>\n",
       "      <td>neutron</td>\n",
       "      <td>total</td>\n",
       "      <td>current</td>\n",
       "      <td>0.0</td>\n",
       "    </tr>\n",
       "    <tr>\n",
       "      <th>97</th>\n",
       "      <td>7</td>\n",
       "      <td>72.208090</td>\n",
       "      <td>84.975344</td>\n",
       "      <td>neutron</td>\n",
       "      <td>total</td>\n",
       "      <td>current</td>\n",
       "      <td>0.0</td>\n",
       "    </tr>\n",
       "    <tr>\n",
       "      <th>98</th>\n",
       "      <td>7</td>\n",
       "      <td>84.975344</td>\n",
       "      <td>100.000000</td>\n",
       "      <td>neutron</td>\n",
       "      <td>total</td>\n",
       "      <td>current</td>\n",
       "      <td>0.0</td>\n",
       "    </tr>\n",
       "  </tbody>\n",
       "</table>\n",
       "<p>99 rows × 7 columns</p>\n",
       "</div>"
      ],
      "text/plain": [
       "    surface  energy low [eV]  energy high [eV] particle nuclide    score  \\\n",
       "0         7         1.00e-05          1.18e-05  neutron   total  current   \n",
       "1         7         1.18e-05          1.38e-05  neutron   total  current   \n",
       "2         7         1.38e-05          1.63e-05  neutron   total  current   \n",
       "3         7         1.63e-05          1.92e-05  neutron   total  current   \n",
       "4         7         1.92e-05          2.26e-05  neutron   total  current   \n",
       "..      ...              ...               ...      ...     ...      ...   \n",
       "94        7         4.43e+01          5.21e+01  neutron   total  current   \n",
       "95        7         5.21e+01          6.14e+01  neutron   total  current   \n",
       "96        7         6.14e+01          7.22e+01  neutron   total  current   \n",
       "97        7         7.22e+01          8.50e+01  neutron   total  current   \n",
       "98        7         8.50e+01          1.00e+02  neutron   total  current   \n",
       "\n",
       "       mean  \n",
       "0  0.00e+00  \n",
       "1  0.00e+00  \n",
       "2  0.00e+00  \n",
       "3  0.00e+00  \n",
       "4  0.00e+00  \n",
       "..      ...  \n",
       "94 0.00e+00  \n",
       "95 0.00e+00  \n",
       "96 0.00e+00  \n",
       "97 0.00e+00  \n",
       "98 0.00e+00  \n",
       "\n",
       "[99 rows x 7 columns]"
      ]
     },
     "execution_count": 25,
     "metadata": {},
     "output_type": "execute_result"
    },
    {
     "data": {
      "image/png": "[encoded data removed]",
      "text/plain": [
       "<Figure size 640x480 with 1 Axes>"
      ]
     },
     "metadata": {},
     "output_type": "display_data"
    }
   ],
   "source": [
    "Ener = sp.get_tally(name='check_source')\n",
    "get_df_NormEnergy(Ener,True)\n",
    "# Ener.get_pandas_dataframe()['score'][1]\n"
   ]
  },
  {
   "cell_type": "code",
   "execution_count": 18,
   "metadata": {},
   "outputs": [],
   "source": [
    "# #Numero de particulas \n",
    "# N = int(1E6)\n",
    "\n",
    "# a = openmc.Co\n",
    "# param = openmc.Settings()\n",
    "# param.source = openmc.Source.CompiledSource('libsource.so')\n",
    "# param.run_mode = \"fixed source\"\n",
    "# param.batches = 1\n",
    "# param.particles = N\n",
    "# param.export_to_xml()\n"
   ]
  },
  {
   "cell_type": "code",
   "execution_count": 19,
   "metadata": {},
   "outputs": [],
   "source": [
    "# !rm statepoint.*.h5\n",
    "# !rm summary.h5\n",
    "# openmc.run()"
   ]
  }
 ],
 "metadata": {
  "kernelspec": {
   "display_name": "base",
   "language": "python",
   "name": "python3"
  },
  "language_info": {
   "codemirror_mode": {
    "name": "ipython",
    "version": 3
   },
   "file_extension": ".py",
   "mimetype": "text/x-python",
   "name": "python",
   "nbconvert_exporter": "python",
   "pygments_lexer": "ipython3",
   "version": "3.9.17"
  },
  "orig_nbformat": 4
 },
 "nbformat": 4,
 "nbformat_minor": 2
}
