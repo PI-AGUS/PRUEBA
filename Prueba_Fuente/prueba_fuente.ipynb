{
 "cells": [
  {
   "cell_type": "code",
   "execution_count": 1,
   "metadata": {},
   "outputs": [],
   "source": [
    "import openmc\n",
    "import numpy as np\n",
    "import os\n",
    "import math\n",
    "import matplotlib.pyplot as plt\n",
    "import pandas as pd\n",
    "import kdsource as kds\n",
    "from mpl_toolkits.mplot3d import Axes3D as ax\n"
   ]
  },
  {
   "cell_type": "code",
   "execution_count": 2,
   "metadata": {},
   "outputs": [],
   "source": [
    "# openmc_data = \"/home/agusgimenez/KD_OPMC/Secciones/endfb-viii.0-hdf5/cross_sections.xml\"\n",
    "# os.environ[\"OPENMC_CROSS_SECTIONS\"] = openmc_data\n",
    "# openmc.config['cross_sections'] = openmc_data"
   ]
  },
  {
   "cell_type": "code",
   "execution_count": 3,
   "metadata": {},
   "outputs": [],
   "source": [
    "mat01 = openmc.Material(material_id=0) #agua\n",
    "mat01.add_nuclide('H1',2.000,'ao')\n",
    "mat01.add_nuclide('O16',0.9976,'ao')\n",
    "mat01.add_nuclide('O17',0.00035,'ao')\n",
    "mat01.add_s_alpha_beta('c_H_in_H2O')\n",
    "mat01.set_density('g/cm3',1.00)\n",
    "\n",
    "\n",
    "mat02 = openmc.Material(material_id=1)\n",
    "mat02.add_nuclide('Cd106',1.22,'ao')\n",
    "mat02.add_nuclide('Cd108',0.88,'ao')\n",
    "mat02.add_nuclide('Cd110',12.39,'ao')\n",
    "mat02.add_nuclide('Cd111',12.75,'ao')\n",
    "mat02.add_nuclide('Cd112',24.07,'ao')\n",
    "mat02.add_nuclide('Cd113',12.26,'ao')\n",
    "mat02.add_nuclide('Cd114',28.86,'ao')\n",
    "mat02.add_nuclide('Cd116',7.58,'ao')\n",
    "mat02.set_density('g/cm3',8.65)\n"
   ]
  },
  {
   "cell_type": "code",
   "execution_count": 4,
   "metadata": {},
   "outputs": [],
   "source": [
    "\n",
    "#bloque mat01\n",
    "W =5.0 #semi-ancho\n",
    "H =5.0 #semi-alto\n",
    "\n",
    "\n",
    "#bloque donde quiero ver la lista de particulas\n",
    "angle = math.radians(45)\n",
    "L = H/ (2 * math.tan(angle))\n",
    "# #bloque mat02\n",
    "# e_cd =1.0 #espesor\n",
    "# w_cd =0.1 #ancho de cada bloque\n",
    "# if w_cd>W/2:\n",
    "#     exit\n",
    "\n",
    "#FUENTE\n",
    "R = 1.0\n",
    "\n"
   ]
  },
  {
   "cell_type": "code",
   "execution_count": 5,
   "metadata": {},
   "outputs": [
    {
     "ename": "RuntimeError",
     "evalue": "No cross_sections.xml file was specified in materials.xml or in the OPENMC_CROSS_SECTIONS environment variable. OpenMC needs such a file to identify where to find data libraries. Please consult the user's guide at https://docs.openmc.org/ for information on how to set up data libraries. -------------------------------------------------------------------------- MPI_ABORT was invoked on rank 0 in communicator MPI_COMM_WORLD with errorcode -1. NOTE: invoking MPI_ABORT causes Open MPI to kill all MPI processes. You may or may not see output from other processes, depending on exactly when Open MPI kills them. --------------------------------------------------------------------------",
     "output_type": "error",
     "traceback": [
      "\u001b[0;31m---------------------------------------------------------------------------\u001b[0m",
      "\u001b[0;31mRuntimeError\u001b[0m                              Traceback (most recent call last)",
      "\u001b[1;32m/home/agusgimenez/KD_OPMC/PRUEBA/Prueba_Fuente/prueba_fuente.ipynb Cell 5\u001b[0m line \u001b[0;36m3\n\u001b[1;32m     <a href='vscode-notebook-cell:/home/agusgimenez/KD_OPMC/PRUEBA/Prueba_Fuente/prueba_fuente.ipynb#W5sZmlsZQ%3D%3D?line=26'>27</a>\u001b[0m cell01\u001b[39m.\u001b[39mregion \u001b[39m=\u001b[39m \u001b[39m+\u001b[39msurf1 \u001b[39m&\u001b[39m \u001b[39m-\u001b[39msurf6 \u001b[39m&\u001b[39m \u001b[39m+\u001b[39msurf2 \u001b[39m&\u001b[39m \u001b[39m-\u001b[39msurf5 \u001b[39m&\u001b[39m \u001b[39m+\u001b[39msurf3 \u001b[39m&\u001b[39m \u001b[39m-\u001b[39msurf4\n\u001b[1;32m     <a href='vscode-notebook-cell:/home/agusgimenez/KD_OPMC/PRUEBA/Prueba_Fuente/prueba_fuente.ipynb#W5sZmlsZQ%3D%3D?line=30'>31</a>\u001b[0m univ01 \u001b[39m=\u001b[39m openmc\u001b[39m.\u001b[39mUniverse(cells\u001b[39m=\u001b[39m[cell01],universe_id\u001b[39m=\u001b[39m\u001b[39m1\u001b[39m) \n\u001b[0;32m---> <a href='vscode-notebook-cell:/home/agusgimenez/KD_OPMC/PRUEBA/Prueba_Fuente/prueba_fuente.ipynb#W5sZmlsZQ%3D%3D?line=31'>32</a>\u001b[0m univ01\u001b[39m.\u001b[39;49mplot(origin\u001b[39m=\u001b[39;49m(\u001b[39m0.0\u001b[39;49m,\u001b[39m0.0\u001b[39;49m,L\u001b[39m/\u001b[39;49m\u001b[39m2\u001b[39;49m),width\u001b[39m=\u001b[39;49m(\u001b[39m4\u001b[39;49m\u001b[39m*\u001b[39;49mW,\u001b[39m4\u001b[39;49m\u001b[39m*\u001b[39;49mW))\n\u001b[1;32m     <a href='vscode-notebook-cell:/home/agusgimenez/KD_OPMC/PRUEBA/Prueba_Fuente/prueba_fuente.ipynb#W5sZmlsZQ%3D%3D?line=32'>33</a>\u001b[0m univ01\u001b[39m.\u001b[39mplot(origin\u001b[39m=\u001b[39m(\u001b[39m0.0\u001b[39m,\u001b[39m0.0\u001b[39m,L\u001b[39m/\u001b[39m\u001b[39m2\u001b[39m),width\u001b[39m=\u001b[39m(\u001b[39m4\u001b[39m\u001b[39m*\u001b[39mW,\u001b[39m4\u001b[39m\u001b[39m*\u001b[39mL),basis\u001b[39m=\u001b[39m\u001b[39m'\u001b[39m\u001b[39myz\u001b[39m\u001b[39m'\u001b[39m)\n\u001b[1;32m     <a href='vscode-notebook-cell:/home/agusgimenez/KD_OPMC/PRUEBA/Prueba_Fuente/prueba_fuente.ipynb#W5sZmlsZQ%3D%3D?line=33'>34</a>\u001b[0m univ01\u001b[39m.\u001b[39mplot(origin\u001b[39m=\u001b[39m(\u001b[39m0.0\u001b[39m,\u001b[39m0.0\u001b[39m,L\u001b[39m/\u001b[39m\u001b[39m2\u001b[39m),width\u001b[39m=\u001b[39m(\u001b[39m4\u001b[39m\u001b[39m*\u001b[39mW,\u001b[39m4\u001b[39m\u001b[39m*\u001b[39mL),basis\u001b[39m=\u001b[39m\u001b[39m'\u001b[39m\u001b[39mxz\u001b[39m\u001b[39m'\u001b[39m)\n",
      "File \u001b[0;32m~/anaconda3/envs/KD_OPMC/lib/python3.9/site-packages/openmc/universe.py:381\u001b[0m, in \u001b[0;36mUniverse.plot\u001b[0;34m(self, origin, width, pixels, basis, color_by, colors, seed, openmc_exec, axes, **kwargs)\u001b[0m\n\u001b[1;32m    378\u001b[0m model\u001b[39m.\u001b[39mplots\u001b[39m.\u001b[39mappend(plot)\n\u001b[1;32m    380\u001b[0m \u001b[39m# Run OpenMC in geometry plotting mode\u001b[39;00m\n\u001b[0;32m--> 381\u001b[0m model\u001b[39m.\u001b[39;49mplot_geometry(\u001b[39mFalse\u001b[39;49;00m, cwd\u001b[39m=\u001b[39;49mtmpdir, openmc_exec\u001b[39m=\u001b[39;49mopenmc_exec)\n\u001b[1;32m    383\u001b[0m \u001b[39m# Read image from file\u001b[39;00m\n\u001b[1;32m    384\u001b[0m img_path \u001b[39m=\u001b[39m Path(tmpdir) \u001b[39m/\u001b[39m \u001b[39mf\u001b[39m\u001b[39m'\u001b[39m\u001b[39mplot_\u001b[39m\u001b[39m{\u001b[39;00mplot\u001b[39m.\u001b[39mid\u001b[39m}\u001b[39;00m\u001b[39m.png\u001b[39m\u001b[39m'\u001b[39m\n",
      "File \u001b[0;32m~/anaconda3/envs/KD_OPMC/lib/python3.9/site-packages/openmc/model/model.py:818\u001b[0m, in \u001b[0;36mModel.plot_geometry\u001b[0;34m(self, output, cwd, openmc_exec)\u001b[0m\n\u001b[1;32m    816\u001b[0m \u001b[39melse\u001b[39;00m:\n\u001b[1;32m    817\u001b[0m     \u001b[39mself\u001b[39m\u001b[39m.\u001b[39mexport_to_xml()\n\u001b[0;32m--> 818\u001b[0m     openmc\u001b[39m.\u001b[39;49mplot_geometry(output\u001b[39m=\u001b[39;49moutput, openmc_exec\u001b[39m=\u001b[39;49mopenmc_exec)\n",
      "File \u001b[0;32m~/anaconda3/envs/KD_OPMC/lib/python3.9/site-packages/openmc/executor.py:154\u001b[0m, in \u001b[0;36mplot_geometry\u001b[0;34m(output, openmc_exec, cwd, path_input)\u001b[0m\n\u001b[1;32m    152\u001b[0m \u001b[39mif\u001b[39;00m path_input \u001b[39mis\u001b[39;00m \u001b[39mnot\u001b[39;00m \u001b[39mNone\u001b[39;00m:\n\u001b[1;32m    153\u001b[0m     args \u001b[39m+\u001b[39m\u001b[39m=\u001b[39m [path_input]\n\u001b[0;32m--> 154\u001b[0m _run(args, output, cwd)\n",
      "File \u001b[0;32m~/anaconda3/envs/KD_OPMC/lib/python3.9/site-packages/openmc/executor.py:125\u001b[0m, in \u001b[0;36m_run\u001b[0;34m(args, output, cwd)\u001b[0m\n\u001b[1;32m    122\u001b[0m     error_msg \u001b[39m=\u001b[39m \u001b[39m'\u001b[39m\u001b[39mOpenMC aborted unexpectedly.\u001b[39m\u001b[39m'\u001b[39m\n\u001b[1;32m    123\u001b[0m error_msg \u001b[39m=\u001b[39m \u001b[39m'\u001b[39m\u001b[39m \u001b[39m\u001b[39m'\u001b[39m\u001b[39m.\u001b[39mjoin(error_msg\u001b[39m.\u001b[39msplit())\n\u001b[0;32m--> 125\u001b[0m \u001b[39mraise\u001b[39;00m \u001b[39mRuntimeError\u001b[39;00m(error_msg)\n",
      "\u001b[0;31mRuntimeError\u001b[0m: No cross_sections.xml file was specified in materials.xml or in the OPENMC_CROSS_SECTIONS environment variable. OpenMC needs such a file to identify where to find data libraries. Please consult the user's guide at https://docs.openmc.org/ for information on how to set up data libraries. -------------------------------------------------------------------------- MPI_ABORT was invoked on rank 0 in communicator MPI_COMM_WORLD with errorcode -1. NOTE: invoking MPI_ABORT causes Open MPI to kill all MPI processes. You may or may not see output from other processes, depending on exactly when Open MPI kills them. --------------------------------------------------------------------------"
     ]
    }
   ],
   "source": [
    "\n",
    "#bloque mat01\n",
    "surf1 = openmc.XPlane(-W)\n",
    "surf1.boundary_type = 'vacuum'\n",
    "\n",
    "surf6 = openmc.XPlane(W)\n",
    "surf6.boundary_type = 'vacuum'\n",
    "\n",
    "surf2 = openmc.YPlane(-H)\n",
    "surf2.boundary_type = 'vacuum'\n",
    "\n",
    "surf5 = openmc.YPlane(H)\n",
    "surf5.boundary_type = 'vacuum'\n",
    "\n",
    "\n",
    "surf3 = openmc.ZPlane(0)\n",
    "surf3.boundary_type = 'vacuum'\n",
    "\n",
    "surf4 = openmc.ZPlane(L)\n",
    "surf4.boundary_type = 'vacuum'\n",
    "\n",
    "\n",
    "\n",
    "\n",
    "\n",
    "\n",
    "cell01 = openmc.Cell(fill=None,cell_id=1)\n",
    "cell01.region = +surf1 & -surf6 & +surf2 & -surf5 & +surf3 & -surf4\n",
    "\n",
    "\n",
    "\n",
    "univ01 = openmc.Universe(cells=[cell01],universe_id=1) \n",
    "univ01.plot(origin=(0.0,0.0,L/2),width=(4*W,4*W))\n",
    "univ01.plot(origin=(0.0,0.0,L/2),width=(4*W,4*L),basis='yz')\n",
    "univ01.plot(origin=(0.0,0.0,L/2),width=(4*W,4*L),basis='xz')\n",
    "\n",
    "\n",
    "\n",
    "\n",
    "\n",
    "\n"
   ]
  },
  {
   "cell_type": "code",
   "execution_count": null,
   "metadata": {},
   "outputs": [],
   "source": [
    "S = openmc.Source()\n",
    "S.particle = 'neutron'\n",
    "#dist_espacial'\n",
    "\n",
    "r = openmc.stats.PowerLaw(0.0,R,1.0)\n",
    "phi = openmc.stats.Uniform(0.0 , 2*math.pi)\n",
    "z = openmc.stats.Discrete(0.0 , 1.0)\n",
    "S.space = openmc.stats.CylindricalIndependent(r,phi,z)\n",
    "\n",
    "#dist_Energia\n",
    "S.energy = openmc.stats.Discrete(30.0,1.0)\n",
    "\n",
    "#dist_angular.\n",
    "\n",
    "S.angle = openmc.stats.Monodirectional(reference_uvw=[0.0,0.0,1.0])"
   ]
  },
  {
   "cell_type": "code",
   "execution_count": null,
   "metadata": {},
   "outputs": [],
   "source": [
    "S2 = openmc.Source()\n",
    "S2.particle = 'neutron'\n",
    "#dist_espacial'\n",
    "\n",
    "r = openmc.stats.PowerLaw(0.0,R,1.0)\n",
    "phi = openmc.stats.Uniform(0.0 , 2*math.pi)\n",
    "z = openmc.stats.Discrete(0.0 , 1.0)\n",
    "S2.space = openmc.stats.CylindricalIndependent(r,phi,z)\n",
    "\n",
    "#dist_Energia\n",
    "S2.energy = openmc.stats.Discrete(30.0,1.0)\n",
    "\n",
    "#dist_angular.\n",
    "\n",
    "S2.angle = openmc.stats.Monodirectional(reference_uvw=[0.0,math.cos(math.pi()-angle),math.cos(angle)])"
   ]
  },
  {
   "cell_type": "code",
   "execution_count": null,
   "metadata": {},
   "outputs": [],
   "source": [
    "tallies = openmc.Tallies()\n",
    "\n",
    "\n",
    "#FILTRO PARTICULA\n",
    "Filtro_particula_neutron    =   openmc.ParticleFilter(['neutron'],filter_id = 0)\n",
    "\n",
    "\n",
    "#FILTRO SUPERFICIE CHECK SOURCE\n",
    "Filtro_surface_source       =   openmc.SurfaceFilter(surf4.id,filter_id=1)\n",
    "\n",
    "\n",
    "dist_surface_source = openmc.Tally(name='check_source', tally_id=7)\n",
    "dist_surface_source.scores = [\"current\"]\n",
    "dist_surface_source.filters = [Filtro_surface_source,Filtro_particula_neutron]\n",
    "tallies.append(dist_surface_source)"
   ]
  },
  {
   "cell_type": "code",
   "execution_count": null,
   "metadata": {},
   "outputs": [],
   "source": [
    "#Numero de particulas \n",
    "N = int(1E6)\n",
    "\n",
    "param = openmc.Settings()\n",
    "param.source = S\n",
    "param.run_mode = \"fixed source\"\n",
    "param.batches = 1\n",
    "param.particles = N"
   ]
  },
  {
   "cell_type": "code",
   "execution_count": 6,
   "metadata": {},
   "outputs": [
    {
     "ename": "NameError",
     "evalue": "name 'openmc_data' is not defined",
     "output_type": "error",
     "traceback": [
      "\u001b[0;31m---------------------------------------------------------------------------\u001b[0m",
      "\u001b[0;31mNameError\u001b[0m                                 Traceback (most recent call last)",
      "\u001b[1;32m/home/agusgimenez/KD_OPMC/PRUEBA/Prueba_Fuente/prueba_fuente.ipynb Cell 9\u001b[0m line \u001b[0;36m5\n\u001b[1;32m      <a href='vscode-notebook-cell:/home/agusgimenez/KD_OPMC/PRUEBA/Prueba_Fuente/prueba_fuente.ipynb#X13sZmlsZQ%3D%3D?line=1'>2</a>\u001b[0m geom\u001b[39m.\u001b[39mexport_to_xml()\n\u001b[1;32m      <a href='vscode-notebook-cell:/home/agusgimenez/KD_OPMC/PRUEBA/Prueba_Fuente/prueba_fuente.ipynb#X13sZmlsZQ%3D%3D?line=3'>4</a>\u001b[0m mats \u001b[39m=\u001b[39m openmc\u001b[39m.\u001b[39mMaterials(univ01\u001b[39m.\u001b[39mget_all_materials()\u001b[39m.\u001b[39mvalues())\n\u001b[0;32m----> <a href='vscode-notebook-cell:/home/agusgimenez/KD_OPMC/PRUEBA/Prueba_Fuente/prueba_fuente.ipynb#X13sZmlsZQ%3D%3D?line=4'>5</a>\u001b[0m mats\u001b[39m.\u001b[39mcross_sections \u001b[39m=\u001b[39m openmc_data\n\u001b[1;32m      <a href='vscode-notebook-cell:/home/agusgimenez/KD_OPMC/PRUEBA/Prueba_Fuente/prueba_fuente.ipynb#X13sZmlsZQ%3D%3D?line=5'>6</a>\u001b[0m mats\u001b[39m.\u001b[39mexport_to_xml()\n\u001b[1;32m      <a href='vscode-notebook-cell:/home/agusgimenez/KD_OPMC/PRUEBA/Prueba_Fuente/prueba_fuente.ipynb#X13sZmlsZQ%3D%3D?line=8'>9</a>\u001b[0m param\u001b[39m.\u001b[39mexport_to_xml()\n",
      "\u001b[0;31mNameError\u001b[0m: name 'openmc_data' is not defined"
     ]
    }
   ],
   "source": [
    "\n",
    "\n",
    "geom = openmc.Geometry(univ01)\n",
    "geom.export_to_xml()\n",
    "\n",
    "mats = openmc.Materials(univ01.get_all_materials().values())\n",
    "mats.cross_sections = openmc_data\n",
    "mats.export_to_xml()\n",
    "\n",
    "\n",
    "param.export_to_xml()\n",
    "\n",
    "tallies.export_to_xml()\n"
   ]
  },
  {
   "cell_type": "code",
   "execution_count": null,
   "metadata": {},
   "outputs": [],
   "source": [
    "!rm statepoint.*.h5\n",
    "!rm summary.h5\n",
    "openmc.run()"
   ]
  },
  {
   "cell_type": "code",
   "execution_count": null,
   "metadata": {},
   "outputs": [],
   "source": [
    "sp = openmc.StatePoint(\"statepoint.1.h5\")\n",
    "A = sp.get_tally(name='check_source')\n",
    "J1 = A.get_pandas_dataframe()"
   ]
  },
  {
   "cell_type": "code",
   "execution_count": null,
   "metadata": {},
   "outputs": [],
   "source": [
    "#Numero de particulas \n",
    "N = int(1E6)\n",
    "\n",
    "param = openmc.Settings()\n",
    "param.source = S2\n",
    "param.run_mode = \"fixed source\"\n",
    "param.batches = 1\n",
    "param.particles = N\n",
    "param.export_to_xml()"
   ]
  },
  {
   "cell_type": "code",
   "execution_count": null,
   "metadata": {},
   "outputs": [],
   "source": [
    "!rm statepoint.*.h5\n",
    "!rm summary.h5\n",
    "openmc.run()"
   ]
  },
  {
   "cell_type": "code",
   "execution_count": null,
   "metadata": {},
   "outputs": [],
   "source": [
    "sp2 = openmc.StatePoint(\"statepoint.1.h5\")\n",
    "B = sp.get_tally(name='check_source')\n",
    "J2 = A.get_pandas_dataframe()"
   ]
  }
 ],
 "metadata": {
  "kernelspec": {
   "display_name": "base",
   "language": "python",
   "name": "python3"
  },
  "language_info": {
   "codemirror_mode": {
    "name": "ipython",
    "version": 3
   },
   "file_extension": ".py",
   "mimetype": "text/x-python",
   "name": "python",
   "nbconvert_exporter": "python",
   "pygments_lexer": "ipython3",
   "version": "3.9.18"
  }
 },
 "nbformat": 4,
 "nbformat_minor": 2
}
