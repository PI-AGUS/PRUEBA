{
 "cells": [
  {
   "cell_type": "code",
   "execution_count": 1,
   "metadata": {},
   "outputs": [],
   "source": [
    "import openmc\n",
    "import numpy as np\n",
    "import os\n",
    "import math\n",
    "import matplotlib.pyplot as plt\n",
    "import pandas as pd\n",
    "import kdsource as kds\n",
    "from mpl_toolkits.mplot3d import Axes3D as ax\n"
   ]
  },
  {
   "cell_type": "code",
   "execution_count": 2,
   "metadata": {},
   "outputs": [],
   "source": [
    "# openmc_data = \"/home/agusgimenez/KD_OPMC/Secciones/endfb-viii.0-hdf5/cross_sections.xml\"\n",
    "# os.environ[\"OPENMC_CROSS_SECTIONS\"] = openmc_data\n",
    "# openmc.config['cross_sections'] = openmc_data"
   ]
  },
  {
   "cell_type": "code",
   "execution_count": 3,
   "metadata": {},
   "outputs": [],
   "source": [
    "mat01 = openmc.Material(material_id=0) #agua\n",
    "mat01.add_nuclide('H1',2.000,'ao')\n",
    "mat01.add_nuclide('O16',0.9976,'ao')\n",
    "mat01.add_nuclide('O17',0.00035,'ao')\n",
    "mat01.add_s_alpha_beta('c_H_in_H2O')\n",
    "mat01.set_density('g/cm3',1.00)\n",
    "\n",
    "\n",
    "mat02 = openmc.Material(material_id=1)\n",
    "mat02.add_nuclide('Cd106',1.22,'ao')\n",
    "mat02.add_nuclide('Cd108',0.88,'ao')\n",
    "mat02.add_nuclide('Cd110',12.39,'ao')\n",
    "mat02.add_nuclide('Cd111',12.75,'ao')\n",
    "mat02.add_nuclide('Cd112',24.07,'ao')\n",
    "mat02.add_nuclide('Cd113',12.26,'ao')\n",
    "mat02.add_nuclide('Cd114',28.86,'ao')\n",
    "mat02.add_nuclide('Cd116',7.58,'ao')\n",
    "mat02.set_density('g/cm3',8.65)\n"
   ]
  },
  {
   "cell_type": "code",
   "execution_count": 4,
   "metadata": {},
   "outputs": [],
   "source": [
    "\n",
    "#bloque mat01\n",
    "W =5.0 #semi-ancho\n",
    "H =5.0 #semi-alto\n",
    "\n",
    "\n",
    "#bloque donde quiero ver la lista de particulas\n",
    "angle = math.radians(45)\n",
    "L = H/ (2 * math.tan(angle))\n",
    "# #bloque mat02\n",
    "# e_cd =1.0 #espesor\n",
    "# w_cd =0.1 #ancho de cada bloque\n",
    "# if w_cd>W/2:\n",
    "#     exit\n",
    "\n",
    "#FUENTE\n",
    "R = 1.0\n",
    "\n"
   ]
  },
  {
   "cell_type": "code",
   "execution_count": 5,
   "metadata": {},
   "outputs": [
    {
     "ename": "RuntimeError",
     "evalue": "No cross_sections.xml file was specified in materials.xml or in the OPENMC_CROSS_SECTIONS environment variable. OpenMC needs such a file to identify where to find data libraries. Please consult the user's guide at https://docs.openmc.org/ for information on how to set up data libraries. -------------------------------------------------------------------------- MPI_ABORT was invoked on rank 0 in communicator MPI_COMM_WORLD with errorcode -1. NOTE: invoking MPI_ABORT causes Open MPI to kill all MPI processes. You may or may not see output from other processes, depending on exactly when Open MPI kills them. --------------------------------------------------------------------------",
     "output_type": "error",
     "traceback": [
      "\u001b[0;31m---------------------------------------------------------------------------\u001b[0m",
      "\u001b[0;31mRuntimeError\u001b[0m                              Traceback (most recent call last)",
      "\u001b[1;32m/home/agusgimenez/KD_OPMC/PRUEBA/Prueba_Fuente/prueba_fuente.ipynb Cell 5\u001b[0m line \u001b[0;36m3\n\u001b[1;32m     <a href='vscode-notebook-cell:/home/agusgimenez/KD_OPMC/PRUEBA/Prueba_Fuente/prueba_fuente.ipynb#W5sZmlsZQ%3D%3D?line=26'>27</a>\u001b[0m cell01\u001b[39m.\u001b[39mregion \u001b[39m=\u001b[39m \u001b[39m+\u001b[39msurf1 \u001b[39m&\u001b[39m \u001b[39m-\u001b[39msurf6 \u001b[39m&\u001b[39m \u001b[39m+\u001b[39msurf2 \u001b[39m&\u001b[39m \u001b[39m-\u001b[39msurf5 \u001b[39m&\u001b[39m \u001b[39m+\u001b[39msurf3 \u001b[39m&\u001b[39m \u001b[39m-\u001b[39msurf4\n\u001b[1;32m     <a href='vscode-notebook-cell:/home/agusgimenez/KD_OPMC/PRUEBA/Prueba_Fuente/prueba_fuente.ipynb#W5sZmlsZQ%3D%3D?line=30'>31</a>\u001b[0m univ01 \u001b[39m=\u001b[39m openmc\u001b[39m.\u001b[39mUniverse(cells\u001b[39m=\u001b[39m[cell01],universe_id\u001b[39m=\u001b[39m\u001b[39m1\u001b[39m) \n\u001b[0;32m---> <a href='vscode-notebook-cell:/home/agusgimenez/KD_OPMC/PRUEBA/Prueba_Fuente/prueba_fuente.ipynb#W5sZmlsZQ%3D%3D?line=31'>32</a>\u001b[0m univ01\u001b[39m.\u001b[39;49mplot(origin\u001b[39m=\u001b[39;49m(\u001b[39m0.0\u001b[39;49m,\u001b[39m0.0\u001b[39;49m,L\u001b[39m/\u001b[39;49m\u001b[39m2\u001b[39;49m),width\u001b[39m=\u001b[39;49m(\u001b[39m4\u001b[39;49m\u001b[39m*\u001b[39;49mW,\u001b[39m4\u001b[39;49m\u001b[39m*\u001b[39;49mW))\n\u001b[1;32m     <a href='vscode-notebook-cell:/home/agusgimenez/KD_OPMC/PRUEBA/Prueba_Fuente/prueba_fuente.ipynb#W5sZmlsZQ%3D%3D?line=32'>33</a>\u001b[0m univ01\u001b[39m.\u001b[39mplot(origin\u001b[39m=\u001b[39m(\u001b[39m0.0\u001b[39m,\u001b[39m0.0\u001b[39m,L\u001b[39m/\u001b[39m\u001b[39m2\u001b[39m),width\u001b[39m=\u001b[39m(\u001b[39m4\u001b[39m\u001b[39m*\u001b[39mW,\u001b[39m4\u001b[39m\u001b[39m*\u001b[39mL),basis\u001b[39m=\u001b[39m\u001b[39m'\u001b[39m\u001b[39myz\u001b[39m\u001b[39m'\u001b[39m)\n\u001b[1;32m     <a href='vscode-notebook-cell:/home/agusgimenez/KD_OPMC/PRUEBA/Prueba_Fuente/prueba_fuente.ipynb#W5sZmlsZQ%3D%3D?line=33'>34</a>\u001b[0m univ01\u001b[39m.\u001b[39mplot(origin\u001b[39m=\u001b[39m(\u001b[39m0.0\u001b[39m,\u001b[39m0.0\u001b[39m,L\u001b[39m/\u001b[39m\u001b[39m2\u001b[39m),width\u001b[39m=\u001b[39m(\u001b[39m4\u001b[39m\u001b[39m*\u001b[39mW,\u001b[39m4\u001b[39m\u001b[39m*\u001b[39mL),basis\u001b[39m=\u001b[39m\u001b[39m'\u001b[39m\u001b[39mxz\u001b[39m\u001b[39m'\u001b[39m)\n",
      "File \u001b[0;32m~/anaconda3/envs/KD_OPMC/lib/python3.9/site-packages/openmc/universe.py:381\u001b[0m, in \u001b[0;36mUniverse.plot\u001b[0;34m(self, origin, width, pixels, basis, color_by, colors, seed, openmc_exec, axes, **kwargs)\u001b[0m\n\u001b[1;32m    378\u001b[0m model\u001b[39m.\u001b[39mplots\u001b[39m.\u001b[39mappend(plot)\n\u001b[1;32m    380\u001b[0m \u001b[39m# Run OpenMC in geometry plotting mode\u001b[39;00m\n\u001b[0;32m--> 381\u001b[0m model\u001b[39m.\u001b[39;49mplot_geometry(\u001b[39mFalse\u001b[39;49;00m, cwd\u001b[39m=\u001b[39;49mtmpdir, openmc_exec\u001b[39m=\u001b[39;49mopenmc_exec)\n\u001b[1;32m    383\u001b[0m \u001b[39m# Read image from file\u001b[39;00m\n\u001b[1;32m    384\u001b[0m img_path \u001b[39m=\u001b[39m Path(tmpdir) \u001b[39m/\u001b[39m \u001b[39mf\u001b[39m\u001b[39m'\u001b[39m\u001b[39mplot_\u001b[39m\u001b[39m{\u001b[39;00mplot\u001b[39m.\u001b[39mid\u001b[39m}\u001b[39;00m\u001b[39m.png\u001b[39m\u001b[39m'\u001b[39m\n",
      "File \u001b[0;32m~/anaconda3/envs/KD_OPMC/lib/python3.9/site-packages/openmc/model/model.py:818\u001b[0m, in \u001b[0;36mModel.plot_geometry\u001b[0;34m(self, output, cwd, openmc_exec)\u001b[0m\n\u001b[1;32m    816\u001b[0m \u001b[39melse\u001b[39;00m:\n\u001b[1;32m    817\u001b[0m     \u001b[39mself\u001b[39m\u001b[39m.\u001b[39mexport_to_xml()\n\u001b[0;32m--> 818\u001b[0m     openmc\u001b[39m.\u001b[39;49mplot_geometry(output\u001b[39m=\u001b[39;49moutput, openmc_exec\u001b[39m=\u001b[39;49mopenmc_exec)\n",
      "File \u001b[0;32m~/anaconda3/envs/KD_OPMC/lib/python3.9/site-packages/openmc/executor.py:154\u001b[0m, in \u001b[0;36mplot_geometry\u001b[0;34m(output, openmc_exec, cwd, path_input)\u001b[0m\n\u001b[1;32m    152\u001b[0m \u001b[39mif\u001b[39;00m path_input \u001b[39mis\u001b[39;00m \u001b[39mnot\u001b[39;00m \u001b[39mNone\u001b[39;00m:\n\u001b[1;32m    153\u001b[0m     args \u001b[39m+\u001b[39m\u001b[39m=\u001b[39m [path_input]\n\u001b[0;32m--> 154\u001b[0m _run(args, output, cwd)\n",
      "File \u001b[0;32m~/anaconda3/envs/KD_OPMC/lib/python3.9/site-packages/openmc/executor.py:125\u001b[0m, in \u001b[0;36m_run\u001b[0;34m(args, output, cwd)\u001b[0m\n\u001b[1;32m    122\u001b[0m     error_msg \u001b[39m=\u001b[39m \u001b[39m'\u001b[39m\u001b[39mOpenMC aborted unexpectedly.\u001b[39m\u001b[39m'\u001b[39m\n\u001b[1;32m    123\u001b[0m error_msg \u001b[39m=\u001b[39m \u001b[39m'\u001b[39m\u001b[39m \u001b[39m\u001b[39m'\u001b[39m\u001b[39m.\u001b[39mjoin(error_msg\u001b[39m.\u001b[39msplit())\n\u001b[0;32m--> 125\u001b[0m \u001b[39mraise\u001b[39;00m \u001b[39mRuntimeError\u001b[39;00m(error_msg)\n",
      "\u001b[0;31mRuntimeError\u001b[0m: No cross_sections.xml file was specified in materials.xml or in the OPENMC_CROSS_SECTIONS environment variable. OpenMC needs such a file to identify where to find data libraries. Please consult the user's guide at https://docs.openmc.org/ for information on how to set up data libraries. -------------------------------------------------------------------------- MPI_ABORT was invoked on rank 0 in communicator MPI_COMM_WORLD with errorcode -1. NOTE: invoking MPI_ABORT causes Open MPI to kill all MPI processes. You may or may not see output from other processes, depending on exactly when Open MPI kills them. --------------------------------------------------------------------------"
     ]
    }
   ],
   "source": [
    "\n",
    "#bloque mat01\n",
    "surf1 = openmc.XPlane(-W)\n",
    "surf1.boundary_type = 'vacuum'\n",
    "\n",
    "surf6 = openmc.XPlane(W)\n",
    "surf6.boundary_type = 'vacuum'\n",
    "\n",
    "surf2 = openmc.YPlane(-H)\n",
    "surf2.boundary_type = 'vacuum'\n",
    "\n",
    "surf5 = openmc.YPlane(H)\n",
    "surf5.boundary_type = 'vacuum'\n",
    "\n",
    "\n",
    "surf3 = openmc.ZPlane(0)\n",
    "surf3.boundary_type = 'vacuum'\n",
    "\n",
    "surf4 = openmc.ZPlane(L)\n",
    "surf4.boundary_type = 'vacuum'\n",
    "\n",
    "\n",
    "\n",
    "\n",
    "\n",
    "\n",
    "cell01 = openmc.Cell(fill=None,cell_id=1)\n",
    "cell01.region = +surf1 & -surf6 & +surf2 & -surf5 & +surf3 & -surf4\n",
    "\n",
    "\n",
    "\n",
    "univ01 = openmc.Universe(cells=[cell01],universe_id=1) \n",
    "univ01.plot(origin=(0.0,0.0,L/2),width=(4*W,4*W))\n",
    "univ01.plot(origin=(0.0,0.0,L/2),width=(4*W,4*L),basis='yz')\n",
    "univ01.plot(origin=(0.0,0.0,L/2),width=(4*W,4*L),basis='xz')\n",
    "\n",
    "\n",
    "\n",
    "\n",
    "\n",
    "\n"
   ]
  },
  {
   "cell_type": "code",
   "execution_count": null,
   "metadata": {},
   "outputs": [],
   "source": []
  }
 ],
 "metadata": {
  "kernelspec": {
   "display_name": "base",
   "language": "python",
   "name": "python3"
  },
  "language_info": {
   "codemirror_mode": {
    "name": "ipython",
    "version": 3
   },
   "file_extension": ".py",
   "mimetype": "text/x-python",
   "name": "python",
   "nbconvert_exporter": "python",
   "pygments_lexer": "ipython3",
   "version": "3.9.18"
  }
 },
 "nbformat": 4,
 "nbformat_minor": 2
}
